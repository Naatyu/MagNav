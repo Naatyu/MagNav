{
 "cells": [
  {
   "cell_type": "markdown",
   "id": "640053eb-f29d-49db-8aa3-c4a4e9107812",
   "metadata": {},
   "source": [
    "# About this Notebook"
   ]
  },
  {
   "cell_type": "markdown",
   "id": "aad73d86-da39-48dc-a41a-e2b91608c24e",
   "metadata": {},
   "source": [
    "The purpose of this notebook is to bring a first approach on the magnetic compensation of the carrier. In a first step, we realize a phase of exploration with the trajectory of the flights and the location of the different sections as well as some general information on the dataset. We will also see the different magnetic cards available and their differences.<br> \n",
    "We will also see the position of the diferent sensors in the plane to have an idea of their coverage. An animation is available to visualize the direction of the magnetic field measured by the vector magnetometers during the flight. An exploitation of the events during the flight is also realized to try to show a relation between the magnetic measurements and the different elements of the plane.<br>\n",
    "A first correction of the data will then be realized by showing the impact of these corrections. Then comes a last step of selection of the features for our model as well as some precautions to take with regard to the data available for training."
   ]
  },
  {
   "cell_type": "markdown",
   "id": "fb41d3e9-4882-4e00-b5ae-8cc18208b980",
   "metadata": {},
   "source": [
    "# Table of contents"
   ]
  },
  {
   "cell_type": "markdown",
   "id": "a2bb717f-d90c-4b2e-873e-99e93ab99212",
   "metadata": {},
   "source": [
    "* [0 - Dataset general informations](#0)\n",
    "    * [0.1 - Time, number of data and sampling frequency](#0.1)\n",
    "    * [0.2 - Flights datasets](#0.2)\n",
    "* [1 - Select a flight](#1)\n",
    "    * [1.1 - Flight number](#1.1)\n",
    "    * [1.2 - Flight section](#1.2)\n",
    "* [2 - Map view](#2)\n",
    "    * [2.1 - OpenStreetMap](#2.1)\n",
    "    * [2.2 - Magnetic anomaly maps](#2.2)\n",
    "        * [2.2.1 - What's a magnetic anomaly map ?](#2.2.1)\n",
    "        * [2.2.2 - Canada map](#2.2.2)\n",
    "        * [2.2.3 - Challenge maps](#2.2.3)\n",
    "        * [2.2.4 - World Magnetic Anomaly Map](#2.2.4)\n",
    "        * [2.2.5 - Map resolutions](#2.2.5)\n",
    "* [3 - Flight events](#3)\n",
    "    * [3.1 - Events during the selected section(s)](#3.1)\n",
    "    * [3.2 - Label creation for different events](#3.2)\n",
    "* [4 - Visualization of magnetic sensors position and direction](#4)"
   ]
  },
  {
   "cell_type": "markdown",
   "id": "52d9e544-da45-468f-be2e-402b842ce1ce",
   "metadata": {},
   "source": [
    "# Setup"
   ]
  },
  {
   "cell_type": "code",
   "execution_count": 1,
   "id": "501b726a-0a44-4937-95a3-770fbfd5f798",
   "metadata": {},
   "outputs": [
    {
     "name": "stdout",
     "output_type": "stream",
     "text": [
      "A:\\Documents\\GitHub\\MagNav\\notebooks\n",
      "A:\\Documents\\GitHub\\MagNav\n"
     ]
    }
   ],
   "source": [
    "import os\n",
    "# Move from notebooks to MagNav\n",
    "print(os.getcwd())\n",
    "os.chdir('../')\n",
    "print(os.getcwd())"
   ]
  },
  {
   "cell_type": "markdown",
   "id": "b516eba7-8c22-444d-b19d-74deec581ef2",
   "metadata": {},
   "source": [
    "# Import packages"
   ]
  },
  {
   "cell_type": "code",
   "execution_count": 2,
   "id": "54184cca-fc55-4998-bd7d-81b5a58ad6c5",
   "metadata": {
    "tags": []
   },
   "outputs": [],
   "source": [
    "import pandas as pd\n",
    "import numpy as np\n",
    "import ipywidgets as widgets\n",
    "from ipywidgets import Layout\n",
    "from IPython.display import display\n",
    "import matplotlib.pyplot as plt\n",
    "from matplotlib import image\n",
    "from ipyleaflet import Map, LocalTileLayer, Polyline, LegendControl, ScaleControl\n",
    "from scipy import signal\n",
    "\n",
    "import src.magnav as magnav"
   ]
  },
  {
   "cell_type": "markdown",
   "id": "59f696ff-0c7e-415f-907d-051c9d3fac10",
   "metadata": {},
   "source": [
    "# 0 - Dataset general informations <a class=\"anchor\" id = \"0\"></a>"
   ]
  },
  {
   "cell_type": "markdown",
   "id": "dd400d9f",
   "metadata": {},
   "source": [
    "This dataset has 4 different flights :\n",
    "- 1002 - Flight at 3000 meters of altitude. It includes the calibration flights as well as different elements aiming at disturbung the virtual dipole of the place\n",
    "- 1003 - Flight at 400/800 meters of altitude. The goal of this flight was to collect free flight data over several hours.\n",
    "- 1004 - Flight at 800 meters of altitude over Eastern free flight area. The goal of this flight is to create a high resolution map of the area.\n",
    "- 1005 - Same as flight 1004 with a higher altitude. Due to weather concern, data collection was split in 2.\n",
    "\n",
    "Each flight contains lines that are intended to segment the flight into different parts. We have a lot of differents measurements including magnetometers. Truth data here is __\"IGRFMAG1\"__, the magnetometer 1 at tail stinger compensated by SGL (Geological Survey company)."
   ]
  },
  {
   "cell_type": "code",
   "execution_count": 3,
   "id": "061beb4c-31aa-4160-8d08-3e3fc00b2580",
   "metadata": {
    "scrolled": true
   },
   "outputs": [
    {
     "name": "stdout",
     "output_type": "stream",
     "text": [
      "Flight : 1002 | Total flight time : 05h:45m:55s | Number of data collected : 207578 | Sampling frequency : 10.00Hz | Number of unique flight lines : 28\n",
      "Flight : 1003 | Total flight time : 04h:26m:42s | Number of data collected : 160030 | Sampling frequency : 10.00Hz | Number of unique flight lines : 10\n",
      "Flight : 1004 | Total flight time : 02h:15m:38s | Number of data collected : 81408 | Sampling frequency : 10.00Hz | Number of unique flight lines : 21\n",
      "Flight : 1005 | Total flight time : 02h:16m:12s | Number of data collected : 81731 | Sampling frequency : 10.00Hz | Number of unique flight lines : 10\n",
      "Flight : 1006 | Total flight time : 03h:00m:31s | Number of data collected : 108318 | Sampling frequency : 10.00Hz | Number of unique flight lines : 8\n",
      "Flight : 1007 | Total flight time : 03h:10m:50s | Number of data collected : 114506 | Sampling frequency : 10.00Hz | Number of unique flight lines : 6\n"
     ]
    }
   ],
   "source": [
    "# Import dataset\n",
    "flights_num = [2,3,4,5,6,7]\n",
    "flights = {}\n",
    "\n",
    "for n in flights_num:\n",
    "    df = pd.read_hdf('./data/processed/Flt_data.h5', key=f'Flt100{n}')\n",
    "    flights[n] = df\n",
    "\n",
    "# Extract sampling frequency, duration and number of data collected from the dataset\n",
    "for n in flights_num:\n",
    "    \n",
    "    lines = flights[n].LINE.unique()\n",
    "\n",
    "    total_duration  = 0\n",
    "    total_data      = 0\n",
    "    total_freq_samp = 0\n",
    "\n",
    "    for l in lines :\n",
    "        df_lines = pd.DataFrame()\n",
    "        mask     = (flights[n].LINE == l)\n",
    "        df_lines = pd.concat([df_lines,flights[n].loc[mask]],axis=0)\n",
    "\n",
    "        freq_samp = magnav.sampling_frequency(df_lines)\n",
    "        nb_data   = np.shape(df_lines)[0]\n",
    "        duration = nb_data*(1/freq_samp)\n",
    "\n",
    "        total_duration  += duration\n",
    "        total_data      += np.shape(df_lines)[0]\n",
    "        total_freq_samp += freq_samp/len(lines)\n",
    "        total_lines      = len(lines)\n",
    "\n",
    "    \n",
    "    print(f'Flight : 100{n} | Total flight time : {magnav.to_hms(total_duration)} | Number of data collected : {total_data} | Sampling frequency : {total_freq_samp:.2f}Hz | Number of unique flight lines : {total_lines}')\n",
    "    \n",
    "del df,lines,df_lines,mask"
   ]
  },
  {
   "cell_type": "markdown",
   "id": "f7bfe3ef-4e7c-4ff5-8b4a-7b94d90cff74",
   "metadata": {},
   "source": [
    "<font size=\"4\">Interpretation of results :</font><br>\n",
    "Due to the amount of data and the nature of the flights, the training and testing on flights 1002 and 1003 seems more relevant. Flights 1004 and 1005 are still relevant for data analysis."
   ]
  },
  {
   "cell_type": "markdown",
   "id": "6105a4e9-d263-44da-8e60-3560f9751bed",
   "metadata": {},
   "source": [
    "# 1 - Select a flight <a class=\"anchor\" id = \"1\"></a>"
   ]
  },
  {
   "cell_type": "markdown",
   "id": "80497152-5533-4921-9006-1249753a835e",
   "metadata": {},
   "source": [
    "To better understand the data, it is important to first visualize the trajectories. In the following cells, we can select the flight we are interested in and sections of the flight."
   ]
  },
  {
   "cell_type": "markdown",
   "id": "574273a0-3839-4e58-9cf3-68206c2454ad",
   "metadata": {},
   "source": [
    "## 1.1 - Flight number <a class=\"anchor\" id = \"1.1\"></a>"
   ]
  },
  {
   "cell_type": "code",
   "execution_count": 4,
   "id": "5c16a6e7-bf9a-4617-b75b-a9aa68942851",
   "metadata": {},
   "outputs": [
    {
     "data": {
      "application/vnd.jupyter.widget-view+json": {
       "model_id": "c03f962eb14c401691185961a51df6e4",
       "version_major": 2,
       "version_minor": 0
      },
      "text/plain": [
       "ToggleButtons(description='Load flight', index=5, options=(('1002', 2), ('1003', 3), ('1004', 4), ('1005', 5),…"
      ]
     },
     "metadata": {},
     "output_type": "display_data"
    }
   ],
   "source": [
    "# Create a widget to select the flight to load\n",
    "\n",
    "w_flight = widgets.ToggleButtons(\n",
    "    options=[('1002', 2), ('1003', 3), ('1004', 4), ('1005', 5), ('1006', 6), ('1007', 7)],\n",
    "    value=7,\n",
    "    description='Load flight')\n",
    "display(w_flight)"
   ]
  },
  {
   "cell_type": "code",
   "execution_count": 5,
   "id": "3ae47207-d7d8-47a3-90de-1f081322df8d",
   "metadata": {},
   "outputs": [],
   "source": [
    "df_sel_flight = flights[w_flight.value].copy()"
   ]
  },
  {
   "cell_type": "markdown",
   "id": "f8c0fcdd-0172-42b5-9b71-0a824e455b4e",
   "metadata": {},
   "source": [
    "## 1.2 - Flight section <a class=\"anchor\" id = \"1.2\"></a>"
   ]
  },
  {
   "cell_type": "code",
   "execution_count": 6,
   "id": "9c6f567f-47be-4c2b-a8b1-651d37ea0c5a",
   "metadata": {},
   "outputs": [
    {
     "data": {
      "application/vnd.jupyter.widget-view+json": {
       "model_id": "02a6f286e9e7411ea03a41ce071ce259",
       "version_major": 2,
       "version_minor": 0
      },
      "text/plain": [
       "SelectMultiple(description='Select line(s):', options=(1007.01, 1007.02, 1007.03, 1007.05, 1007.06, 1007.07), …"
      ]
     },
     "metadata": {},
     "output_type": "display_data"
    }
   ],
   "source": [
    "# Create a widget to select the line(s) of the selected flight\n",
    "\n",
    "w_lines = widgets.SelectMultiple(\n",
    "    options     = df_sel_flight.LINE.unique(),\n",
    "    description = 'Select line(s):',\n",
    "    disabled    = False)\n",
    "display(w_lines)"
   ]
  },
  {
   "cell_type": "code",
   "execution_count": 7,
   "id": "eea98d7e-7fa3-4003-8be2-d22fb44b2738",
   "metadata": {
    "scrolled": true,
    "tags": []
   },
   "outputs": [
    {
     "name": "stdout",
     "output_type": "stream",
     "text": [
      "Rows : 0 | Columns : 0 | Duration : 00h:00m:00s\n",
      "\n"
     ]
    }
   ],
   "source": [
    "# Extracting selected line(s) from the dataset\n",
    "\n",
    "df_sel_lines = pd.DataFrame()\n",
    "for line in w_lines.value:\n",
    "    mask     = (df_sel_flight.LINE == line)\n",
    "    df_sel_lines = pd.concat([df_sel_lines,df_sel_flight.loc[mask]],axis=0)\n",
    "\n",
    "duration = np.shape(df_sel_lines)[0]*(1/freq_samp)\n",
    "\n",
    "print(f'Rows : {np.shape(df_sel_lines)[0]} | Columns : {np.shape(df_sel_lines)[1]} | Duration : {magnav.to_hms(duration)}\\n')"
   ]
  },
  {
   "cell_type": "markdown",
   "id": "8e254a38-24fd-44c2-bdeb-0fd6d7ea8b50",
   "metadata": {},
   "source": [
    "# 2 - Map view <a class=\"anchor\" id = \"2\"></a>"
   ]
  },
  {
   "cell_type": "markdown",
   "id": "012bae5e",
   "metadata": {},
   "source": [
    "## 2.1 - OpenStreetMap <a class=\"anchor\" id = \"2.1\"></a>"
   ]
  },
  {
   "cell_type": "code",
   "execution_count": 8,
   "id": "9de09cb5",
   "metadata": {},
   "outputs": [
    {
     "data": {
      "application/vnd.jupyter.widget-view+json": {
       "model_id": "cce42ee1a9e14b0da0d8271230a60912",
       "version_major": 2,
       "version_minor": 0
      },
      "text/plain": [
       "Map(center=[45.1278, -75.512], controls=(ZoomControl(options=['position', 'zoom_in_text', 'zoom_in_title', 'zo…"
      ]
     },
     "metadata": {},
     "output_type": "display_data"
    }
   ],
   "source": [
    "# Does not work when internet is off with jupyter lab\n",
    "m = Map(center   = [45.1278, -75.5120],\n",
    "        zoom     = 8,\n",
    "        max_zoom = 12,\n",
    "        min_zoom = 8,\n",
    "        layout   = Layout(width='100%',height='800px'))\n",
    "\n",
    "legend = LegendControl({},name=\"Legend\",position=\"topright\")\n",
    "step = 10 \n",
    "for line in w_lines.value:\n",
    "    color = magnav.get_random_color()\n",
    "    mask = (df_sel_flight.LINE == line)\n",
    "    locations = (df_sel_flight\n",
    "                 .loc[mask,['LAT','LONG']][::step]\n",
    "                 .values\n",
    "                 .tolist())\n",
    "    pline = Polyline(\n",
    "        locations = locations,\n",
    "        color     = color,\n",
    "        fill      = False,\n",
    "        opacity   = 1)\n",
    "    m.add_layer(pline)\n",
    "    legend.add_legend_element(str(line),color)\n",
    "\n",
    "m.add_control(legend)\n",
    "m.add_control(ScaleControl(position='bottomleft'))\n",
    "m"
   ]
  },
  {
   "cell_type": "markdown",
   "id": "929b6189-1c75-4a1a-a378-62089439e514",
   "metadata": {},
   "source": [
    "## 2.2 - Magnetic anomaly maps <a class=\"anchor\" id = \"2.2\"></a>"
   ]
  },
  {
   "cell_type": "markdown",
   "id": "486eac9b-255b-45e5-8cd5-5e61eed3f4c1",
   "metadata": {},
   "source": [
    "### 2.2.1 - What's a magnetic anomaly map ? <a class=\"anchor\" id = \"2.2.1\"></a>"
   ]
  },
  {
   "cell_type": "markdown",
   "id": "8e800f17-8d2a-4ea8-b5ce-661dffb3b724",
   "metadata": {},
   "source": [
    "A magnetic anomaly is a local variation in the Earth's magnetic field resulting from variations in the chemistry or magnetism of the rocks. These anomalies are then put in the form of maps and can be used as reference for navigation.<br><br>\n",
    "![](../data/external/Images/WDMAM.png)"
   ]
  },
  {
   "cell_type": "code",
   "execution_count": 9,
   "id": "c0c1049b-9524-428a-b70d-6c0152dfd108",
   "metadata": {},
   "outputs": [],
   "source": [
    "# Load anomaly maps\n",
    "\n",
    "EasternMap = magnav.ChallMagMap('data/raw/Eastern_2.h5')\n",
    "RenfrewMap = magnav.ChallMagMap('data/raw/Renfrew_2.h5')\n",
    "GscMap     = magnav.ChallMagMap('data/external/Canada_MAG_RES_200m.hdf5')\n",
    "WDMAM      = magnav.ChallMagMap('data/external/map_WDMAM.hdf5')"
   ]
  },
  {
   "cell_type": "markdown",
   "id": "e95155fb",
   "metadata": {},
   "source": [
    "### 2.2.2 - Canada map <a class=\"anchor\" id = \"2.2.2\"></a>"
   ]
  },
  {
   "cell_type": "code",
   "execution_count": 10,
   "id": "14ddba81-9222-4439-9aaa-3c0a5a981ca1",
   "metadata": {},
   "outputs": [
    {
     "ename": "KeyError",
     "evalue": "'UTM_X'",
     "output_type": "error",
     "traceback": [
      "\u001b[1;31m---------------------------------------------------------------------------\u001b[0m",
      "\u001b[1;31mKeyError\u001b[0m                                  Traceback (most recent call last)",
      "\u001b[1;32mc:\\users\\natha\\appdata\\local\\programs\\python\\python38\\lib\\site-packages\\pandas\\core\\indexes\\base.py\u001b[0m in \u001b[0;36mget_loc\u001b[1;34m(self, key, method, tolerance)\u001b[0m\n\u001b[0;32m   3620\u001b[0m             \u001b[1;32mtry\u001b[0m\u001b[1;33m:\u001b[0m\u001b[1;33m\u001b[0m\u001b[1;33m\u001b[0m\u001b[0m\n\u001b[1;32m-> 3621\u001b[1;33m                 \u001b[1;32mreturn\u001b[0m \u001b[0mself\u001b[0m\u001b[1;33m.\u001b[0m\u001b[0m_engine\u001b[0m\u001b[1;33m.\u001b[0m\u001b[0mget_loc\u001b[0m\u001b[1;33m(\u001b[0m\u001b[0mcasted_key\u001b[0m\u001b[1;33m)\u001b[0m\u001b[1;33m\u001b[0m\u001b[1;33m\u001b[0m\u001b[0m\n\u001b[0m\u001b[0;32m   3622\u001b[0m             \u001b[1;32mexcept\u001b[0m \u001b[0mKeyError\u001b[0m \u001b[1;32mas\u001b[0m \u001b[0merr\u001b[0m\u001b[1;33m:\u001b[0m\u001b[1;33m\u001b[0m\u001b[1;33m\u001b[0m\u001b[0m\n",
      "\u001b[1;32mc:\\users\\natha\\appdata\\local\\programs\\python\\python38\\lib\\site-packages\\pandas\\_libs\\index.pyx\u001b[0m in \u001b[0;36mpandas._libs.index.IndexEngine.get_loc\u001b[1;34m()\u001b[0m\n",
      "\u001b[1;32mc:\\users\\natha\\appdata\\local\\programs\\python\\python38\\lib\\site-packages\\pandas\\_libs\\index.pyx\u001b[0m in \u001b[0;36mpandas._libs.index.IndexEngine.get_loc\u001b[1;34m()\u001b[0m\n",
      "\u001b[1;32mpandas\\_libs\\hashtable_class_helper.pxi\u001b[0m in \u001b[0;36mpandas._libs.hashtable.PyObjectHashTable.get_item\u001b[1;34m()\u001b[0m\n",
      "\u001b[1;32mpandas\\_libs\\hashtable_class_helper.pxi\u001b[0m in \u001b[0;36mpandas._libs.hashtable.PyObjectHashTable.get_item\u001b[1;34m()\u001b[0m\n",
      "\u001b[1;31mKeyError\u001b[0m: 'UTM_X'",
      "\nThe above exception was the direct cause of the following exception:\n",
      "\u001b[1;31mKeyError\u001b[0m                                  Traceback (most recent call last)",
      "\u001b[1;32m~\\AppData\\Local\\Temp/ipykernel_2292/1111471543.py\u001b[0m in \u001b[0;36m<module>\u001b[1;34m\u001b[0m\n\u001b[0;32m      1\u001b[0m \u001b[0mfig\u001b[0m\u001b[1;33m,\u001b[0m \u001b[0max\u001b[0m \u001b[1;33m=\u001b[0m \u001b[0mplt\u001b[0m\u001b[1;33m.\u001b[0m\u001b[0msubplots\u001b[0m\u001b[1;33m(\u001b[0m\u001b[0mfigsize\u001b[0m\u001b[1;33m=\u001b[0m\u001b[1;33m[\u001b[0m\u001b[1;36m12\u001b[0m\u001b[1;33m,\u001b[0m\u001b[1;36m10\u001b[0m\u001b[1;33m]\u001b[0m\u001b[1;33m)\u001b[0m\u001b[1;33m\u001b[0m\u001b[1;33m\u001b[0m\u001b[0m\n\u001b[1;32m----> 2\u001b[1;33m \u001b[0mdf_sel_lines\u001b[0m\u001b[1;33m.\u001b[0m\u001b[0mplot\u001b[0m\u001b[1;33m(\u001b[0m\u001b[0mx\u001b[0m\u001b[1;33m=\u001b[0m\u001b[1;34m'UTM_X'\u001b[0m\u001b[1;33m,\u001b[0m \u001b[0my\u001b[0m\u001b[1;33m=\u001b[0m\u001b[1;34m'UTM_Y'\u001b[0m\u001b[1;33m,\u001b[0m \u001b[0mcolor\u001b[0m\u001b[1;33m=\u001b[0m\u001b[1;34m'black'\u001b[0m\u001b[1;33m,\u001b[0m\u001b[0mlegend\u001b[0m\u001b[1;33m=\u001b[0m\u001b[1;32mFalse\u001b[0m\u001b[1;33m,\u001b[0m \u001b[0max\u001b[0m\u001b[1;33m=\u001b[0m\u001b[0max\u001b[0m\u001b[1;33m)\u001b[0m\u001b[1;33m\u001b[0m\u001b[1;33m\u001b[0m\u001b[0m\n\u001b[0m\u001b[0;32m      3\u001b[0m \u001b[0max\u001b[0m \u001b[1;33m=\u001b[0m \u001b[0mGscMap\u001b[0m\u001b[1;33m.\u001b[0m\u001b[0mplot\u001b[0m\u001b[1;33m(\u001b[0m\u001b[0max\u001b[0m\u001b[1;33m,\u001b[0m \u001b[0mplot_city\u001b[0m\u001b[1;33m=\u001b[0m\u001b[1;32mTrue\u001b[0m\u001b[1;33m)\u001b[0m\u001b[1;33m\u001b[0m\u001b[1;33m\u001b[0m\u001b[0m\n\u001b[0;32m      4\u001b[0m \u001b[0max\u001b[0m\u001b[1;33m.\u001b[0m\u001b[0mset_title\u001b[0m\u001b[1;33m(\u001b[0m\u001b[1;34mf'Map : Geological survey of Canada, {GscMap.alt}m above the WGS84 ellipsoid, Filght {w_flight.value} in black'\u001b[0m\u001b[1;33m,\u001b[0m\u001b[0mpad\u001b[0m\u001b[1;33m=\u001b[0m\u001b[1;36m20\u001b[0m\u001b[1;33m)\u001b[0m\u001b[1;33m;\u001b[0m\u001b[1;33m\u001b[0m\u001b[1;33m\u001b[0m\u001b[0m\n\u001b[0;32m      5\u001b[0m \u001b[0max\u001b[0m\u001b[1;33m.\u001b[0m\u001b[0mset_xlim\u001b[0m\u001b[1;33m(\u001b[0m\u001b[1;36m3e5\u001b[0m\u001b[1;33m,\u001b[0m \u001b[1;36m5e5\u001b[0m\u001b[1;33m)\u001b[0m\u001b[1;33m\u001b[0m\u001b[1;33m\u001b[0m\u001b[0m\n",
      "\u001b[1;32mc:\\users\\natha\\appdata\\local\\programs\\python\\python38\\lib\\site-packages\\pandas\\plotting\\_core.py\u001b[0m in \u001b[0;36m__call__\u001b[1;34m(self, *args, **kwargs)\u001b[0m\n\u001b[0;32m    935\u001b[0m                 \u001b[1;32mif\u001b[0m \u001b[0mis_integer\u001b[0m\u001b[1;33m(\u001b[0m\u001b[0mx\u001b[0m\u001b[1;33m)\u001b[0m \u001b[1;32mand\u001b[0m \u001b[1;32mnot\u001b[0m \u001b[0mdata\u001b[0m\u001b[1;33m.\u001b[0m\u001b[0mcolumns\u001b[0m\u001b[1;33m.\u001b[0m\u001b[0mholds_integer\u001b[0m\u001b[1;33m(\u001b[0m\u001b[1;33m)\u001b[0m\u001b[1;33m:\u001b[0m\u001b[1;33m\u001b[0m\u001b[1;33m\u001b[0m\u001b[0m\n\u001b[0;32m    936\u001b[0m                     \u001b[0mx\u001b[0m \u001b[1;33m=\u001b[0m \u001b[0mdata_cols\u001b[0m\u001b[1;33m[\u001b[0m\u001b[0mx\u001b[0m\u001b[1;33m]\u001b[0m\u001b[1;33m\u001b[0m\u001b[1;33m\u001b[0m\u001b[0m\n\u001b[1;32m--> 937\u001b[1;33m                 \u001b[1;32melif\u001b[0m \u001b[1;32mnot\u001b[0m \u001b[0misinstance\u001b[0m\u001b[1;33m(\u001b[0m\u001b[0mdata\u001b[0m\u001b[1;33m[\u001b[0m\u001b[0mx\u001b[0m\u001b[1;33m]\u001b[0m\u001b[1;33m,\u001b[0m \u001b[0mABCSeries\u001b[0m\u001b[1;33m)\u001b[0m\u001b[1;33m:\u001b[0m\u001b[1;33m\u001b[0m\u001b[1;33m\u001b[0m\u001b[0m\n\u001b[0m\u001b[0;32m    938\u001b[0m                     \u001b[1;32mraise\u001b[0m \u001b[0mValueError\u001b[0m\u001b[1;33m(\u001b[0m\u001b[1;34m\"x must be a label or position\"\u001b[0m\u001b[1;33m)\u001b[0m\u001b[1;33m\u001b[0m\u001b[1;33m\u001b[0m\u001b[0m\n\u001b[0;32m    939\u001b[0m                 \u001b[0mdata\u001b[0m \u001b[1;33m=\u001b[0m \u001b[0mdata\u001b[0m\u001b[1;33m.\u001b[0m\u001b[0mset_index\u001b[0m\u001b[1;33m(\u001b[0m\u001b[0mx\u001b[0m\u001b[1;33m)\u001b[0m\u001b[1;33m\u001b[0m\u001b[1;33m\u001b[0m\u001b[0m\n",
      "\u001b[1;32mc:\\users\\natha\\appdata\\local\\programs\\python\\python38\\lib\\site-packages\\pandas\\core\\frame.py\u001b[0m in \u001b[0;36m__getitem__\u001b[1;34m(self, key)\u001b[0m\n\u001b[0;32m   3504\u001b[0m             \u001b[1;32mif\u001b[0m \u001b[0mself\u001b[0m\u001b[1;33m.\u001b[0m\u001b[0mcolumns\u001b[0m\u001b[1;33m.\u001b[0m\u001b[0mnlevels\u001b[0m \u001b[1;33m>\u001b[0m \u001b[1;36m1\u001b[0m\u001b[1;33m:\u001b[0m\u001b[1;33m\u001b[0m\u001b[1;33m\u001b[0m\u001b[0m\n\u001b[0;32m   3505\u001b[0m                 \u001b[1;32mreturn\u001b[0m \u001b[0mself\u001b[0m\u001b[1;33m.\u001b[0m\u001b[0m_getitem_multilevel\u001b[0m\u001b[1;33m(\u001b[0m\u001b[0mkey\u001b[0m\u001b[1;33m)\u001b[0m\u001b[1;33m\u001b[0m\u001b[1;33m\u001b[0m\u001b[0m\n\u001b[1;32m-> 3506\u001b[1;33m             \u001b[0mindexer\u001b[0m \u001b[1;33m=\u001b[0m \u001b[0mself\u001b[0m\u001b[1;33m.\u001b[0m\u001b[0mcolumns\u001b[0m\u001b[1;33m.\u001b[0m\u001b[0mget_loc\u001b[0m\u001b[1;33m(\u001b[0m\u001b[0mkey\u001b[0m\u001b[1;33m)\u001b[0m\u001b[1;33m\u001b[0m\u001b[1;33m\u001b[0m\u001b[0m\n\u001b[0m\u001b[0;32m   3507\u001b[0m             \u001b[1;32mif\u001b[0m \u001b[0mis_integer\u001b[0m\u001b[1;33m(\u001b[0m\u001b[0mindexer\u001b[0m\u001b[1;33m)\u001b[0m\u001b[1;33m:\u001b[0m\u001b[1;33m\u001b[0m\u001b[1;33m\u001b[0m\u001b[0m\n\u001b[0;32m   3508\u001b[0m                 \u001b[0mindexer\u001b[0m \u001b[1;33m=\u001b[0m \u001b[1;33m[\u001b[0m\u001b[0mindexer\u001b[0m\u001b[1;33m]\u001b[0m\u001b[1;33m\u001b[0m\u001b[1;33m\u001b[0m\u001b[0m\n",
      "\u001b[1;32mc:\\users\\natha\\appdata\\local\\programs\\python\\python38\\lib\\site-packages\\pandas\\core\\indexes\\base.py\u001b[0m in \u001b[0;36mget_loc\u001b[1;34m(self, key, method, tolerance)\u001b[0m\n\u001b[0;32m   3621\u001b[0m                 \u001b[1;32mreturn\u001b[0m \u001b[0mself\u001b[0m\u001b[1;33m.\u001b[0m\u001b[0m_engine\u001b[0m\u001b[1;33m.\u001b[0m\u001b[0mget_loc\u001b[0m\u001b[1;33m(\u001b[0m\u001b[0mcasted_key\u001b[0m\u001b[1;33m)\u001b[0m\u001b[1;33m\u001b[0m\u001b[1;33m\u001b[0m\u001b[0m\n\u001b[0;32m   3622\u001b[0m             \u001b[1;32mexcept\u001b[0m \u001b[0mKeyError\u001b[0m \u001b[1;32mas\u001b[0m \u001b[0merr\u001b[0m\u001b[1;33m:\u001b[0m\u001b[1;33m\u001b[0m\u001b[1;33m\u001b[0m\u001b[0m\n\u001b[1;32m-> 3623\u001b[1;33m                 \u001b[1;32mraise\u001b[0m \u001b[0mKeyError\u001b[0m\u001b[1;33m(\u001b[0m\u001b[0mkey\u001b[0m\u001b[1;33m)\u001b[0m \u001b[1;32mfrom\u001b[0m \u001b[0merr\u001b[0m\u001b[1;33m\u001b[0m\u001b[1;33m\u001b[0m\u001b[0m\n\u001b[0m\u001b[0;32m   3624\u001b[0m             \u001b[1;32mexcept\u001b[0m \u001b[0mTypeError\u001b[0m\u001b[1;33m:\u001b[0m\u001b[1;33m\u001b[0m\u001b[1;33m\u001b[0m\u001b[0m\n\u001b[0;32m   3625\u001b[0m                 \u001b[1;31m# If we have a listlike key, _check_indexing_error will raise\u001b[0m\u001b[1;33m\u001b[0m\u001b[1;33m\u001b[0m\u001b[1;33m\u001b[0m\u001b[0m\n",
      "\u001b[1;31mKeyError\u001b[0m: 'UTM_X'"
     ]
    },
    {
     "data": {
      "image/png": "[encoded data removed]",
      "text/plain": [
       "<Figure size 864x720 with 1 Axes>"
      ]
     },
     "metadata": {
      "needs_background": "light"
     },
     "output_type": "display_data"
    }
   ],
   "source": [
    "fig, ax = plt.subplots(figsize=[12,10])\n",
    "df_sel_lines.plot(x='UTM_X', y='UTM_Y', color='black',legend=False, ax=ax)\n",
    "ax = GscMap.plot(ax, plot_city=True)\n",
    "ax.set_title(f'Map : Geological survey of Canada, {GscMap.alt}m above the WGS84 ellipsoid, Filght {w_flight.value} in black',pad=20);\n",
    "ax.set_xlim(3e5, 5e5)\n",
    "ax.set_ylim(4.90e6, 5.1e6)\n",
    "plt.show()"
   ]
  },
  {
   "cell_type": "markdown",
   "id": "23fbd6ed",
   "metadata": {},
   "source": [
    "### 2.2.3 - Challenge maps <a class=\"anchor\" id = \"2.2.3\"></a>"
   ]
  },
  {
   "cell_type": "code",
   "execution_count": null,
   "id": "4b37d157-8659-438f-90f3-1c37bd911ba3",
   "metadata": {
    "tags": []
   },
   "outputs": [],
   "source": [
    "fig, (ax1, ax2) = plt.subplots(1,2,sharex=True,sharey=True,figsize=[25,10])\n",
    "\n",
    "df_sel_lines.plot(x='UTM_X', y='UTM_Y', color='black',legend=False, ax=ax1)\n",
    "ax1 = EasternMap.plot(ax1,plot_city=True)\n",
    "ax1.set_title(f'Map : Eastern, {EasternMap.alt}m above the WGS84 ellipsoid, Filght {w_flight.value} in black',pad=20);\n",
    "\n",
    "df_sel_lines.plot(x='UTM_X', y='UTM_Y', color='black',legend=False, ax=ax2)\n",
    "ax2 = RenfrewMap.plot(ax2, plot_city=True)\n",
    "ax2.set_title(f'Map : Renfrew, {RenfrewMap.alt}m above the WGS84 ellipsoid, Filght {w_flight.value} in black',pad=20);\n",
    "\n",
    "plt.show()"
   ]
  },
  {
   "cell_type": "markdown",
   "id": "3c358b41-a164-47ec-a6c1-e8635a87116d",
   "metadata": {},
   "source": [
    "### 2.2.4 - World Digital Magnetic Anomaly Map <a class=\"anchor\" id = \"2.2.4\"></a>"
   ]
  },
  {
   "cell_type": "code",
   "execution_count": null,
   "id": "3c810c9e-cbc5-44da-b280-74f4f13acb1b",
   "metadata": {},
   "outputs": [],
   "source": [
    "fig, ax = plt.subplots(figsize=[12,10])\n",
    "\n",
    "df_sel_lines.plot(x='UTM_X', y='UTM_Y', color='black',legend=False, ax=ax)\n",
    "ax = WDMAM.plot(ax, plot_city=True)\n",
    "ax.set_title(f'Map : World Digital Magnetic Anomaly Map, {WDMAM.alt}m above the WGS84 ellipsoid, Filght {w_flight.value} in black',pad=20);\n",
    "\n",
    "plt.show()"
   ]
  },
  {
   "cell_type": "markdown",
   "id": "c6ff7783-fbd2-43a1-a04f-0dfdadb37166",
   "metadata": {},
   "source": [
    "### 2.2.5 - Map resolutions <a class=\"anchor\" id = \"2.2.5\"></a>"
   ]
  },
  {
   "cell_type": "markdown",
   "id": "86296c8a-7d47-41e0-98ce-d5d19affc798",
   "metadata": {},
   "source": [
    "The goal is to compare the accuracy between anomaly maps and truth data and see the impact of map accuracy. In this dataset, we have the truth thanks to a magnetometer on a pole. However in most experiments this is not the case (same for navigation) and so the way to get truth is from magnetic anomaly maps.\n",
    "We have 4 different maps available :\n",
    "- Anomaly map of Canada (mid resolution)\n",
    "- Anomaly map of Renfrew (high resolution)\n",
    "- Anomaly map of Eastern Renfrew, south of Ottawa (high resolution)\n",
    "- World Digital Magnetic Anomaly Map (low resolution)"
   ]
  },
  {
   "cell_type": "code",
   "execution_count": null,
   "id": "7e459bdd-5793-4ac8-ad17-02c80bb7c2a9",
   "metadata": {},
   "outputs": [],
   "source": [
    "df_maps = pd.DataFrame()\n",
    "\n",
    "# Interpolation of anomaly maps\n",
    "df_maps['IGRFMAG1']    = df_sel_flight['IGRFMAG1'].copy()\n",
    "df_maps['GSC_map']     = GscMap.interpolate(df_sel_flight.UTM_X, df_sel_flight.UTM_Y)\n",
    "df_maps['Eastern_map'] = EasternMap.interpolate(df_sel_flight.UTM_X, df_sel_flight.UTM_Y)\n",
    "df_maps['Renfrew_map'] = RenfrewMap.interpolate(df_sel_flight.UTM_X, df_sel_flight.UTM_Y)\n",
    "df_maps['WDMAM_map']   = WDMAM.interpolate(df_sel_flight.UTM_X, df_sel_flight.UTM_Y)\n",
    "\n",
    "# Remove linear trend\n",
    "df_maps['IGRFMAG1']    = signal.detrend(df_maps['IGRFMAG1'])\n",
    "df_maps['WDMAM_map']   = signal.detrend(df_maps['WDMAM_map'])\n",
    "df_maps['Eastern_map'] = signal.detrend(df_maps['Eastern_map'])\n",
    "df_maps['Renfrew_map'] = signal.detrend(df_maps['Renfrew_map'])\n",
    "df_maps['GSC_map']     = signal.detrend(df_maps['GSC_map'])\n",
    "\n",
    "# Calculate error between truth data and anomaly maps\n",
    "GSC_map_error     = (df_maps['IGRFMAG1']-df_maps['GSC_map'])\n",
    "Eastern_map_error = (df_maps['IGRFMAG1']-df_maps['Eastern_map'])\n",
    "Renfrew_map_error = (df_maps['IGRFMAG1']-df_maps['Renfrew_map'])\n",
    "WDMAM_map_error   = (df_maps['IGRFMAG1']-df_maps['WDMAM_map'])\n",
    "\n",
    "# Calculate RMSE between truth data and anomaly maps\n",
    "GSC_map_rmse      = magnav.rmse(df_maps['GSC_map'],df_maps['IGRFMAG1'])\n",
    "WDMAM_map_rmse    = magnav.rmse(df_maps['WDMAM_map'],df_maps['IGRFMAG1'])\n",
    "\n",
    "# Fusion of Eastern and Renfrew maps\n",
    "East_Ren_map = df_maps['Eastern_map'].where(np.abs(Eastern_map_error)<np.abs(Renfrew_map_error))\n",
    "df_maps['East_Ren_map'] = East_Ren_map.fillna(df_maps['Renfrew_map'])\n",
    "East_Ren_map_error = (df_maps['IGRFMAG1']-df_maps['East_Ren_map'])\n",
    "East_Ren_map_rmse = magnav.rmse(df_maps['East_Ren_map'],df_maps['IGRFMAG1'])\n",
    "\n",
    "# Plot results\n",
    "plt.figure(figsize=[25,10])\n",
    "ax1 = plt.subplot(3,2,2)\n",
    "ax2 = plt.subplot(3,2,4)\n",
    "ax3 = plt.subplot(3,2,6)\n",
    "ax4 = plt.subplot(1,2,1)\n",
    "\n",
    "ax4.plot(df_maps['IGRFMAG1'],'C0',linewidth=2)\n",
    "ax4.plot(df_maps['GSC_map'],'C1:')\n",
    "ax4.plot(df_maps['East_Ren_map'],'C2--')\n",
    "ax4.plot(df_maps['WDMAM_map'],'C3')\n",
    "ax4.legend(['Truth','Geological Survey of Canada','Eastern+Renfrew map','WDMAM'],loc='upper left')\n",
    "ax4.set_title(f'Anomaly maps values for flight 100{w_flight.value} over 1500s')\n",
    "ax4.set_ylabel('[nT]'), ax4.set_xlabel('Time [s]')\n",
    "ax4.axes.set_xlim(left=df_maps.index[0], right=df_maps.index[0]+1500)\n",
    "ax4.grid()\n",
    "\n",
    "ax1.plot(GSC_map_error,'C1'),ax2.plot(East_Ren_map_error,'C2'), ax3.plot(WDMAM_map_error,'C3')\n",
    "\n",
    "# RMSE box\n",
    "ax1.text(df_maps.index[0]+80,2150,f'RMSE={GSC_map_rmse:.2f}nT',fontsize=12,bbox=dict(facecolor = 'C1',alpha=0.6))\n",
    "ax2.text(df_maps.index[0]+80,2150,f'RMSE={East_Ren_map_rmse:.2f}nT',fontsize=12,bbox=dict(facecolor = 'C2',alpha=0.6))\n",
    "ax3.text(df_maps.index[0]+80,2150,f'RMSE={WDMAM_map_rmse:.2f}nT',fontsize=12,bbox=dict(facecolor = 'C3',alpha=0.6))\n",
    "\n",
    "ax1.set_title(f'True Error between truth and anomaly maps for flight 100{w_flight.value}')\n",
    "ax1.set_ylabel('[nT]'), ax2.set_ylabel('[nT]'), ax3.set_ylabel('[nT]'), ax3.set_xlabel('Time [s]')\n",
    "ax1.axes.set_ylim(bottom=-1500, top=2500), ax2.axes.set_ylim(bottom=-1500, top=2500), ax3.axes.set_ylim(bottom=-1500, top=2500)\n",
    "ax1.axes.set_xlim(left=df_maps.index[0], right=df_maps.index[-1]), ax2.axes.set_xlim(left=df_maps.index[0], right=df_maps.index[-1]), ax3.axes.set_xlim(left=df_maps.index[0], right=df_maps.index[-1])\n",
    "ax1.legend(['Geoligical survey of canada']), ax2.legend(['Eastern+Renfrew map']), ax3.legend(['WDMAM'])\n",
    "ax1.grid(), ax2.grid(), ax3.grid()\n",
    "plt.show()"
   ]
  },
  {
   "cell_type": "markdown",
   "id": "9394d3da-0fd4-4990-af1d-d4cc5700fad8",
   "metadata": {},
   "source": [
    "<font size=\"4\">Interpretation of results :</font><br>\n",
    "As we can see higher resolution are closer from truth data than lower resolution maps. If we want to use maps as truth data to train a ML model we will need a high resolution map."
   ]
  },
  {
   "cell_type": "markdown",
   "id": "cb6d42e7-024c-4d92-ab64-a0bf05e7e5b1",
   "metadata": {},
   "source": [
    "# 3 - Flight events <a class=\"anchor\" id = \"3\"></a>"
   ]
  },
  {
   "cell_type": "markdown",
   "id": "b24a4eb3-176f-4841-b550-8c24d9bc6f8d",
   "metadata": {},
   "source": [
    "We have access to evenements that happened during the flight. These events can be used to highlight relationships between the environment or certain elements of the aircraft and the magnetic measurements."
   ]
  },
  {
   "cell_type": "markdown",
   "id": "72cd9ab5-b711-44a5-9f79-099769ed138e",
   "metadata": {},
   "source": [
    "## 3.1 - Events during the selected section(s) <a class=\"anchor\" id = \"3.1\"></a>"
   ]
  },
  {
   "cell_type": "code",
   "execution_count": null,
   "id": "c6feb710-2f2a-4255-9445-10bc9ebd70ad",
   "metadata": {
    "tags": []
   },
   "outputs": [],
   "source": [
    "line_df = pd.read_csv(f'data/processed/readmes/Flight_100{w_flight.value}/Flt100{w_flight.value}-lines.csv')\n",
    "coms_df = pd.read_csv(f'data/processed/readmes/Flight_100{w_flight.value}/Flt100{w_flight.value}-comments.csv')\n",
    "sel_lines_df = pd.DataFrame()\n",
    "sel_coms_df  = pd.DataFrame()\n",
    "\n",
    "for n in range(len(w_lines.value)):\n",
    "    df_concat = line_df.loc[line_df['Line Number'] == w_lines.value[n]]\n",
    "    sel_lines_df = pd.concat([sel_lines_df,df_concat])\n",
    "\n",
    "print(sel_lines_df.to_string(index=False),'\\n')\n",
    "\n",
    "for n in range(len(w_lines.value)):\n",
    "    df_concat = coms_df.loc[coms_df['Line Number'] == w_lines.value[n]]\n",
    "    sel_coms_df = pd.concat([sel_coms_df,df_concat])\n",
    "\n",
    "print(sel_coms_df.to_string(index=False))\n",
    "\n",
    "del line_df, coms_df"
   ]
  },
  {
   "cell_type": "markdown",
   "id": "2fcefa20-cc62-4fff-a22b-e903cc10e6e3",
   "metadata": {},
   "source": [
    "## 3.2 - Label creation for different events <a class=\"anchor\" id = \"3.2\"></a>"
   ]
  },
  {
   "cell_type": "code",
   "execution_count": null,
   "id": "d6cafa17-9daa-4a1d-b4aa-0343bbddc24d",
   "metadata": {},
   "outputs": [],
   "source": [
    "# TODO : Create Label for training"
   ]
  },
  {
   "cell_type": "markdown",
   "id": "899f8381-184c-4260-aac6-50e85b831859",
   "metadata": {},
   "source": [
    "# 4 - Visualization of magnetic sensors position and direction <a class=\"anchor\" id = \"4\"></a>"
   ]
  },
  {
   "cell_type": "markdown",
   "id": "2efe585d-05d9-45bc-a821-289cff372233",
   "metadata": {},
   "source": [
    "The magnetometers are the main elements of this project and for that it is important to know where they are placed in the aircraft. It is expected that the position plays a role on the magnetic field measurements as well as the elements located near the magnetometers. There are 2 types of magnetic sensors :\n",
    "- 5 Scalar magnetometers ~ optically-pumped ,cesium split-beam named Mag 1/2/3/4/5\n",
    "- 3 Vector fluxgate magnetometers ~ named Flux B/C/D\n",
    "\n",
    "We have below a representation of their position in the plane as well as the possibility to vary the time to see the direction of the magnetic field measured by the vector magnetometers. The origin correspond to front seat rail."
   ]
  },
  {
   "cell_type": "code",
   "execution_count": null,
   "id": "a54d411b-3a9f-4477-9c34-b872f297b7dd",
   "metadata": {},
   "outputs": [],
   "source": [
    "def plot_mag(time):\n",
    "    # Scalar magnetometers position\n",
    "    Scal_mag = np.array([[-12.01,0,1.37],\n",
    "                        [-0.60,-0.36,0],\n",
    "                        [-1.28,-0.36,0],\n",
    "                        [-3.53,0,0],\n",
    "                        [-3.79,0,1.20]])\n",
    "\n",
    "    # Vector magnetometers position\n",
    "    Vect_mag = np.array([[-8.92,0,0.96],\n",
    "                         [-4.06,0.42,0],\n",
    "                         [-4.06,-0.42,0]])\n",
    "\n",
    "    fig = plt.figure(figsize=[15,15])\n",
    "    ax  = fig.add_subplot(projection='3d')\n",
    "\n",
    "    # Plot scalar magnetometers position\n",
    "    for n in range(5):\n",
    "        ax.scatter(Scal_mag[n][0],Scal_mag[n][1],Scal_mag[n][2],color='red',marker='^')\n",
    "        ax.text(Scal_mag[n][0],Scal_mag[n][1],Scal_mag[n][2],str(n+1))\n",
    "\n",
    "    # Plot vector magnetometers position\n",
    "    for n in range(3):\n",
    "        name = ['B','C','D']\n",
    "        ax.scatter(Vect_mag[n][0],Vect_mag[n][1],Vect_mag[n][2],color='blue',marker='*')\n",
    "        ax.text(Vect_mag[n][0],Vect_mag[n][1],Vect_mag[n][2],name[n])\n",
    "\n",
    "    # Origin\n",
    "    ax.scatter(0,0,0,color='green',marker='x'), ax.text(0,0,0,'')\n",
    "\n",
    "    # Origin arrows\n",
    "    ax.quiver(0,0,0,1,0,0), ax.quiver(0,0,0,0,1,0), ax.quiver(0,0,0,0,0,1) # x,y,z arrow\n",
    "\n",
    "    # Mag vectors direction\n",
    "    scale_factor = 0.00004\n",
    "    ax.quiver(-8.92,0,0.96,\n",
    "              scale_factor*df_sel_flight.loc[time,'FLUXB_X'],\n",
    "              scale_factor*df_sel_flight.loc[time,'FLUXB_Y'],\n",
    "              scale_factor*df_sel_flight.loc[time,'FLUXB_Z'],color='green')\n",
    "    ax.quiver(-4.06,0.42,0,\n",
    "              scale_factor*df_sel_flight.loc[time,'FLUXC_X'],\n",
    "              scale_factor*df_sel_flight.loc[time,'FLUXC_Y'],\n",
    "              scale_factor*df_sel_flight.loc[time,'FLUXC_Z'],color='green')\n",
    "    ax.quiver(-4.06,-0.42,0,\n",
    "              scale_factor*df_sel_flight.loc[time,'FLUXD_X'],\n",
    "              scale_factor*df_sel_flight.loc[time,'FLUXD_Y'],\n",
    "              scale_factor*df_sel_flight.loc[time,'FLUXD_Z'],color='green')\n",
    "\n",
    "\n",
    "    # Legend and labels\n",
    "    ax.legend(['Mag 1 - Tail stinger', 'Mag 2 - Front cabin aft of cockpit', 'Mag 3 - Mid cabin aft of cockpit', 'Mag 4 - Rear cabin floor','Mag 5 - Rear cabin ceiling',\n",
    "               'Flux B - Tail at base of stinger','Flux C - Rear cabin port side','Flux D - Rear cabin aft side',\n",
    "               'Center - Front seat rail'])\n",
    "    ax.set_xlabel('X [m]'), ax.set_ylabel('Y [m]'), ax.set_zlabel('Z [m]')\n",
    "\n",
    "    # Axes limit\n",
    "    ax.axes.set_xlim3d(left=-12.5, right=12.5), ax.axes.set_ylim3d(bottom=-12.5, top=12.5), ax.axes.set_zlim3d(bottom=-12.5, top=12.5)\n",
    "\n",
    "    plt.show()\n",
    "\n",
    "    # Plot image\n",
    "    fig, ax = plt.subplots(figsize=[12,12])\n",
    "    img = image.imread('data/external/Images/plane.png')\n",
    "    ax.imshow(img)\n",
    "\n",
    "    # Remove axes\n",
    "    ax.spines['bottom'].set_visible(False), ax.spines['top'].set_visible(False), ax.spines['left'].set_visible(False), ax.spines['right'].set_visible(False)\n",
    "    ax.set_xticks([]) ,ax.set_yticks([])\n",
    "\n",
    "    plt.show()"
   ]
  },
  {
   "cell_type": "code",
   "execution_count": null,
   "id": "7dad5dbe-904f-4b84-85aa-cb0436363f78",
   "metadata": {},
   "outputs": [],
   "source": [
    "w = widgets.interactive(plot_mag, time=(df_sel_flight.index[0],df_sel_flight.index[-1],0.1), continuous_update=False) #If it show an error, just slide the time (it's due to removed sections)\n",
    "display(w)"
   ]
  },
  {
   "cell_type": "markdown",
   "id": "81041d98-7503-4417-9c01-5d5a38de4649",
   "metadata": {},
   "source": [
    "<font size=\"4\">Interpretation of results :</font><br>\n",
    "As we can seen above, there seems to be a convention problem betweeen vector magnetometers."
   ]
  },
  {
   "cell_type": "code",
   "execution_count": null,
   "id": "d02d4c8f-0cb7-462e-867a-42841241d49f",
   "metadata": {},
   "outputs": [],
   "source": [
    "#TODO correct flux B orientation"
   ]
  },
  {
   "cell_type": "code",
   "execution_count": null,
   "id": "8025261f-b86c-4622-8d4b-6d1728084976",
   "metadata": {},
   "outputs": [],
   "source": []
  },
  {
   "cell_type": "code",
   "execution_count": null,
   "id": "62ad9d74-8be7-41fe-935a-f88a17c268c4",
   "metadata": {},
   "outputs": [],
   "source": []
  },
  {
   "cell_type": "code",
   "execution_count": null,
   "id": "d59bc25b-7d9e-4329-badb-65d36cc50456",
   "metadata": {},
   "outputs": [],
   "source": []
  },
  {
   "cell_type": "code",
   "execution_count": null,
   "id": "aafead84-bca6-48c9-896f-aa03ebdff1a1",
   "metadata": {},
   "outputs": [],
   "source": []
  }
 ],
 "metadata": {
  "kernelspec": {
   "display_name": "Python 3 (ipykernel)",
   "language": "python",
   "name": "python3"
  },
  "language_info": {
   "codemirror_mode": {
    "name": "ipython",
    "version": 3
   },
   "file_extension": ".py",
   "mimetype": "text/x-python",
   "name": "python",
   "nbconvert_exporter": "python",
   "pygments_lexer": "ipython3",
   "version": "3.8.10"
  },
  "toc-showtags": false
 },
 "nbformat": 4,
 "nbformat_minor": 5
}
