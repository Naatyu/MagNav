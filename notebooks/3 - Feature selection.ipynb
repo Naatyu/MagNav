{
 "cells": [
  {
   "cell_type": "markdown",
   "id": "5987df14-b6eb-4e78-afde-385c3a6208de",
   "metadata": {},
   "source": [
    "# About this Notebook"
   ]
  },
  {
   "cell_type": "markdown",
   "id": "0b461983-8045-4de2-8983-a61c0100b25c",
   "metadata": {},
   "source": [
    "This notebook provides a first selection of data before using the models. The purpose is to see if it is possible to create a smaller data set before using them for the models and to have a first estimation of the elemnts contributing most to the creation of magnetic disturbance."
   ]
  },
  {
   "cell_type": "markdown",
   "id": "957780f1-c773-40dd-92ec-98a290e841cf",
   "metadata": {},
   "source": [
    "# Table of content"
   ]
  },
  {
   "cell_type": "markdown",
   "id": "9414fd2f-27a9-4bd6-8bcb-e17822dc40a2",
   "metadata": {},
   "source": [
    "* [0 - Import Data](#)\n",
    "    * [0.1 - Flight data](#)\n",
    "    * [0.2 - Map data](#)\n",
    "    * [0.3 - Generate Tolles-Lawson data + corrections](#)\n",
    "        * [0.3.1 - Square compensation](#)\n",
    "        * [0.3.2 - Cloverleaf compensation](#)\n",
    "        * [0.3.3 - Square + Cloverleaf compensation](#)\n",
    "* [1 - Data distribution](#)\n",
    "* [2 - Correlation](#)\n",
    "* [3 - Mutual information](#)\n",
    "* [4 - XGBoost for feature selection](#)\n",
    "* [5 - Feature engineering](#)\n",
    "* [6 - Selected features](#)\n",
    "* [7 - Training data](#)\n",
    "    * [7.1 - Precautions](#)\n",
    "    * [7.2 - Data slection](#)"
   ]
  },
  {
   "cell_type": "markdown",
   "id": "63df1c9f-53b4-40a5-984b-f5786b5d453b",
   "metadata": {},
   "source": [
    "# Setup"
   ]
  },
  {
   "cell_type": "code",
   "execution_count": 1,
   "id": "6edc3546-e429-4b98-bf98-be1aa50e89ee",
   "metadata": {},
   "outputs": [
    {
     "name": "stdout",
     "output_type": "stream",
     "text": [
      "/home/nlaoue/projet/MagNav/notebooks\n",
      "/home/nlaoue/projet/MagNav\n"
     ]
    }
   ],
   "source": [
    "import os\n",
    "# Move from notebooks to MagNav\n",
    "print(os.getcwd())\n",
    "os.chdir('../')\n",
    "print(os.getcwd())"
   ]
  },
  {
   "cell_type": "markdown",
   "id": "6f32f687-f1ca-467e-81fa-dbbbaa5561f5",
   "metadata": {},
   "source": [
    "# Import packages"
   ]
  },
  {
   "cell_type": "code",
   "execution_count": 2,
   "id": "212b5b55-56eb-4a53-99a5-78c60e9bb2fe",
   "metadata": {},
   "outputs": [],
   "source": [
    "import pandas as pd\n",
    "import ipywidgets as widgets\n",
    "import src.magnav as magnav\n",
    "import numpy as np\n",
    "import matplotlib.pyplot as plt\n",
    "import seaborn as sns\n",
    "from scipy import signal\n",
    "import datetime\n",
    "from sklearn.feature_selection import mutual_info_regression\n",
    "import xgboost as xgb\n",
    "from sklearn.preprocessing import MinMaxScaler\n",
    "from ipyleaflet import Map, LocalTileLayer, Polyline, LegendControl, ScaleControl\n",
    "from matplotlib.collections import LineCollection\n",
    "from ipywidgets import Layout"
   ]
  },
  {
   "cell_type": "markdown",
   "id": "6e91c1e7-782e-478e-9ec7-d4ed40592cdc",
   "metadata": {},
   "source": [
    "# 0 - Import Data"
   ]
  },
  {
   "cell_type": "markdown",
   "id": "45ad5df6-29e9-45c8-8835-e238a5420a2e",
   "metadata": {},
   "source": [
    "## 0.1 - Flight data"
   ]
  },
  {
   "cell_type": "code",
   "execution_count": 3,
   "id": "734d0bb6-61cc-4f77-ae6d-0a75537d30ac",
   "metadata": {},
   "outputs": [],
   "source": [
    "df1002 = pd.read_hdf('data/interim/Flt_data.h5', key=f'Flt1002')\n",
    "df1003 = pd.read_hdf('data/interim/Flt_data.h5', key=f'Flt1003')\n",
    "df1004 = pd.read_hdf('data/interim/Flt_data.h5', key=f'Flt1004')\n",
    "df1005 = pd.read_hdf('data/interim/Flt_data.h5', key=f'Flt1005')\n",
    "df1006 = pd.read_hdf('data/interim/Flt_data.h5', key=f'Flt1006')\n",
    "df1007 = pd.read_hdf('data/interim/Flt_data.h5', key=f'Flt1007')"
   ]
  },
  {
   "cell_type": "code",
   "execution_count": 4,
   "id": "6a08f355-e6f5-4d0d-8eec-0bd379c34c7e",
   "metadata": {},
   "outputs": [
    {
     "data": {
      "application/vnd.jupyter.widget-view+json": {
       "model_id": "2e9f55f38f4a41b3aaf86b1ddca894b7",
       "version_major": 2,
       "version_minor": 0
      },
      "text/plain": [
       "ToggleButtons(description='Load flight', index=1, options=(('1002', 2), ('1003', 3), ('1004', 4), ('1005', 5),…"
      ]
     },
     "metadata": {},
     "output_type": "display_data"
    }
   ],
   "source": [
    "# Create a widget to select the flight to load\n",
    "\n",
    "w_flight = widgets.ToggleButtons(\n",
    "    options=[('1002', 2), ('1003', 3), ('1004', 4), ('1005', 5), ('1006', 6), ('1007', 7)],\n",
    "    value=3,\n",
    "    description='Load flight')\n",
    "display(w_flight)"
   ]
  },
  {
   "cell_type": "code",
   "execution_count": 5,
   "id": "9c0cd266-1170-48d1-8895-28ac2942a36e",
   "metadata": {},
   "outputs": [],
   "source": [
    "df_sel_flight = eval(f'df100{w_flight.value}')"
   ]
  },
  {
   "cell_type": "markdown",
   "id": "1c7b7420-f3ee-4404-8b3a-2acabfb4b583",
   "metadata": {},
   "source": [
    "## 0.2 - Map data"
   ]
  },
  {
   "cell_type": "code",
   "execution_count": 7,
   "id": "9799a18b-1b70-4c71-a509-ade584f8a786",
   "metadata": {},
   "outputs": [],
   "source": [
    "# Load anomaly maps\n",
    "\n",
    "EasternMap = magnav.ChallMagMap('data/raw/Eastern_2.h5')\n",
    "RenfrewMap = magnav.ChallMagMap('data/raw/Renfrew_2.h5')\n",
    "GscMap     = magnav.ChallMagMap('data/external/Canada_MAG_RES_200m.hdf5')\n",
    "WDMAM      = magnav.ChallMagMap('data/external/map_WDMAM.hdf5')"
   ]
  },
  {
   "cell_type": "markdown",
   "id": "5e25db6b-f4c1-4c5c-8a8c-a28f98b237c3",
   "metadata": {},
   "source": [
    "## 0.3 - Generate Tolles-Lawson data + corrections"
   ]
  },
  {
   "cell_type": "code",
   "execution_count": 8,
   "id": "ca743398-cda2-49d0-87a7-4b7efc294f1d",
   "metadata": {},
   "outputs": [],
   "source": [
    "flight_number = 2\n",
    "\n",
    "mask_1 = (df1002.LINE == 1002.02)\n",
    "mask_2 = (df1002.LINE == 1002.20)\n",
    "\n",
    "tl_sq = df1002[mask_1] # Square Tolles-Lawson pattern\n",
    "tl_cl = df1002[mask_2] # Cloverleaf Tolles-Lawson pattern"
   ]
  },
  {
   "cell_type": "markdown",
   "id": "d20e8cf0-264a-4d85-b4d8-5a504ce3ed21",
   "metadata": {},
   "source": [
    "### 0.3.1 - Square compensation"
   ]
  },
  {
   "cell_type": "code",
   "execution_count": 9,
   "id": "af0971fa-4378-4010-839d-12bc28e501a1",
   "metadata": {},
   "outputs": [],
   "source": [
    "fs      = 10.0\n",
    "lowcut  = 0.1\n",
    "highcut = 0.9\n",
    "filt    = ['Butterworth',4]\n",
    "\n",
    "# Create Tolles-Lawson coefficients\n",
    "TL_coef_1 = magnav.create_TL_coef(tl_sq['FLUXB_X'], tl_sq['FLUXB_Y'], tl_sq['FLUXB_Z'], tl_sq['UNCOMPMAG1'],\n",
    "                                  lowcut=lowcut, highcut=highcut, fs=fs, filter_params=filt, ridge=0.025)\n",
    "TL_coef_2 = magnav.create_TL_coef(tl_sq['FLUXB_X'], tl_sq['FLUXB_Y'], tl_sq['FLUXB_Z'], tl_sq['UNCOMPMAG2'],\n",
    "                                  lowcut=lowcut, highcut=highcut, fs=fs, filter_params=filt, ridge=0.025)\n",
    "TL_coef_3 = magnav.create_TL_coef(tl_sq['FLUXB_X'], tl_sq['FLUXB_Y'], tl_sq['FLUXB_Z'], tl_sq['UNCOMPMAG3'],\n",
    "                                  lowcut=lowcut, highcut=highcut, fs=fs, filter_params=filt, ridge=0.025)\n",
    "TL_coef_4 = magnav.create_TL_coef(tl_sq['FLUXB_X'], tl_sq['FLUXB_Y'], tl_sq['FLUXB_Z'], tl_sq['UNCOMPMAG4'],\n",
    "                                  lowcut=lowcut, highcut=highcut, fs=fs, filter_params=filt, ridge=0.025)\n",
    "TL_coef_5 = magnav.create_TL_coef(tl_sq['FLUXB_X'], tl_sq['FLUXB_Y'], tl_sq['FLUXB_Z'], tl_sq['UNCOMPMAG5'],\n",
    "                                  lowcut=lowcut, highcut=highcut, fs=fs, filter_params=filt, ridge=0.025)\n",
    "\n",
    "# Create Tolles-Lawson A matrix\n",
    "A = magnav.create_TL_A(df_sel_flight['FLUXB_X'],df_sel_flight['FLUXB_Y'],df_sel_flight['FLUXB_Z'])\n",
    "\n",
    "# Correct magnetometers measurements\n",
    "df_sel_flight['TL_comp_mag1_sq'] = np.reshape(df_sel_flight['UNCOMPMAG1'].tolist(),(-1,1))-np.dot(A,TL_coef_1)+np.mean(np.dot(A,TL_coef_1))\n",
    "df_sel_flight['TL_comp_mag2_sq'] = np.reshape(df_sel_flight['UNCOMPMAG2'].tolist(),(-1,1))-np.dot(A,TL_coef_2)+np.mean(np.dot(A,TL_coef_2))\n",
    "df_sel_flight['TL_comp_mag3_sq'] = np.reshape(df_sel_flight['UNCOMPMAG3'].tolist(),(-1,1))-np.dot(A,TL_coef_3)+np.mean(np.dot(A,TL_coef_3))\n",
    "df_sel_flight['TL_comp_mag4_sq'] = np.reshape(df_sel_flight['UNCOMPMAG4'].tolist(),(-1,1))-np.dot(A,TL_coef_4)+np.mean(np.dot(A,TL_coef_4))\n",
    "df_sel_flight['TL_comp_mag5_sq'] = np.reshape(df_sel_flight['UNCOMPMAG5'].tolist(),(-1,1))-np.dot(A,TL_coef_5)+np.mean(np.dot(A,TL_coef_5))"
   ]
  },
  {
   "cell_type": "markdown",
   "id": "60df8850-03a4-4440-b22d-3afde5c56f60",
   "metadata": {},
   "source": [
    "### 0.3.2 - Cloverleaf compensation"
   ]
  },
  {
   "cell_type": "code",
   "execution_count": 10,
   "id": "61e9e0a6-6a7d-40a2-bc49-1b4ef642f4d2",
   "metadata": {},
   "outputs": [],
   "source": [
    "fs      = 10.0\n",
    "lowcut  = 0.1\n",
    "highcut = 0.9\n",
    "filt    = ['Butterworth',4]\n",
    "\n",
    "# Create Tolles-Lawson coefficients\n",
    "TL_coef_1 = magnav.create_TL_coef(tl_cl['FLUXB_X'], tl_cl['FLUXB_Y'], tl_cl['FLUXB_Z'], tl_cl['UNCOMPMAG1'],\n",
    "                           lowcut=lowcut, highcut=highcut, fs=fs, filter_params=filt, ridge=0.025)\n",
    "TL_coef_2 = magnav.create_TL_coef(tl_cl['FLUXB_X'], tl_cl['FLUXB_Y'], tl_cl['FLUXB_Z'], tl_cl['UNCOMPMAG2'],\n",
    "                           lowcut=lowcut, highcut=highcut, fs=fs, filter_params=filt, ridge=0.025)\n",
    "TL_coef_3 = magnav.create_TL_coef(tl_cl['FLUXB_X'], tl_cl['FLUXB_Y'], tl_cl['FLUXB_Z'], tl_cl['UNCOMPMAG3'],\n",
    "                           lowcut=lowcut, highcut=highcut, fs=fs, filter_params=filt, ridge=0.025)\n",
    "TL_coef_4 = magnav.create_TL_coef(tl_cl['FLUXB_X'], tl_cl['FLUXB_Y'], tl_cl['FLUXB_Z'], tl_cl['UNCOMPMAG4'],\n",
    "                           lowcut=lowcut, highcut=highcut, fs=fs, filter_params=filt, ridge=0.025)\n",
    "TL_coef_5 = magnav.create_TL_coef(tl_cl['FLUXB_X'], tl_cl['FLUXB_Y'], tl_cl['FLUXB_Z'], tl_cl['UNCOMPMAG5'],\n",
    "                           lowcut=lowcut, highcut=highcut, fs=fs, filter_params=filt, ridge=0.025)\n",
    "\n",
    "# Create Tolles-Lawson A matrix\n",
    "A = magnav.create_TL_A(df_sel_flight['FLUXB_X'],df_sel_flight['FLUXB_Y'],df_sel_flight['FLUXB_Z'])\n",
    "\n",
    "# Correct magnetometers measurements\n",
    "df_sel_flight['TL_comp_mag1_cl'] = np.reshape(df_sel_flight['UNCOMPMAG1'].tolist(),(-1,1))-np.dot(A,TL_coef_1)+np.mean(np.dot(A,TL_coef_1))\n",
    "df_sel_flight['TL_comp_mag2_cl'] = np.reshape(df_sel_flight['UNCOMPMAG2'].tolist(),(-1,1))-np.dot(A,TL_coef_2)+np.mean(np.dot(A,TL_coef_2))\n",
    "df_sel_flight['TL_comp_mag3_cl'] = np.reshape(df_sel_flight['UNCOMPMAG3'].tolist(),(-1,1))-np.dot(A,TL_coef_3)+np.mean(np.dot(A,TL_coef_3))\n",
    "df_sel_flight['TL_comp_mag4_cl'] = np.reshape(df_sel_flight['UNCOMPMAG4'].tolist(),(-1,1))-np.dot(A,TL_coef_4)+np.mean(np.dot(A,TL_coef_4))\n",
    "df_sel_flight['TL_comp_mag5_cl'] = np.reshape(df_sel_flight['UNCOMPMAG5'].tolist(),(-1,1))-np.dot(A,TL_coef_5)+np.mean(np.dot(A,TL_coef_5))"
   ]
  },
  {
   "cell_type": "markdown",
   "id": "cdc0c034-b8f0-4e1b-b4b9-210f5cf4e12b",
   "metadata": {},
   "source": [
    "### 0.3.3 - Square + Cloverleaf compensation"
   ]
  },
  {
   "cell_type": "code",
   "execution_count": 11,
   "id": "7248bed4-4c2f-481e-a061-478f122e9e61",
   "metadata": {},
   "outputs": [],
   "source": [
    "fs      = 10.0\n",
    "lowcut  = 0.1\n",
    "highcut = 0.9\n",
    "filt    = ['Butterworth',4]\n",
    "\n",
    "# Combine SQ and CL patterns\n",
    "tl_sqcl = df1002[mask_1+mask_2]\n",
    "\n",
    "# Create Tolles-Lawson coefficients\n",
    "TL_coef_1 = magnav.create_TL_coef(tl_sqcl['FLUXB_X'], tl_sqcl['FLUXB_Y'], tl_sqcl['FLUXB_Z'], tl_sqcl['UNCOMPMAG1'],\n",
    "                           lowcut=lowcut, highcut=highcut, fs=fs, filter_params=filt, ridge=0.025)\n",
    "TL_coef_2 = magnav.create_TL_coef(tl_sqcl['FLUXB_X'], tl_sqcl['FLUXB_Y'], tl_sqcl['FLUXB_Z'], tl_sqcl['UNCOMPMAG2'],\n",
    "                           lowcut=lowcut, highcut=highcut, fs=fs, filter_params=filt, ridge=0.025)\n",
    "TL_coef_3 = magnav.create_TL_coef(tl_sqcl['FLUXB_X'], tl_sqcl['FLUXB_Y'], tl_sqcl['FLUXB_Z'], tl_sqcl['UNCOMPMAG3'],\n",
    "                           lowcut=lowcut, highcut=highcut, fs=fs, filter_params=filt, ridge=0.025)\n",
    "TL_coef_4 = magnav.create_TL_coef(tl_sqcl['FLUXB_X'], tl_sqcl['FLUXB_Y'], tl_sqcl['FLUXB_Z'], tl_sqcl['UNCOMPMAG4'],\n",
    "                           lowcut=lowcut, highcut=highcut, fs=fs, filter_params=filt, ridge=0.025)\n",
    "TL_coef_5 = magnav.create_TL_coef(tl_sqcl['FLUXB_X'], tl_sqcl['FLUXB_Y'], tl_sqcl['FLUXB_Z'], tl_sqcl['UNCOMPMAG5'],\n",
    "                           lowcut=lowcut, highcut=highcut, fs=fs, filter_params=filt, ridge=0.025)\n",
    "\n",
    "# Create Tolles-Lawson A matrix\n",
    "A = magnav.create_TL_A(df_sel_flight['FLUXB_X'],df_sel_flight['FLUXB_Y'],df_sel_flight['FLUXB_Z'])\n",
    "\n",
    "# Correct magnetometers measurements\n",
    "df_sel_flight['TL_comp_mag1_sqcl'] = np.reshape(df_sel_flight['UNCOMPMAG1'].tolist(),(-1,1))-np.dot(A,TL_coef_1)+np.mean(np.dot(A,TL_coef_1))\n",
    "df_sel_flight['TL_comp_mag2_sqcl'] = np.reshape(df_sel_flight['UNCOMPMAG2'].tolist(),(-1,1))-np.dot(A,TL_coef_2)+np.mean(np.dot(A,TL_coef_2))\n",
    "df_sel_flight['TL_comp_mag3_sqcl'] = np.reshape(df_sel_flight['UNCOMPMAG3'].tolist(),(-1,1))-np.dot(A,TL_coef_3)+np.mean(np.dot(A,TL_coef_3))\n",
    "df_sel_flight['TL_comp_mag4_sqcl'] = np.reshape(df_sel_flight['UNCOMPMAG4'].tolist(),(-1,1))-np.dot(A,TL_coef_4)+np.mean(np.dot(A,TL_coef_4))\n",
    "df_sel_flight['TL_comp_mag5_sqcl'] = np.reshape(df_sel_flight['UNCOMPMAG5'].tolist(),(-1,1))-np.dot(A,TL_coef_5)+np.mean(np.dot(A,TL_coef_5))"
   ]
  },
  {
   "cell_type": "code",
   "execution_count": 14,
   "id": "e50ad72c-da55-4582-a75c-aefcced41089",
   "metadata": {},
   "outputs": [],
   "source": [
    "def apply_corrections(df,lag=True,diurnal=True,igrf=True):\n",
    "    \n",
    "    mag_measurements = np.array(['TL_comp_mag5_cl','TL_comp_mag4_cl','TL_comp_mag3_cl','TL_comp_mag2_cl','TL_comp_mag1_cl',\n",
    "                        'TL_comp_mag5_sq','TL_comp_mag4_sq','TL_comp_mag3_sq','TL_comp_mag2_sq','TL_comp_mag1_sq',\n",
    "                        'TL_comp_mag5_sqcl','TL_comp_mag4_sqcl','TL_comp_mag3_sqcl','TL_comp_mag2_sqcl','TL_comp_mag1_sqcl'])\n",
    "    COR_df = df\n",
    "    \n",
    "    # Lag cor\n",
    "    if lag == True:\n",
    "        \n",
    "        # 0.2s correction on mag1\n",
    "        unlag = df[mag_measurements[[4,9,14]]].drop([df.index[0],df.index[1]])\n",
    "        unlag.index = df.index[:-2]\n",
    "        \n",
    "        COR_df = df.drop([df.index[-1],df.index[-2]])\n",
    "        COR_df = UNLAG_df.drop(columns=mag_measurements[[4,9,14]])\n",
    "        COR_df[mag_measurements[[4,9,14]]] = unlag\n",
    "    \n",
    "    # Diurnal cor\n",
    "    if diurnal == True:\n",
    "        COR_df[mag_measurements] = COR_df[mag_measurements]-np.reshape(COR_df['DIURNAL'].values,[-1,1])\n",
    "    \n",
    "    # IGRF cor\n",
    "    lat  = COR_df['LAT']\n",
    "    lon  = COR_df['LONG']\n",
    "    h    = COR_df['BARO']*1e-3 # Kilometers above WGS84 ellipsoid\n",
    "    date = datetime.datetime(2020, 6, 29) # Date on which the flights were made\n",
    "    Be, Bn, Bu = magnav.igrf(lon,lat,h,date)\n",
    "    \n",
    "    if igrf == True:\n",
    "        COR_df[mag_measurements] = COR_df[mag_measurements]-np.reshape(np.sqrt(Be**2+Bn**2+Bu**2)[0],[-1,1])\n",
    "\n",
    "    \n",
    "    return COR_df"
   ]
  },
  {
   "cell_type": "code",
   "execution_count": 15,
   "id": "b82190bc-9a79-4976-9ccd-3f6567f226ee",
   "metadata": {},
   "outputs": [],
   "source": [
    "COR_df = apply_corrections(df_sel_flight,lag=False,diurnal=True,igrf=True)"
   ]
  },
  {
   "cell_type": "markdown",
   "id": "7857d2d4-95f6-4d26-997c-e4793110b33b",
   "metadata": {},
   "source": [
    "# 1 - Data distribution"
   ]
  },
  {
   "cell_type": "markdown",
   "id": "bbcbbed8-1103-4194-b070-f59876b3dd10",
   "metadata": {},
   "source": [
    "Now that we have most of our data ready to be used and we have a better understanding of the data, we can start selecting the features. First intuition :<br>\n",
    "- Magnetometer 5 will be the most useful variable for the reconstruction of the truth\n",
    "- Measurements of electrical elements near the selected magnetometers will be useful\n",
    "- The attitude of the aircraft will also be useful\n",
    "\n",
    "The feature selection was made on flights 1002 and 1003 as flights 1004 and 1005 are survey flights."
   ]
  },
  {
   "cell_type": "code",
   "execution_count": 16,
   "id": "399cc6fc-3e89-4bb7-a19e-878292ab5e55",
   "metadata": {},
   "outputs": [
    {
     "data": {
      "image/png": "[encoded data removed]",
      "text/plain": [
       "<Figure size 1800x720 with 3 Axes>"
      ]
     },
     "metadata": {
      "needs_background": "light"
     },
     "output_type": "display_data"
    }
   ],
   "source": [
    "fig, (ax1,ax2,ax3) = plt.subplots(1,3,figsize=[25,10],sharey=True)\n",
    "\n",
    "sns.kdeplot(data=signal.detrend(COR_df['IGRFMAG1']),ax=ax1,label='IGRFMAG1')\n",
    "sns.kdeplot(data=signal.detrend(COR_df['TL_comp_mag5_sq']),ax=ax1,label='TL_comp_mag5_sq')\n",
    "sns.kdeplot(data=signal.detrend(COR_df['TL_comp_mag4_sq']),ax=ax1,label='TL_comp_mag4_sq')\n",
    "sns.kdeplot(data=signal.detrend(COR_df['TL_comp_mag3_sq']),ax=ax1,label='TL_comp_mag3_sq')\n",
    "sns.kdeplot(data=signal.detrend(COR_df['TL_comp_mag2_sq']),ax=ax1,label='TL_comp_mag2_sq')\n",
    "\n",
    "ax1.set_xlabel('[nT]')\n",
    "ax1.set_title('Magnetometers with square pattern compensation')\n",
    "ax1.set_xlim(left=-4000,right=4000)\n",
    "ax1.grid()\n",
    "ax1.legend()\n",
    "\n",
    "sns.kdeplot(data=signal.detrend(COR_df['IGRFMAG1']),ax=ax2,label='IGRFMAG1')\n",
    "sns.kdeplot(data=signal.detrend(COR_df['TL_comp_mag5_cl']),ax=ax2,label='TL_comp_mag5_cl')\n",
    "sns.kdeplot(data=signal.detrend(COR_df['TL_comp_mag4_cl']),ax=ax2,label='TL_comp_mag4_cl')\n",
    "sns.kdeplot(data=signal.detrend(COR_df['TL_comp_mag3_cl']),ax=ax2,label='TL_comp_mag3_cl')\n",
    "sns.kdeplot(data=signal.detrend(COR_df['TL_comp_mag2_cl']),ax=ax2,label='TL_comp_mag2_cl')\n",
    "\n",
    "ax2.set_xlabel('[nT]')\n",
    "ax2.set_title('Magnetometers with cloverleaf pattern compensation')\n",
    "ax2.set_xlim(left=-4000,right=4000)\n",
    "ax2.grid()\n",
    "ax2.legend()\n",
    "\n",
    "sns.kdeplot(data=signal.detrend(COR_df['IGRFMAG1']),ax=ax3,label='IGRFMAG1')\n",
    "sns.kdeplot(data=signal.detrend(COR_df['TL_comp_mag5_sqcl']),ax=ax3,label='TL_comp_mag5_cl')\n",
    "sns.kdeplot(data=signal.detrend(COR_df['TL_comp_mag4_sqcl']),ax=ax3,label='TL_comp_mag4_cl')\n",
    "sns.kdeplot(data=signal.detrend(COR_df['TL_comp_mag3_sqcl']),ax=ax3,label='TL_comp_mag3_cl')\n",
    "sns.kdeplot(data=signal.detrend(COR_df['TL_comp_mag2_sqcl']),ax=ax3,label='TL_comp_mag2_cl')\n",
    "\n",
    "ax3.set_xlabel('[nT]')\n",
    "ax3.set_title('Magnetometers with square + cloverleaf pattern compensation')\n",
    "ax3.set_xlim(left=-4000,right=4000)\n",
    "ax3.grid()\n",
    "ax3.legend()\n",
    "\n",
    "plt.show()"
   ]
  },
  {
   "cell_type": "markdown",
   "id": "ef8ea224-5ae6-4f34-81df-348c70e461c2",
   "metadata": {},
   "source": [
    "<font size=\"4\">Interpretation of results :</font><br>\n",
    "Several elements emerge from the density plots :\n",
    "- The magnetometer 5 has a distribution very close to the truth and seems to be a good choice as a variable for our model.\n",
    "- Magnetometer 2 is completely off mark\n",
    "- Magnetometers 3 and 4 have distributions closer to the truth in the case of a cloverleaf compensation\n",
    "\n",
    "With this first approach we can already have information about the variables to select. A priori the magnetometer 5 is a very good candidate contrary to the magnetometer 2. As for the difference between the two compensations, it is not equal for all magnetometers. The cloverleaf compensation seems to be more interesting for magnetometers 3 and 4 and has no visible impact for magnetometer 5. It is reasonable to think that the cloverleaf compensation captures more of the aircraft's disturbing elements and this can be seen on magnetometers that are noisy. The mix of square + cloverleaf compensation seems not very relevant."
   ]
  },
  {
   "cell_type": "markdown",
   "id": "ba5c5637-175e-49f8-b9e6-990ba15800db",
   "metadata": {},
   "source": [
    "# 2 - Correlation"
   ]
  },
  {
   "cell_type": "markdown",
   "id": "1830ca6e-a119-45ad-aaf3-7c1fa5b22ccb",
   "metadata": {},
   "source": [
    "In this section we will use two different types of correlation to be able to show links between variables and the truth or between certain variables themselves.<br>\n",
    "For this, 2 types of correlations are usable for our data :\n",
    "- Pearson correlation coefficient\n",
    "- Spearman's rank correlation coefficient\n",
    "<br><br>\n",
    "\n",
    "<font size='3'><b>Pearson correlation coefficient</b></font>\n",
    "<br><br>\n",
    "Pearson correlation coefficient is a measure of linear correlation between two sets of data. It is the ratio between the covariance of two variables and the product of their standard deviations. The value is between -1 and 1 where 1 represent a perfect correlation, -1 a perfect opposite correlation and 0 no correlation.<br><br>\n",
    "<font size='4'>\n",
    "    $\\rho_{X,Y}=\\frac{cov(X,Y)}{\\sigma_{X}\\sigma_{Y}}$\n",
    "</font>\n",
    "\n",
    "- $cov$ is the covariance\n",
    "- $\\sigma_{X}$ is the standard deviation of X\n",
    "- $\\sigma_{Y}$ is the standrad deviation of Y\n",
    "<br><br>\n",
    "\n",
    "<font size='3'><b>Spearman's rank correlation coefficient</b></font>\n",
    "<br><br>\n",
    "Spearman's rank correlation coefficient is a nonparametric (distribution-free method) measure of [rank correlation](https://en.wikipedia.org/wiki/Rank_correlation) (ordering the labels of a specific variables). It assesses how well the relationship between two variables can be described using a monotonic function (a function that is entirely non-increasing or non-decreasing). The Spearman correlation between two variables is equal to the Pearson correlation between the rank values of those 2 variables. While Pearson correlation assesses linear relationship, Spearman's correlation assesses monotonic relationships (wether linear or not). Same as Pearson correlation, the value is between -1 and 1 where 1 represent a perfect correlation, -1 a perfect opposite correlation and 0 no correlation.<br><br>\n",
    "<font size='4'>\n",
    "    $r_{s}=\\rho_{R(X),R(Y)}=\\frac{cov(R(X),R(Y))}{\\sigma_{R(X)}\\sigma_{R(Y)}}$\n",
    "</font>\n",
    "\n",
    "- $rho$ denotes the usual Pearson correlation coefficient, but applied to the rank variables\n",
    "- $cov(R(X),R(Y))$ is the covariance of the rank variables\n",
    "- $\\sigma_{R(X)}$ and $\\sigma_{R(Y)}$ iare the standrad deviation of the rank variables\n",
    "\n",
    "Example available [here](https://en.wikipedia.org/wiki/Spearman%27s_rank_correlation_coefficient#Example).<br>\n",
    "The spearman method is interesting because it is robust to outliers."
   ]
  },
  {
   "cell_type": "code",
   "execution_count": null,
   "id": "a20672f2-5aec-465a-8993-6df4dc9d43a1",
   "metadata": {},
   "outputs": [],
   "source": [
    "to_drop = ['LINE','FLT','UNCOMPMAG1','COMPMAG1','LAGMAG1','DCMAG1','TL_comp_mag1_sq','TL_comp_mag1_cl','TL_comp_mag1_sqcl','TIME']\n",
    "\n",
    "corr_pearson   = COR_df.drop(columns=to_drop).corr(method='pearson')[['IGRFMAG1']].abs().sort_values(by='IGRFMAG1',ascending=False)\n",
    "corr_spearman  = COR_df.drop(columns=to_drop).corr(method='spearman')[['IGRFMAG1']].abs().sort_values(by='IGRFMAG1',ascending=False)\n",
    "\n",
    "corr_pearson   = corr_pearson.drop('IGRFMAG1')\n",
    "corr_spearman  = corr_spearman.drop('IGRFMAG1')\n",
    "\n",
    "fig, (ax1,ax2) = plt.subplots(1,2,figsize=[3,25])\n",
    "\n",
    "htmap_pearson  = sns.heatmap(corr_pearson,annot=True,fmt=\".3f\",ax=ax1,cbar=False)\n",
    "htmap_spearman = sns.heatmap(corr_spearman,annot=True,fmt=\".3f\",ax=ax2,cbar=False)\n",
    "\n",
    "htmap_spearman.set_title('Spearman')\n",
    "htmap_pearson.set_title('Pearson')\n",
    "htmap_spearman.yaxis.tick_right()\n",
    "htmap_spearman.set_yticklabels(htmap_spearman.get_yticklabels(),rotation=0)\n",
    "plt.show()"
   ]
  },
  {
   "cell_type": "markdown",
   "id": "6cc181ad-b181-43ff-b897-f3b75e1b1664",
   "metadata": {},
   "source": [
    "<font size=\"4\">Interpretation of results :</font><br>\n",
    "Before analyzing the results there are two points to consider :\n",
    "- Pearson's and Spearman's correlations put forward linear or monotonic correlations. This means that there may be other more complex relationships between the variables that will not be highlighted here.\n",
    "- The correlation above is between the truth ('IGRFMAG1', magnetometer 1 with the previous corrections) and the other variables of the dataset. But the truth is based on a magnetometer at the end of a pole that aims to get as far away as possible from the effects of the plane. This means that the truth captures very little or no effect of the aircraft. To compensate for this, we take the magnetometers that are most correlated with the truth and then correlate the selected magnetometers with the other variables in the dataset.\n",
    "\n",
    "As we can see the magnetometer 5 is very correlated with the truth. In both cases the cloverleaf pattern seems to give slightly more information than the square pattern. The mix of the two patterns does not seem to be very efficient as concluded before. To go further, let's see with which variables Mag 5 is correlated (except orthers magnetometers)."
   ]
  },
  {
   "cell_type": "code",
   "execution_count": null,
   "id": "a4eaf3b2-2ac0-48dc-b33e-5cfb33aecc0b",
   "metadata": {},
   "outputs": [],
   "source": [
    "to_drop_sq     = ['DIURNAL','TIME','LINE','FLT','UNCOMPMAG1','COMPMAG1','LAGMAG1','DCMAG1','TL_comp_mag1_sq','TL_comp_mag1_cl','TL_comp_mag1_sqcl','IGRFMAG1','TL_comp_mag5_cl','TL_comp_mag5_sqcl','TL_comp_mag3_sqcl','TL_comp_mag3_sq','TL_comp_mag3_cl',\n",
    "           'TL_comp_mag4_sq','TL_comp_mag4_cl','TL_comp_mag4_sqcl','TL_comp_mag2_sq','TL_comp_mag2_cl','TL_comp_mag2_sqcl','UNCOMPMAG5','UNCOMPMAG4','UNCOMPMAG3','UNCOMPMAG2','OGS_MAG','FLUXB_TOT','FLUXD_TOT','FLUXC_TOT',\n",
    "           'FLUXC_TOT','FLUXB_X','FLUXB_Y','FLUXB_Z','FLUXD_Z','FLUXC_Y','FLUXD_Y','FLUXD_X','FLUXC_X','INS_LAT','INS_LON','INS_WANDER','INS_HGT','UTM_X','UTM_Y','UTM_Z','MSL_Z','LAT','LONG','OGS_HGT','FLUXC_Z']\n",
    "to_drop_cl     = ['DIURNAL','TIME','LINE','FLT','UNCOMPMAG1','COMPMAG1','LAGMAG1','DCMAG1','TL_comp_mag1_sq','TL_comp_mag1_cl','TL_comp_mag1_sqcl','IGRFMAG1','TL_comp_mag5_sq','TL_comp_mag5_sqcl','TL_comp_mag3_sqcl','TL_comp_mag3_sq','TL_comp_mag3_cl',\n",
    "           'TL_comp_mag4_sq','TL_comp_mag4_cl','TL_comp_mag4_sqcl','TL_comp_mag2_sq','TL_comp_mag2_cl','TL_comp_mag2_sqcl','UNCOMPMAG5','UNCOMPMAG4','UNCOMPMAG3','UNCOMPMAG2','OGS_MAG','FLUXB_TOT','FLUXD_TOT','FLUXC_TOT',\n",
    "           'FLUXC_TOT','FLUXB_X','FLUXB_Y','FLUXB_Z','FLUXD_Z','FLUXC_Y','FLUXD_Y','FLUXD_X','FLUXC_X','INS_LAT','INS_LON','INS_WANDER','INS_HGT','UTM_X','UTM_Y','UTM_Z','MSL_Z','LAT','LONG','OGS_HGT','FLUXC_Z']\n",
    "to_drop_sqcl   = ['DIURNAL','TIME','LINE','FLT','UNCOMPMAG1','COMPMAG1','LAGMAG1','DCMAG1','TL_comp_mag1_sq','TL_comp_mag1_cl','TL_comp_mag1_sqcl','IGRFMAG1','TL_comp_mag5_cl','TL_comp_mag5_sq','TL_comp_mag3_sqcl','TL_comp_mag3_sq','TL_comp_mag3_cl',\n",
    "           'TL_comp_mag4_sq','TL_comp_mag4_cl','TL_comp_mag4_sqcl','TL_comp_mag2_sq','TL_comp_mag2_cl','TL_comp_mag2_sqcl','UNCOMPMAG5','UNCOMPMAG4','UNCOMPMAG3','UNCOMPMAG2','OGS_MAG','FLUXB_TOT','FLUXD_TOT','FLUXC_TOT',\n",
    "           'FLUXC_TOT','FLUXB_X','FLUXB_Y','FLUXB_Z','FLUXD_Z','FLUXC_Y','FLUXD_Y','FLUXD_X','FLUXC_X','INS_LAT','INS_LON','INS_WANDER','INS_HGT','UTM_X','UTM_Y','UTM_Z','MSL_Z','LAT','LONG','OGS_HGT','FLUXC_Z']\n",
    "to_drop_uncomp = ['DIURNAL','TIME','LINE','FLT','UNCOMPMAG1','COMPMAG1','LAGMAG1','DCMAG1','TL_comp_mag1_sq','TL_comp_mag1_cl','TL_comp_mag1_sqcl','IGRFMAG1','TL_comp_mag5_cl','TL_comp_mag5_sqcl','TL_comp_mag3_sqcl','TL_comp_mag3_sq','TL_comp_mag3_cl',\n",
    "           'TL_comp_mag4_sq','TL_comp_mag4_cl','TL_comp_mag4_sqcl','TL_comp_mag2_sq','TL_comp_mag2_cl','TL_comp_mag2_sqcl','TL_comp_mag5_sq','UNCOMPMAG4','UNCOMPMAG3','UNCOMPMAG2','OGS_MAG','FLUXB_TOT','FLUXD_TOT','FLUXC_TOT',\n",
    "           'FLUXC_TOT','FLUXB_X','FLUXB_Y','FLUXB_Z','FLUXD_Z','FLUXC_Y','FLUXD_Y','FLUXD_X','FLUXC_X','INS_LAT','INS_LON','INS_WANDER','INS_HGT','UTM_X','UTM_Y','UTM_Z','MSL_Z','LAT','LONG','OGS_HGT','FLUXC_Z']\n",
    "\n",
    "corr_pearson_sq  = COR_df.drop(columns=to_drop_sq).corr(method='pearson')[['TL_comp_mag5_sq']].abs().sort_values(by='TL_comp_mag5_sq',ascending=False)\n",
    "corr_spearman_sq = COR_df.drop(columns=to_drop_sq).corr(method='spearman')[['TL_comp_mag5_sq']].abs().sort_values(by='TL_comp_mag5_sq',ascending=False)\n",
    "corr_pearson_sq  = corr_pearson_sq.drop('TL_comp_mag5_sq')\n",
    "corr_spearman_sq = corr_spearman_sq.drop('TL_comp_mag5_sq')\n",
    "\n",
    "corr_pearson_cl  = COR_df.drop(columns=to_drop_cl).corr(method='pearson')[['TL_comp_mag5_cl']].abs().sort_values(by='TL_comp_mag5_cl',ascending=False)\n",
    "corr_spearman_cl = COR_df.drop(columns=to_drop_cl).corr(method='spearman')[['TL_comp_mag5_cl']].abs().sort_values(by='TL_comp_mag5_cl',ascending=False)\n",
    "corr_pearson_cl  = corr_pearson_cl.drop('TL_comp_mag5_cl')\n",
    "corr_spearman_cl = corr_spearman_cl.drop('TL_comp_mag5_cl')\n",
    "\n",
    "corr_pearson_sqcl  = COR_df.drop(columns=to_drop_sqcl).corr(method='pearson')[['TL_comp_mag5_sqcl']].abs().sort_values(by='TL_comp_mag5_sqcl',ascending=False)\n",
    "corr_spearman_sqcl = COR_df.drop(columns=to_drop_sqcl).corr(method='spearman')[['TL_comp_mag5_sqcl']].abs().sort_values(by='TL_comp_mag5_sqcl',ascending=False)\n",
    "corr_pearson_sqcl  = corr_pearson_sqcl.drop('TL_comp_mag5_sqcl')\n",
    "corr_spearman_sqcl = corr_spearman_sqcl.drop('TL_comp_mag5_sqcl')\n",
    "\n",
    "corr_pearson_uncomp  = COR_df.drop(columns=to_drop_uncomp).corr(method='pearson')[['UNCOMPMAG5']].abs().sort_values(by='UNCOMPMAG5',ascending=False)\n",
    "corr_spearman_uncomp = COR_df.drop(columns=to_drop_uncomp).corr(method='spearman')[['UNCOMPMAG5']].abs().sort_values(by='UNCOMPMAG5',ascending=False)\n",
    "corr_pearson_uncomp  = corr_pearson_uncomp.drop('UNCOMPMAG5')\n",
    "corr_spearman_uncomp = corr_spearman_uncomp.drop('UNCOMPMAG5')"
   ]
  },
  {
   "cell_type": "code",
   "execution_count": null,
   "id": "cf026613-aa90-4b9c-8872-d028172f9829",
   "metadata": {},
   "outputs": [],
   "source": [
    "def transparent_plot(ax):\n",
    "    ax.patch.set_alpha(0)\n",
    "    ax.spines['bottom'].set_visible(False), ax.spines['top'].set_visible(False), ax.spines['left'].set_visible(False), ax.spines['right'].set_visible(False)\n",
    "    ax.set_xticks([]) ,ax.set_yticks([])\n",
    "    return ax"
   ]
  },
  {
   "cell_type": "code",
   "execution_count": null,
   "id": "5617fe62-0509-469c-bdd0-2af0d79a4069",
   "metadata": {},
   "outputs": [],
   "source": [
    "fig, (ax1,ax2,ax3,ax4,ax5,ax6,ax7,ax8,ax9,ax10,ax11,ax12,ax13,ax14) = plt.subplots(1,14,figsize=[25,17])\n",
    "transparent_plot(ax3),transparent_plot(ax4),transparent_plot(ax7),transparent_plot(ax8),transparent_plot(ax11),transparent_plot(ax12)\n",
    "\n",
    "htmap_pearson_sq  = sns.heatmap(corr_pearson_sq,annot=True,fmt=\".3f\",ax=ax1,cbar=False)\n",
    "htmap_spearman_sq = sns.heatmap(corr_spearman_sq,annot=True,fmt=\".3f\",ax=ax2,cbar=False)\n",
    "\n",
    "htmap_spearman_sq.set_title('Spearman')\n",
    "htmap_pearson_sq.set_title('Pearson')\n",
    "htmap_spearman_sq.yaxis.tick_right()\n",
    "htmap_spearman_sq.set_yticklabels(htmap_spearman_sq.get_yticklabels(),rotation=0)\n",
    "\n",
    "htmap_pearson_cl  = sns.heatmap(corr_pearson_cl,annot=True,fmt=\".3f\",ax=ax5,cbar=False)\n",
    "htmap_spearman_cl = sns.heatmap(corr_spearman_cl,annot=True,fmt=\".3f\",ax=ax6,cbar=False)\n",
    "\n",
    "htmap_spearman_cl.set_title('Spearman')\n",
    "htmap_pearson_cl.set_title('Pearson')\n",
    "htmap_spearman_cl.yaxis.tick_right()\n",
    "htmap_spearman_cl.set_yticklabels(htmap_spearman_cl.get_yticklabels(),rotation=0)\n",
    "\n",
    "htmap_pearson_sqcl  = sns.heatmap(corr_pearson_sqcl,annot=True,fmt=\".3f\",ax=ax9,cbar=False)\n",
    "htmap_spearman_sqcl = sns.heatmap(corr_spearman_sqcl,annot=True,fmt=\".3f\",ax=ax10,cbar=False)\n",
    "\n",
    "htmap_spearman_sqcl.set_title('Spearman')\n",
    "htmap_pearson_sqcl.set_title('Pearson')\n",
    "htmap_spearman_sqcl.yaxis.tick_right()\n",
    "htmap_spearman_sqcl.set_yticklabels(htmap_spearman_sqcl.get_yticklabels(),rotation=0)\n",
    "\n",
    "htmap_pearson_uncomp  = sns.heatmap(corr_pearson_uncomp,annot=True,fmt=\".3f\",ax=ax13,cbar=False)\n",
    "htmap_spearman_uncomp = sns.heatmap(corr_spearman_uncomp,annot=True,fmt=\".3f\",ax=ax14,cbar=False)\n",
    "\n",
    "htmap_spearman_uncomp.set_title('Spearman')\n",
    "htmap_pearson_uncomp.set_title('Pearson')\n",
    "htmap_spearman_uncomp.yaxis.tick_right()\n",
    "htmap_spearman_uncomp.set_yticklabels(htmap_spearman_uncomp.get_yticklabels(),rotation=0)\n",
    "\n",
    "plt.show()"
   ]
  },
  {
   "cell_type": "markdown",
   "id": "e42fb223-f3fe-484a-871b-bfc29d2ccb02",
   "metadata": {},
   "source": [
    "<font size=\"4\">Interpretation of results :</font><br>\n",
    "Same precautions as before on the analysis.\n",
    "\n",
    "Several interesting facts stand out. First, the correlations between the variables and the Mag 5 are less strong with compensation than without, which seems logical because compensation reduces the effect of perturbations. The variable V_BAT1 is in the top 5 in each plot. This is very interesting because it means that battery 1 has an effect on the magnetometer measurements and therefore shows that the aircraft disturbs the measurements. The variables related to the INS also come up very often. The topography also seems to be an interesting element for the modeling. Let's continue our analysis to see if the same variables emerge with other methods."
   ]
  },
  {
   "cell_type": "markdown",
   "id": "fa4ced98-df72-435e-8ac5-34f3a3e52ab3",
   "metadata": {},
   "source": [
    "# 3 - Mutual information"
   ]
  },
  {
   "cell_type": "markdown",
   "id": "06643dc0-c902-4cdb-a624-b939c17b39be",
   "metadata": {},
   "source": [
    "We will now use a new method that comes from probability theory and information theory, the mutual information. \n",
    "<br><br>\n",
    "<font size='3'><b>Mutual Information</b></font>\n",
    "<br><br>\n",
    "The mutual information (MI) of two random variables is a measure of the mutual dependence between the two variables. More specifically, it quantifies the \"amount of information\" obtained about one random variable by observing the other random variable. The concept of mutual information is intimately linked to that of entropy (average level of \"information\", \"surprise\" or \"uncertainty\" inherent to the variable's possible outcomes) of a random variable.<br>\n",
    "Not limited to real-valued random variables and linear dependance like the correlation coefficient, MI is more general and determines how different the joint distribution of the pair $(X,Y)$ is from the product of the marginal distributions of $X$ and $Y$.<br><br>\n",
    "<font size='4'>\n",
    "    $I(X;Y)=D_{KL}(P_{(X,Y)}\\|P_{X}\\otimes P_{Y})$\n",
    "</font>\n",
    "\n",
    "where :\n",
    "- $D_{KL}$ is the [Kullback-Leibler divergence](https://en.wikipedia.org/wiki/Kullback-Leibler_divergence), $D_{KL}(P\\|Q)=\\sum_{x\\in{\\mathcal{X}}}P(x)\\log \\left({\\frac {P(x)}{Q(x)}}\\right)$\n",
    "- $P_{(X,Y)}$ is the joint distribution of $X$ and $Y$\n",
    "- $P_X$ and $P_Y$ are the marginal distributions of $X$ and $Y$\n",
    "- $\\otimes$ is the [tensor product](https://en.wikipedia.org/wiki/Tensor_product)\n",
    "\n",
    "When the MI is near 0, the quantities are independant. There is no upper bound but in practice values above 2 or so are uncommon (Mutual Information is a logarithmic quantity, so it increases very slowly).<br>\n",
    "<br>\n",
    "First, let's see if the data are indeed floats and if there is no NaN."
   ]
  },
  {
   "cell_type": "code",
   "execution_count": null,
   "id": "0fdd7502-da97-48e3-aba0-424e738a3c98",
   "metadata": {},
   "outputs": [],
   "source": [
    "non_float = np.sum(COR_df.dtypes != float)\n",
    "nans = df_sel_flight.isna().sum().sum()\n",
    "print(f\"Number of non float values : {non_float}\\nNumber of Nans : {nans}\\n\")"
   ]
  },
  {
   "cell_type": "markdown",
   "id": "be81ff21-3e9b-4a4b-b0c7-b37c829c40e1",
   "metadata": {},
   "source": [
    "Some columns contain NaNs, let's see which ones."
   ]
  },
  {
   "cell_type": "code",
   "execution_count": null,
   "id": "7d30fe84-3ec1-4a05-8ca0-3ad63983fcb3",
   "metadata": {},
   "outputs": [],
   "source": [
    "# with pd.option_context('display.max_rows',None,'display.max_columns',None):\n",
    "nans = COR_df.isna().sum()\n",
    "print(nans[nans!=0].to_string())\n",
    "nans_drop = nans[nans!=0].index.to_list()"
   ]
  },
  {
   "cell_type": "markdown",
   "id": "20716b47-f57d-4278-9eaf-560910f62f77",
   "metadata": {},
   "source": [
    "These three variables are redundant variables (other variables in the dataset express the same quantity). We can therefore ignore them for the calculation of the mutual information. In a different case, we have to find a strategy to fill in the NaNs or do the study on the part of the data without the NaNs."
   ]
  },
  {
   "cell_type": "code",
   "execution_count": null,
   "id": "48b1cb68-7c87-402d-bd16-048964048bfd",
   "metadata": {},
   "outputs": [],
   "source": [
    "def make_mi_scores(X,y,n_neighbors=3):\n",
    "    \n",
    "    mi_scores = mutual_info_regression(X,y,n_neighbors=n_neighbors)\n",
    "    mi_scores = pd.Series(mi_scores, name = 'Mutual Informations scores', index=X.columns)\n",
    "    mi_scores = mi_scores.sort_values(ascending=False)\n",
    "    \n",
    "    return mi_scores\n",
    "\n",
    "def plot_mi_scores(scores):\n",
    "    \n",
    "    scores = scores.sort_values(ascending=True)\n",
    "    width  = np.arange(len(scores))\n",
    "    ticks  = list(scores.index)\n",
    "    bars   = plt.barh(width,scores)\n",
    "    plt.yticks(width,ticks)\n",
    "    plt.bar_label(bars,labels=[f'{x:.2f}' for x in bars.datavalues])\n",
    "    plt.grid()\n",
    "    plt.title(\"Mutual Information Scores\")"
   ]
  },
  {
   "cell_type": "code",
   "execution_count": null,
   "id": "cfb01808-529f-4cae-afc4-940b2593cd84",
   "metadata": {},
   "outputs": [],
   "source": [
    "# Relatively long execution time\n",
    "mi_scores = make_mi_scores(COR_df.drop(columns=nans_drop+['IGRFMAG1','DCMAG1','LAGMAG1','COMPMAG1','TL_comp_mag1_sq','TL_comp_mag1_cl','TL_comp_mag1_sqcl','UNCOMPMAG1','TIME','FLT','LINE']),COR_df['IGRFMAG1'],n_neighbors=5)"
   ]
  },
  {
   "cell_type": "code",
   "execution_count": null,
   "id": "f626a26b-756f-4df4-bc3f-76b23aa379ab",
   "metadata": {},
   "outputs": [],
   "source": [
    "fig, ax = plt.subplots(figsize=[10,25])\n",
    "plot_mi_scores(mi_scores)\n",
    "plt.title('Mutual Information scores between truth (IGRFMAG1) and other dataset variables')\n",
    "plt.show()"
   ]
  },
  {
   "cell_type": "markdown",
   "id": "7ac3b12e-1812-4d7b-b84b-496c234646ee",
   "metadata": {},
   "source": [
    "<font size=\"4\">Interpretation of results :</font><br>\n",
    "We adopt the same strategy as for the correlation, we look at the magnetometer most related to the truth then we choose it and look at the variables with which it has the most mutual information. We take again the magnetometer 5. We can also notice that the position (LAT,LONG) seems to share much information with the magnetic measurements. This is quite logical since each position in space is associated with a magnetic measurement."
   ]
  },
  {
   "cell_type": "code",
   "execution_count": null,
   "id": "fd2069c5-20b1-467d-9a84-d24be00042ef",
   "metadata": {},
   "outputs": [],
   "source": [
    "# Relatively long execution time\n",
    "mi_scores_uncompmag5    = make_mi_scores(COR_df.drop(columns=to_drop_uncomp+nans_drop+['UNCOMPMAG5']),COR_df['UNCOMPMAG5'],n_neighbors=5)\n",
    "mi_scores_compmag5_sq   = make_mi_scores(COR_df.drop(columns=to_drop_sq+nans_drop+['TL_comp_mag5_sq']),COR_df['TL_comp_mag5_sq'],n_neighbors=5)\n",
    "mi_scores_compmag5_cl   = make_mi_scores(COR_df.drop(columns=to_drop_cl+nans_drop+['TL_comp_mag5_cl']),COR_df['TL_comp_mag5_cl'],n_neighbors=5)\n",
    "mi_scores_compmag5_sqcl = make_mi_scores(COR_df.drop(columns=to_drop_sqcl+nans_drop+['TL_comp_mag5_sqcl']),COR_df['TL_comp_mag5_sqcl'],n_neighbors=5)"
   ]
  },
  {
   "cell_type": "code",
   "execution_count": null,
   "id": "91251ae9-cebe-455e-85e8-8dd5df667bbe",
   "metadata": {},
   "outputs": [],
   "source": [
    "fig = plt.figure(figsize=[30,15])\n",
    "plt.subplot(1,4,1)\n",
    "plot_mi_scores(mi_scores_uncompmag5)\n",
    "plt.title('Mutual Information scores with UNCOMPMAG5')\n",
    "plt.subplot(1,4,2)\n",
    "plot_mi_scores(mi_scores_compmag5_sq)\n",
    "plt.title('Mutual Information scores with compensated Mag 5 (sq pattern)')\n",
    "plt.subplot(1,4,3)\n",
    "plot_mi_scores(mi_scores_compmag5_cl)\n",
    "plt.title('Mutual Information scores with compensated Mag 5 (cl pattern)')\n",
    "plt.subplot(1,4,4)\n",
    "plot_mi_scores(mi_scores_compmag5_sqcl)\n",
    "plt.title('Mutual Information scores with compensated Mag 5 (sq+cl pattern)')\n",
    "plt.show()"
   ]
  },
  {
   "cell_type": "markdown",
   "id": "87652edb-7577-44ca-8cce-4c5d31261b34",
   "metadata": {},
   "source": [
    "<font size=\"4\">Interpretation of results :</font><br>\n",
    "We can notice that some variables are similar to what we could obtain with the correlation. We can notice that some variables are similar to what we could obtain with the correlation like the velocities calculated by the INS or the variables related to the topography. We can also notice that pressure measurements brings information. As the altitude brings information on the measurements (the altitude has an impact on the intensity of the measurement), the pressure measurements also bring information because they are intimately linked to the altitude (the pressure decreases when the altitude increases and conversely). Some electrical measurements are also interesting like V_BAT which was already present in the correlation. In view of the previous results, it seems reasonable to think that large electrical elements close to the magnetometer have a direct impact on the measurements and that therefore the use of voltage/current measurements for a machine learning model will be useful to denoise the magnetometers. In comparison, the electrical effects created by the movements of the control surfaces do not seem to have much effect. This may be due to the fact that the magnetometer 5 is located relatively far from the control surfaces."
   ]
  },
  {
   "cell_type": "markdown",
   "id": "6ad23e36-b8a7-4c09-80ef-ebd3fc0bcfb7",
   "metadata": {},
   "source": [
    "# 4 - XGBoost for feature selection"
   ]
  },
  {
   "cell_type": "markdown",
   "id": "6e4fe791-9716-45e8-8713-60dbb2efe41e",
   "metadata": {},
   "source": [
    "Another interesting method for our data selection is the use of XGBoost. We will use XGBoost to fit our dataset and then we will use a feature of XGBoost that allows to see which variables are the most useful for the reconstruction of the truth.\n",
    "<br><br>\n",
    "<font size='3'><b>XGBoost</b></font>\n",
    "<br><br>\n",
    "XGBoost (eXtreme Gradient Boosting) is an open-source software library which provides a regularizing gradient boosting framework. XGBoost provides a popular and efficient open-source implementation of the gradient boosted trees algorithm. Gradient boosting is a supervised learning algorithm, which attempts to accurtely predict a target variable by combining the estimates of a set of simpler, weaker models.<br>\n",
    "When using gradient boosting for regression, the weak learners are regression trees, and each regression tree maps an input data point to one of its leafs that containes a continous score. XGBoost minimizes a regularized (L1 and L2) objective function that combines a convex loss function (based on the difference between the predicted and target outputs) and a penalty term for model complexity (in other words, the regression tree functions). The training proceeds iteratively, adding new trees that predict the residuals or errors of prior trees that are then combined with previous trees to make the final prediction. It's called gradient boosting because it uses a gradient descent algorithm to minimize the loss when adding new models.<br>\n",
    "<img src=\"../data/external/Images/xgboost.png\" alt=\"xgboost\" width=\"700\"/>\n",
    "<br>\n",
    "<br>\n",
    "where :\n",
    "- $\\alpha_i$ and $r_i$ are the regularization parameters and residuals computed with the $i^{ith}$ tree respectfully\n",
    "- $h_i$ is a function that is trained to predict residuals, $r_i$ using $X$ for the $i^{ith}$ tree"
   ]
  },
  {
   "cell_type": "code",
   "execution_count": null,
   "id": "0397f156-c33e-459c-bded-6aa204f352c9",
   "metadata": {},
   "outputs": [],
   "source": [
    "X = COR_df.drop(['IGRFMAG1','COMPMAG1','DCMAG1','LAGMAG1','UNCOMPMAG1','TL_comp_mag1_sq','TL_comp_mag1_cl','TL_comp_mag1_sqcl'],axis=1)\n",
    "y = COR_df['IGRFMAG1']"
   ]
  },
  {
   "cell_type": "code",
   "execution_count": null,
   "id": "375f307b-9d18-4779-96dc-57d9a1c7ff2d",
   "metadata": {},
   "outputs": [],
   "source": [
    "xgb_params = {\n",
    "    'eta' : 0.05,\n",
    "    'max_depth' : 10,\n",
    "    'subsample' : 1.0,\n",
    "    'colsample_bytree' : 0.7,\n",
    "    'objective' : 'reg:squarederror',\n",
    "    'eval_metric' : 'rmse',\n",
    "}"
   ]
  },
  {
   "cell_type": "code",
   "execution_count": null,
   "id": "4836a5fb-4652-4daf-9b1e-e16e5a415540",
   "metadata": {},
   "outputs": [],
   "source": [
    "dtrain = xgb.DMatrix(X,y,feature_names=X.columns.values)\n",
    "model = xgb.train(dict(xgb_params),dtrain,num_boost_round=100)\n",
    "remain_num = 99"
   ]
  },
  {
   "cell_type": "code",
   "execution_count": null,
   "id": "5f097aeb-138d-461d-85c8-f200e4520d53",
   "metadata": {},
   "outputs": [],
   "source": [
    "fig, ax = plt.subplots(figsize=[8,25])\n",
    "xgb.plot_importance(model,max_num_features=remain_num,height=0.8, ax=ax)\n",
    "plt.show()"
   ]
  },
  {
   "cell_type": "markdown",
   "id": "ab457d08-812c-4fe0-b644-7b059f02d74f",
   "metadata": {},
   "source": [
    "<font size=\"4\">Interpretation of results :</font><br>\n",
    "First, if we look at the most important variables, we find the same as before with some exceptions. The measurement of the heater current of the INS seems to have a big impact also on the reconstruction of the truth. On the other hand, the impact of the batteries seems to be much less obvious than before.<br>\n",
    "We can see that XGBoost also allows to classify the importance of the magnetometers. The magnetometer 5 is of course first but more surprinsigly, it uses mainly the magnetometer 4 instead of the magnetometer 3. In correlation or mutual information, the border between the usefulness of magnetometer 3 and 4 is very thin but it is not the case here."
   ]
  },
  {
   "cell_type": "markdown",
   "id": "45900585-2b8e-4b1c-9b8d-26f927466a56",
   "metadata": {},
   "source": [
    "# 5 - Feature selection"
   ]
  },
  {
   "cell_type": "markdown",
   "id": "49266e95-9f09-4b1e-82b9-ee05d73f19a6",
   "metadata": {},
   "source": [
    "The last solution to get more information about our variables is the creation of new features. These new features correspond to the difference bewteen uncorrected and corrected magnetometers and the truth. Then we do a correlation with the dataset variables to see what's coming out. The goal is to see the variables related to the difference from the truth.<br>\n",
    "\n",
    "<font size='3'>\n",
    "    $New\\_feature = truth - detrend(magnetometer)$\n",
    "</font>"
   ]
  },
  {
   "cell_type": "code",
   "execution_count": null,
   "id": "d6083afd-c99f-4831-8f60-856319e7d601",
   "metadata": {},
   "outputs": [],
   "source": [
    "scaler = MinMaxScaler(feature_range=(-1,1))\n",
    "\n",
    "df_res = pd.DataFrame()\n",
    "\n",
    "# New feature\n",
    "df_res['res_MAG5'] = COR_df['IGRFMAG1']-signal.detrend(COR_df['UNCOMPMAG5'])\n",
    "df_res['res_MAG5_tlsq'] = COR_df['IGRFMAG1']-signal.detrend(COR_df['TL_comp_mag5_sq'])\n",
    "df_res['res_MAG5_tlcl'] = COR_df['IGRFMAG1']-signal.detrend(COR_df['TL_comp_mag5_cl'])\n",
    "df_res['res_MAG5_tlsqcl'] = COR_df['IGRFMAG1']-signal.detrend(COR_df['TL_comp_mag5_sqcl'])\n",
    "\n",
    "df_res['res_MAG4'] = COR_df['IGRFMAG1']-signal.detrend(COR_df['UNCOMPMAG4'])\n",
    "df_res['res_MAG4_tlsq'] = COR_df['IGRFMAG1']-signal.detrend(COR_df['TL_comp_mag4_sq'])\n",
    "df_res['res_MAG4_tlcl'] = COR_df['IGRFMAG1']-signal.detrend(COR_df['TL_comp_mag4_cl'])\n",
    "df_res['res_MAG4_tlsqcl'] = COR_df['IGRFMAG1']-signal.detrend(COR_df['TL_comp_mag4_sqcl'])\n",
    "\n",
    "df_res['res_MAG3'] = COR_df['IGRFMAG1']-signal.detrend(COR_df['UNCOMPMAG3'])\n",
    "df_res['res_MAG3_tlsq'] = COR_df['IGRFMAG1']-signal.detrend(COR_df['TL_comp_mag3_sq'])\n",
    "df_res['res_MAG3_tlcl'] = COR_df['IGRFMAG1']-signal.detrend(COR_df['TL_comp_mag3_cl'])\n",
    "df_res['res_MAG3_tlsqcl'] = COR_df['IGRFMAG1']-signal.detrend(COR_df['TL_comp_mag3_sqcl'])\n",
    "\n",
    "df_res['res_MAG2'] = COR_df['IGRFMAG1']-signal.detrend(COR_df['UNCOMPMAG2'])\n",
    "df_res['res_MAG2_tlsq'] = COR_df['IGRFMAG1']-signal.detrend(COR_df['TL_comp_mag2_sq'])\n",
    "df_res['res_MAG2_tlcl'] = COR_df['IGRFMAG1']-signal.detrend(COR_df['TL_comp_mag2_cl'])\n",
    "df_res['res_MAG2_tlsqcl'] = COR_df['IGRFMAG1']-signal.detrend(COR_df['TL_comp_mag2_sqcl'])"
   ]
  },
  {
   "cell_type": "code",
   "execution_count": null,
   "id": "ef72278e-9f91-4d4e-8b4a-7429b649d4a5",
   "metadata": {},
   "outputs": [],
   "source": [
    "variables = ['INS_VEL_W','INS_VEL_V','INS_VEL_N','TOPO','CUR_ACHi', 'CUR_ACLo', 'CUR_ACPWR', 'CUR_BAT1', 'CUR_BAT2', 'CUR_COM1',\n",
    "       'CUR_FLAP', 'CUR_IHTR', 'CUR_OUTPWR', 'CUR_SRVO_I', 'CUR_SRVO_M',\n",
    "       'CUR_SRVO_O', 'CUR_STRB', 'CUR_TANK', 'DIURNAL','INS_ACC_X', 'INS_ACC_Y',\n",
    "       'INS_ACC_Z', 'AZIMUTH', 'PITCH', 'ROLL','V_ACCn', 'V_ACCp',\n",
    "       'V_ACPWR', 'V_BACK', 'V_BACKn', 'V_BACKp', 'V_BAT1', 'V_BAT2',\n",
    "       'V_BLOCK', 'V_CABT', 'V_FAN', 'V_GYRO1', 'V_GYRO2', 'V_OUTPWR',\n",
    "       'V_RESn', 'V_RESp', 'V_SERVO']\n",
    "residues_list = ['res_MAG5','res_MAG5_tlsq','res_MAG5_tlcl','res_MAG5_tlsqcl',\n",
    "                 'res_MAG4','res_MAG4_tlsq','res_MAG4_tlcl','res_MAG4_tlsqcl',\n",
    "                 'res_MAG3','res_MAG3_tlsq','res_MAG3_tlcl','res_MAG3_tlsqcl',\n",
    "                 'res_MAG2','res_MAG2_tlsq','res_MAG2_tlcl','res_MAG2_tlsqcl']\n",
    "\n",
    "df_res[variables] = COR_df[variables]\n",
    "\n",
    "res_pearson = df_res.corr(method='pearson')\n",
    "res_pearson = res_pearson.drop(columns=variables)\n",
    "res_pearson = res_pearson.drop(residues_list)\n",
    "\n",
    "res_spearman = df_res.corr(method='spearman')\n",
    "res_spearman = res_spearman.drop(columns=variables)\n",
    "res_spearman = res_spearman.drop(residues_list)"
   ]
  },
  {
   "cell_type": "code",
   "execution_count": null,
   "id": "ac1f8351-77b9-424b-8eba-57d423808571",
   "metadata": {},
   "outputs": [],
   "source": [
    "fig, (ax1,ax2) = plt.subplots(1,2,figsize=[30,15])\n",
    "\n",
    "pearson_htmap  = sns.heatmap(res_pearson,annot=True,fmt=\".3f\",ax=ax1,cmap=\"Spectral\",cbar=False)\n",
    "spearman_htmap = sns.heatmap(res_spearman,annot=True,fmt=\".3f\",ax=ax2,cmap=\"Spectral\",cbar=False)\n",
    "\n",
    "ax1.set_title('Pearson correlation coefficient')\n",
    "ax2.set_title(\"Spearman's rank correlation coefficient\")\n",
    "\n",
    "plt.show()"
   ]
  },
  {
   "cell_type": "markdown",
   "id": "601c86a9-7e31-418e-8aa1-23fa4afec4e6",
   "metadata": {},
   "source": [
    "<font size=\"4\">Interpretation of results :</font><br>\n",
    "Several interesting results emerge from the correlation matrices. We will analyze the results magnetometer by magnetometer. For the magnetometer 2, it is one of the noisiest magnetometers. It is unsuable in its current state and seems almost impossible to correct. In the case of a pearson correlation, no particular element stands out except the azimuth. The spearman correlation, in the other hand, highlights more elements. We can see that severals elements appear like the fuel pump of the cabin (CUR_TANK) or the flap motor (CUR_FLAP). The magnetometer 3 seems to be well correlated with the INS heater (CUR_IHTR) or the battery 1 (V_BAT1). Some other lighter correlations appear like the servo motors (V_SERVO) or the flap motors (CUR_FLAP). However in the case of these 2 magnetometers, we are missing elements on the effect of the motor. Since magnetometers 2 and 3 are the closest to the motor, there is surely a relationship but it is difficult to show with our data.<br>\n",
    "Magnetometers 4 and 5 are much further from the cabin and therefore potentially from the effects of the engine. The magnetometer 4 also seems to be correlated with the INS heater (CUR_IHTR). The same goes for the servo motors (V_SERVO). From a general point of view, magnetometers 3 and 4 seem to have captured the same elements of the aircraft. <br>\n",
    "The magnetometer 5 shows a strong correlation with the battery 1 (V_BAT1). There also seems to be a slight correlation with the INS accelerometers (V_ACCp). From a more general point of view, magnetometers 2 and 5 are those with the least number of correlated variables. The magnetometer 5 is the most isolated magnetometer from the effects of the aircraft and the magnetometer 2 is probably the one with the most undesirable effects of the aircraft (engine, cockpit, etc...). This explains why these are the measurements with the least correlation (magnetometer 2 is too noisy and magnetometer 5 is isolated from noise)."
   ]
  },
  {
   "cell_type": "markdown",
   "id": "af3192f6-c219-4e05-8f5b-b9f3acb9c4da",
   "metadata": {},
   "source": [
    "We can also use Tolles-Lawson coeffs to get more features. These features are great because they add scientific information about the data that we can explain."
   ]
  },
  {
   "cell_type": "code",
   "execution_count": null,
   "id": "daf68531-c27e-4da3-8521-e8cb9b4dc4c7",
   "metadata": {},
   "outputs": [],
   "source": [
    "def add_A_terms(flux_X,flux_Y,flux_Z,df,letter):\n",
    "    \n",
    "    A = magnav.create_TL_A(flux_X,flux_Y,flux_Z)\n",
    "    \n",
    "    # Permanent terms\n",
    "    df[f'TL_flux{letter}_X'] = A[:,0]\n",
    "    df[f'TL_flux{letter}_Y'] = A[:,1]\n",
    "    df[f'TL_flux{letter}_Z'] = A[:,2]\n",
    "\n",
    "    # Induced terms\n",
    "    df[f'TL_flux{letter}_XX'] = A[:,3]\n",
    "    df[f'TL_flux{letter}_XY'] = A[:,4]\n",
    "    df[f'TL_flux{letter}_XZ'] = A[:,5]\n",
    "    df[f'TL_flux{letter}_YY'] = A[:,6]\n",
    "    df[f'TL_flux{letter}_YZ'] = A[:,7]\n",
    "    df[f'TL_flux{letter}_ZZ'] = A[:,8]\n",
    "\n",
    "    # Eddy terms\n",
    "    df[f'TL_flux{letter}_XXdot'] = A[:,9]\n",
    "    df[f'TL_flux{letter}_XYdot'] = A[:,10]\n",
    "    df[f'TL_flux{letter}_XZdot'] = A[:,11]\n",
    "    df[f'TL_flux{letter}_YXdot'] = A[:,12]\n",
    "    df[f'TL_flux{letter}_YYdot'] = A[:,13]\n",
    "    df[f'TL_flux{letter}_YZdot'] = A[:,14]\n",
    "    df[f'TL_flux{letter}_ZXdot'] = A[:,15]\n",
    "    df[f'TL_flux{letter}_ZYdot'] = A[:,16]\n",
    "    df[f'TL_flux{letter}_ZZdot'] = A[:,17]\n",
    "    \n",
    "    return df"
   ]
  },
  {
   "cell_type": "code",
   "execution_count": null,
   "id": "1f45a00e-21c7-4617-b236-3b6da8d4154e",
   "metadata": {},
   "outputs": [],
   "source": [
    "def add_BodytoNav_terms(Pitch,Yaw,Roll,df):\n",
    "    # Matrix transition from body to Nav\n",
    "    c_p = np.cos(Pitch) #p = pitch, y = yaw, r = roll, c = cos, s = sin\n",
    "    s_p = np.sin(Pitch)\n",
    "    c_y = np.cos(Yaw)\n",
    "    s_y = np.sin(Yaw)\n",
    "    c_r = np.cos(Roll)\n",
    "    s_r = np.sin(Roll)\n",
    "\n",
    "    df['TM1'] = c_p*c_y\n",
    "    df['TM2'] = s_r*s_p*c_y-c_r*s_y\n",
    "    df['TM3'] = c_r*s_p*c_y+s_r*s_y\n",
    "    df['TM4'] = c_p*s_y\n",
    "    df['TM5'] = s_r*s_p*s_y+c_r*c_y\n",
    "    df['TM6'] = c_r*s_p*s_y-s_r*c_y\n",
    "    df['TM7'] = -s_p\n",
    "    df['TM8'] = s_r*c_p\n",
    "    df['TM9'] = c_r*c_p\n",
    "    \n",
    "    return df"
   ]
  },
  {
   "cell_type": "code",
   "execution_count": null,
   "id": "0f060134-b555-4f20-8318-96659f83dd3b",
   "metadata": {},
   "outputs": [],
   "source": [
    "TL_cor_df = COR_df.copy()\n",
    "\n",
    "add_A_terms(df_sel_flight['FLUXB_X'],df_sel_flight['FLUXB_Y'],df_sel_flight['FLUXB_Z'],TL_cor_df,'B')\n",
    "add_A_terms(df_sel_flight['FLUXC_X'],df_sel_flight['FLUXC_Y'],df_sel_flight['FLUXC_Z'],TL_cor_df,'C')\n",
    "add_A_terms(df_sel_flight['FLUXD_X'],df_sel_flight['FLUXD_Y'],df_sel_flight['FLUXD_Z'],TL_cor_df,'D')\n",
    "\n",
    "add_BodytoNav_terms(df_sel_flight['PITCH'],df_sel_flight['AZIMUTH'],df_sel_flight['ROLL'],TL_cor_df)"
   ]
  },
  {
   "cell_type": "code",
   "execution_count": null,
   "id": "b1b905f2-5421-41de-aa96-bddf991cf076",
   "metadata": {},
   "outputs": [],
   "source": [
    "X = TL_cor_df.drop(['IGRFMAG1','COMPMAG1','DCMAG1','LAGMAG1','UNCOMPMAG1','TL_comp_mag1_sq','TL_comp_mag1_cl','TL_comp_mag1_sqcl',\n",
    "                    'LINE','TIME','UTM_X','UTM_Y','UTM_Z','MSL_Z','LAT','LONG','RADAR','TOPO','DEM','DRAPE','OGS_MAG','OGS_HGT'],axis=1)\n",
    "y = TL_cor_df['IGRFMAG1']\n",
    "\n",
    "xgb_params = {\n",
    "    'eta' : 0.05,\n",
    "    'max_depth' : 10,\n",
    "    'subsample' : 1.0,\n",
    "    'colsample_bytree' : 0.7,\n",
    "    'objective' : 'reg:squarederror',\n",
    "    'eval_metric' : 'rmse',\n",
    "}\n",
    "\n",
    "dtrain = xgb.DMatrix(X,y,feature_names=X.columns.values)\n",
    "model = xgb.train(dict(xgb_params),dtrain,num_boost_round=100)\n",
    "remain_num = 200\n",
    "\n",
    "fig, ax = plt.subplots(figsize=[8,27])\n",
    "xgb.plot_importance(model,max_num_features=remain_num,height=0.8, ax=ax)\n",
    "plt.show()"
   ]
  },
  {
   "cell_type": "markdown",
   "id": "1eff26e9-c44c-47e0-bab5-4cc4d1e3246d",
   "metadata": {},
   "source": [
    "These new features seems not to have a big impact"
   ]
  },
  {
   "cell_type": "markdown",
   "id": "6c127a96-d880-4e9f-91dc-be6267f8b4f8",
   "metadata": {},
   "source": [
    "# 6 - Selected features"
   ]
  },
  {
   "cell_type": "markdown",
   "id": "1644ec7b-2aef-4ca3-908b-34e01c26c6fa",
   "metadata": {},
   "source": [
    "After this data analysis, it is time to choose the features we will use for our model (they are not fixed and are subject to evolve).<br>\n",
    "At first, the **magnetometers 5 and 4** seem to be good choices for our model with a **cloverleaf** pattern. The magnetometer 2 is too noisy and the magnetometer 3 is noisier than magnetometer 4. <br>\n",
    "As for the different features of the magnetometers, here is the list of what has been chosen :\n",
    "- V_BAT1/V_BAT2$~~~~~~~~~~~~~~$| A relationship has been clearly demonstrated before between the batteries and the measurements. We take both batteries as input and not only battery 1 because they work together.\n",
    "- INS_VEL_N/W/V$~~~~~~~~~~~~~~$| Among all the analyses, the velocities calculated by the INS seem to correlate with our measurements. These features are therefore interesting for our model.\n",
    "- BARO$~~~~~~~~~~~~~~~~~~~~~~~~~~~~~~$| The altitude is also an important element for our model. In the case of magnetic measurements, it acts as a low pass filter and therefore having the current altitude measurement is a relevant feature.\n",
    "- CUR_IHTR$~~~~~~~~~~~~~~~~~~~~~~$| This feature has been brought up by our previous analyses and also seems to have an impact on our measurements. Since it is an electrical element close to the magnetometers, and one of the elements with the highest current, it seems interesting to add this feature to our model.\n",
    "- CUR_ACLo/CUR_ACHi\n",
    "- CUR_TANK\n",
    "- CUR_FLAP\n",
    "- V_BLOCK\n",
    "- PITCH/ROLL/AZIMUTH$~~~~$| Since to calibrate the effects of the aircraft we use the maneuvers of the control surfaces, it seems relevant to add the associated features. In the analyses, the link between the control surface movements and the magnetic measurements is not clear, but this mays be due to the fact that they are rather constant during the flight.\n",
    "\n",
    "This is not definitive, we will also do test with the model directly to see feature importance."
   ]
  },
  {
   "cell_type": "markdown",
   "id": "0882d27a-c6f2-4f52-8d24-e0f914201cdc",
   "metadata": {},
   "source": [
    "# 7 - Training data"
   ]
  },
  {
   "cell_type": "markdown",
   "id": "c6a013e4-1c8a-4267-8743-58b360f5ec20",
   "metadata": {},
   "source": [
    "## 7.1 - Precautions"
   ]
  },
  {
   "cell_type": "markdown",
   "id": "ffeeb876-8c65-471c-be17-27c66f099131",
   "metadata": {},
   "source": [
    "We now have our data for our training and we can start the model selection and the training of this model. However, our data are time series and, moreover, correspond to a spatial position. If we select all the lines of the flight 1003, we realize in [section 2](#2.1---OpenStreetMap) that some sections of the flight pass through the same places at different times. This leads to a potential leak of test data. Best example is flight 1003, section 1003.02 and 1003.04 correspond to the same trajectory at different times (but close enough in time to be considered identical). This can be also seen in the plots below where the error between the truth and the magnetometer seems to follow the longitude/latitude pattern."
   ]
  },
  {
   "cell_type": "code",
   "execution_count": null,
   "id": "d020186c-4f15-4f68-81c2-1f8cc8e47a33",
   "metadata": {},
   "outputs": [],
   "source": [
    "fig, (ax1,ax2,ax3) = plt.subplots(1,3,figsize=[25,10])\n",
    "\n",
    "ax1.plot(df1003['IGRFMAG1']-df1003['UNCOMPMAG5'])\n",
    "ax2.plot(df1003['LONG'])\n",
    "ax3.plot(df1003['LAT'])\n",
    "ax1.grid(),ax2.grid(),ax3.grid()\n",
    "ax1.set_title('Error bewteen truth and UNCOMPMAG5'),ax2.set_title('Longitude'),ax3.set_title('Latitude')\n",
    "ax1.set_xlabel('Time [s]'),ax2.set_xlabel('Time [s]'),ax3.set_xlabel('Time [s]')\n",
    "ax1.set_ylabel('[nT]'),ax2.set_ylabel('[deg]'),ax3.set_ylabel('[deg]')\n",
    "\n",
    "plt.show()"
   ]
  },
  {
   "cell_type": "markdown",
   "id": "eb6a5cdb-fa6e-428a-abdf-c4c8bd510e9f",
   "metadata": {},
   "source": [
    "## 7.2 - Data selection"
   ]
  },
  {
   "cell_type": "markdown",
   "id": "8e01e072-789d-473c-981b-2b65274e6224",
   "metadata": {},
   "source": [
    "We will therefore choose sections of different trajectories that represent a fairly wide variety of movement and that do not overlap or overlap a little."
   ]
  },
  {
   "cell_type": "code",
   "execution_count": null,
   "id": "cbfa41e8-fcb3-4d18-8fef-6400711a20ba",
   "metadata": {},
   "outputs": [],
   "source": [
    "# Create a widget to select the flight to load\n",
    "\n",
    "w_flight = widgets.ToggleButtons(\n",
    "    options=[('1002', 2), ('1003', 3)],\n",
    "    value=2,\n",
    "    description='Load flight')\n",
    "display(w_flight)"
   ]
  },
  {
   "cell_type": "code",
   "execution_count": null,
   "id": "fc3e47d8-6910-48c6-8150-6eab09c9d66f",
   "metadata": {},
   "outputs": [],
   "source": [
    "df_sel_flight = eval(f'df100{w_flight.value}')"
   ]
  },
  {
   "cell_type": "code",
   "execution_count": null,
   "id": "57e0fcae-6187-410b-9857-ec4da0529a39",
   "metadata": {},
   "outputs": [],
   "source": [
    "# Does not work on jupyter lab\n",
    "\n",
    "m = Map(center   = [45.1278, -75.5120],\n",
    "        zoom     = 8,\n",
    "        max_zoom = 12,\n",
    "        min_zoom = 8,\n",
    "        layout   = Layout(width='100%',height='800px'))\n",
    "\n",
    "m.add_layer(LocalTileLayer(path=\"data/external/tiles/{z}/{x}/{y}.png\"))\n",
    "\n",
    "legend = LegendControl({},name=\"Legend\",position=\"topright\")\n",
    "step = 10 \n",
    "for line in df_sel_flight.LINE.unique():\n",
    "    color = magnav.get_random_color()\n",
    "    mask = (df_sel_flight.LINE == line)\n",
    "    locations = (df_sel_flight\n",
    "                 .loc[mask,['LAT','LONG']][::step]\n",
    "                 .values\n",
    "                 .tolist())\n",
    "    pline = Polyline(\n",
    "        locations = locations,\n",
    "        color     = color,\n",
    "        fill      = False,\n",
    "        opacity   = 1)\n",
    "    m.add_layer(pline)\n",
    "    legend.add_legend_element(str(line),color)\n",
    "\n",
    "m.add_control(legend)\n",
    "m.add_control(ScaleControl(position='bottomleft'))\n",
    "\n",
    "m"
   ]
  },
  {
   "cell_type": "markdown",
   "id": "1fcd2c63-ef16-4b8c-bb78-b3ffa748c836",
   "metadata": {},
   "source": [
    "We can also see difference in magnitude to select lines with a significant magnitude"
   ]
  },
  {
   "cell_type": "code",
   "execution_count": null,
   "id": "d48eda36-5238-43e1-b59d-d3484749db9e",
   "metadata": {},
   "outputs": [],
   "source": [
    "fig, ((ax1,ax2),(ax3,ax4),(ax5,ax6)) = plt.subplots(3,2,figsize=[25,20])\n",
    "\n",
    "# 1002\n",
    "points = np.array([df1002['LONG'],df1002['LAT']]).T.reshape(-1,1,2)\n",
    "segments = np.concatenate([points[:-1],points[1:]],axis=1)\n",
    "lc = LineCollection(segments,cmap=plt.get_cmap('Spectral'))\n",
    "lc.set_array(df1002['IGRFMAG1'])\n",
    "lc.set_clim(vmin=-500,vmax=500)\n",
    "ax1.add_collection(lc)\n",
    "cbar = plt.colorbar(lc,ax=ax1,label='[nT]')\n",
    "\n",
    "ax1.set_xlim(min(df1002['LONG'])-0.1,max(df1002['LONG'])+0.1)\n",
    "ax1.set_ylim(min(df1002['LAT'])-0.1,max(df1002['LAT'])+0.1)\n",
    "ax1.set_xlabel('Longitude'), ax1.set_ylabel('Latitude'), ax1.set_title('Flight 1002')\n",
    "ax1.grid()\n",
    "\n",
    "# 1003\n",
    "points = np.array([df1003['LONG'],df1003['LAT']]).T.reshape(-1,1,2)\n",
    "segments = np.concatenate([points[:-1],points[1:]],axis=1)\n",
    "\n",
    "lc = LineCollection(segments,cmap=plt.get_cmap('Spectral'))\n",
    "lc.set_array(df1003['IGRFMAG1'])\n",
    "lc.set_clim(vmin=-500,vmax=500)\n",
    "ax2.add_collection(lc)\n",
    "\n",
    "cbar = plt.colorbar(lc,ax=ax2,label='[nT]')\n",
    "\n",
    "ax2.set_xlim(min(df1003['LONG'])-0.1,max(df1003['LONG'])+0.1)\n",
    "ax2.set_ylim(min(df1003['LAT'])-0.1,max(df1003['LAT'])+0.1)\n",
    "ax2.set_xlabel('Longitude'), ax2.set_ylabel('Latitude'), ax2.set_title('Flight 1003')\n",
    "ax2.grid()\n",
    "\n",
    "# 1004\n",
    "points = np.array([df1004['LONG'],df1004['LAT']]).T.reshape(-1,1,2)\n",
    "segments = np.concatenate([points[:-1],points[1:]],axis=1)\n",
    "\n",
    "lc = LineCollection(segments,cmap=plt.get_cmap('Spectral'))\n",
    "lc.set_array(df1004['IGRFMAG1'])\n",
    "lc.set_clim(vmin=-500,vmax=500)\n",
    "ax3.add_collection(lc)\n",
    "\n",
    "cbar = plt.colorbar(lc,ax=ax3,label='[nT]')\n",
    "\n",
    "ax3.set_xlim(min(df1004['LONG'])-0.1,max(df1004['LONG'])+0.1)\n",
    "ax3.set_ylim(min(df1004['LAT'])-0.1,max(df1004['LAT'])+0.1)\n",
    "ax3.set_xlabel('Longitude'), ax3.set_ylabel('Latitude'), ax3.set_title('Flight 1004')\n",
    "ax3.grid()\n",
    "\n",
    "# 1005\n",
    "points = np.array([df1005['LONG'],df1005['LAT']]).T.reshape(-1,1,2)\n",
    "segments = np.concatenate([points[:-1],points[1:]],axis=1)\n",
    "\n",
    "lc = LineCollection(segments,cmap=plt.get_cmap('Spectral'))\n",
    "lc.set_array(df1005['IGRFMAG1'])\n",
    "lc.set_clim(vmin=-500,vmax=500)\n",
    "ax4.add_collection(lc)\n",
    "\n",
    "cbar = plt.colorbar(lc,ax=ax4,label='[nT]')\n",
    "\n",
    "ax4.set_xlim(min(df1005['LONG'])-0.1,max(df1005['LONG'])+0.1)\n",
    "ax4.set_ylim(min(df1005['LAT'])-0.1,max(df1005['LAT'])+0.1)\n",
    "ax4.set_xlabel('Longitude'), ax4.set_ylabel('Latitude'), ax4.set_title('Flight 1005')\n",
    "ax4.grid()\n",
    "\n",
    "# 1006\n",
    "points = np.array([df1006['LONG'],df1006['LAT']]).T.reshape(-1,1,2)\n",
    "segments = np.concatenate([points[:-1],points[1:]],axis=1)\n",
    "\n",
    "lc = LineCollection(segments,cmap=plt.get_cmap('Spectral'))\n",
    "lc.set_array(df1006['IGRFMAG1'])\n",
    "lc.set_clim(vmin=-500,vmax=500)\n",
    "ax5.add_collection(lc)\n",
    "\n",
    "cbar = plt.colorbar(lc,ax=ax5,label='[nT]')\n",
    "\n",
    "ax5.set_xlim(min(df1006['LONG'])-0.1,max(df1006['LONG'])+0.1)\n",
    "ax5.set_ylim(min(df1006['LAT'])-0.1,max(df1006['LAT'])+0.1)\n",
    "ax5.set_xlabel('Longitude'), ax5.set_ylabel('Latitude'), ax5.set_title('Flight 1006')\n",
    "ax5.grid()\n",
    "\n",
    "# 1007\n",
    "points = np.array([df1007['LONG'],df1007['LAT']]).T.reshape(-1,1,2)\n",
    "segments = np.concatenate([points[:-1],points[1:]],axis=1)\n",
    "\n",
    "lc = LineCollection(segments,cmap=plt.get_cmap('Spectral'))\n",
    "lc.set_array(df1007['IGRFMAG1'])\n",
    "lc.set_clim(vmin=-500,vmax=500)\n",
    "ax6.add_collection(lc)\n",
    "\n",
    "cbar = plt.colorbar(lc,ax=ax6,label='[nT]')\n",
    "\n",
    "ax6.set_xlim(min(df1007['LONG'])-0.1,max(df1007['LONG'])+0.1)\n",
    "ax6.set_ylim(min(df1007['LAT'])-0.1,max(df1007['LAT'])+0.1)\n",
    "ax6.set_xlabel('Longitude'), ax6.set_ylabel('Latitude'), ax6.set_title('Flight 1007')\n",
    "ax6.grid()\n",
    "\n",
    "plt.show()"
   ]
  },
  {
   "cell_type": "markdown",
   "id": "f28d56e1-299b-4a15-bd48-c8237f0fd30d",
   "metadata": {},
   "source": [
    "Selected sections :\n",
    "Cross validation, flight 1003,1002 and 1007 used for testing and all other flights except 1005 also used for training"
   ]
  }
 ],
 "metadata": {
  "kernelspec": {
   "display_name": "Python 3 (ipykernel)",
   "language": "python",
   "name": "python3"
  },
  "language_info": {
   "codemirror_mode": {
    "name": "ipython",
    "version": 3
   },
   "file_extension": ".py",
   "mimetype": "text/x-python",
   "name": "python",
   "nbconvert_exporter": "python",
   "pygments_lexer": "ipython3",
   "version": "3.8.10"
  }
 },
 "nbformat": 4,
 "nbformat_minor": 5
}
