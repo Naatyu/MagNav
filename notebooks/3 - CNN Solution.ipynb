{
 "cells": [
  {
   "cell_type": "markdown",
   "id": "787cf624-2022-4398-b171-8966cf5961b1",
   "metadata": {},
   "source": [
    "# About this Notebook"
   ]
  },
  {
   "cell_type": "markdown",
   "id": "5290a9f7-eb43-4303-b2ed-1b86764c3c69",
   "metadata": {},
   "source": [
    "The purpose of this notebook is to study a convolutional network solution. The MLP performs well when the validation/test is on the same flight as the training, however it does not generalize well to other flights. We will therefore try to use a new architecture able to detect more complex pattern in the data : a convolutional network. See previous notebook for more details"
   ]
  },
  {
   "cell_type": "markdown",
   "id": "c734be54-c42b-4071-a2a2-1e15c64e6780",
   "metadata": {},
   "source": [
    "Multivariate Multiple input time series data"
   ]
  },
  {
   "cell_type": "markdown",
   "id": "92c9cba1-7aeb-4a82-9186-739d60dbd969",
   "metadata": {},
   "source": [
    "# Table of Contents"
   ]
  },
  {
   "cell_type": "markdown",
   "id": "5b4568c7-dc1c-4e4c-ba08-405f6421d611",
   "metadata": {},
   "source": []
  },
  {
   "cell_type": "markdown",
   "id": "8ed86a52-9f7d-405e-a43d-c517ec78c40a",
   "metadata": {},
   "source": [
    "# Import packages"
   ]
  },
  {
   "cell_type": "code",
   "execution_count": 1,
   "id": "e113e185-1989-4881-b9ff-e74839788940",
   "metadata": {},
   "outputs": [],
   "source": [
    "# import os\n",
    "# os.environ['CUDA_LAUNCH_BLOCKING'] = '1'"
   ]
  },
  {
   "cell_type": "code",
   "execution_count": 2,
   "id": "4daf1ac5-b32c-4443-8431-a92261cfe72d",
   "metadata": {},
   "outputs": [],
   "source": [
    "import pandas as pd\n",
    "import matplotlib.pyplot as plt\n",
    "import numpy as np\n",
    "from sklearn.preprocessing import MinMaxScaler\n",
    "import torch\n",
    "from torch.utils.data import Dataset, DataLoader\n",
    "import magnav\n",
    "from tabulate import tabulate\n",
    "from tqdm.notebook import tqdm_notebook"
   ]
  },
  {
   "cell_type": "code",
   "execution_count": 3,
   "id": "4622fc2d-f240-43f0-9af6-505aac39de89",
   "metadata": {},
   "outputs": [
    {
     "data": {
      "text/plain": [
       "<torch._C.Generator at 0x7f4e1eb47af0>"
      ]
     },
     "execution_count": 3,
     "metadata": {},
     "output_type": "execute_result"
    }
   ],
   "source": [
    "torch.manual_seed(27) # For reproducibility"
   ]
  },
  {
   "cell_type": "code",
   "execution_count": 4,
   "id": "c1c24111-77a2-4a10-ab2a-d0525294c819",
   "metadata": {},
   "outputs": [],
   "source": [
    "# device = magnav.get_device()\n",
    "device = torch.device('cuda:0')"
   ]
  },
  {
   "cell_type": "markdown",
   "id": "8f15ba8b-e75a-4587-9937-0cc6da51ed6b",
   "metadata": {},
   "source": [
    "# 1 - What is a Convolutional Neural Network"
   ]
  },
  {
   "cell_type": "markdown",
   "id": "408120d8-67e7-42d1-87fb-22c7d32b277b",
   "metadata": {},
   "source": []
  },
  {
   "cell_type": "markdown",
   "id": "5bb43ecb-d406-412b-8597-f9f0db345d8a",
   "metadata": {},
   "source": [
    "# 2 - Import of Data"
   ]
  },
  {
   "cell_type": "code",
   "execution_count": 5,
   "id": "00882998-7e48-4fdf-976f-48b2f77fb89b",
   "metadata": {},
   "outputs": [],
   "source": [
    "df2 = pd.read_hdf('../data/interim/Chall_dataset.h5', key=f'Flt1002')\n",
    "df3 = pd.read_hdf('../data/interim/Chall_dataset.h5', key=f'Flt1003')\n",
    "df4 = pd.read_hdf('../data/interim/Chall_dataset.h5', key=f'Flt1004')"
   ]
  },
  {
   "cell_type": "code",
   "execution_count": 6,
   "id": "02f67c79-c6e3-4f0e-98f1-3c71ef579aa2",
   "metadata": {},
   "outputs": [
    {
     "data": {
      "text/html": [
       "<div>\n",
       "<style scoped>\n",
       "    .dataframe tbody tr th:only-of-type {\n",
       "        vertical-align: middle;\n",
       "    }\n",
       "\n",
       "    .dataframe tbody tr th {\n",
       "        vertical-align: top;\n",
       "    }\n",
       "\n",
       "    .dataframe thead th {\n",
       "        text-align: right;\n",
       "    }\n",
       "</style>\n",
       "<table border=\"1\" class=\"dataframe\">\n",
       "  <thead>\n",
       "    <tr style=\"text-align: right;\">\n",
       "      <th></th>\n",
       "      <th>TL_comp_mag3_cl</th>\n",
       "      <th>TL_comp_mag5_cl</th>\n",
       "      <th>V_BAT1</th>\n",
       "      <th>V_BAT2</th>\n",
       "      <th>INS_ACC_X</th>\n",
       "      <th>INS_ACC_Y</th>\n",
       "      <th>INS_ACC_Z</th>\n",
       "      <th>CUR_IHTR</th>\n",
       "      <th>PITCH</th>\n",
       "      <th>ROLL</th>\n",
       "      <th>AZIMUTH</th>\n",
       "      <th>LINE</th>\n",
       "      <th>IGRFMAG1</th>\n",
       "    </tr>\n",
       "    <tr>\n",
       "      <th>Time [s]</th>\n",
       "      <th></th>\n",
       "      <th></th>\n",
       "      <th></th>\n",
       "      <th></th>\n",
       "      <th></th>\n",
       "      <th></th>\n",
       "      <th></th>\n",
       "      <th></th>\n",
       "      <th></th>\n",
       "      <th></th>\n",
       "      <th></th>\n",
       "      <th></th>\n",
       "      <th></th>\n",
       "    </tr>\n",
       "  </thead>\n",
       "  <tbody>\n",
       "    <tr>\n",
       "      <th>45100.0</th>\n",
       "      <td>-1026.777805</td>\n",
       "      <td>-44.982774</td>\n",
       "      <td>25.827</td>\n",
       "      <td>2.015</td>\n",
       "      <td>-0.109544</td>\n",
       "      <td>-0.389939</td>\n",
       "      <td>9.353474</td>\n",
       "      <td>1.734</td>\n",
       "      <td>9.19</td>\n",
       "      <td>0.19</td>\n",
       "      <td>204.01</td>\n",
       "      <td>1002.01</td>\n",
       "      <td>-297.343</td>\n",
       "    </tr>\n",
       "    <tr>\n",
       "      <th>45100.1</th>\n",
       "      <td>-1023.030351</td>\n",
       "      <td>-40.600326</td>\n",
       "      <td>25.826</td>\n",
       "      <td>2.014</td>\n",
       "      <td>-0.157305</td>\n",
       "      <td>-0.441169</td>\n",
       "      <td>9.317263</td>\n",
       "      <td>1.759</td>\n",
       "      <td>9.08</td>\n",
       "      <td>-0.03</td>\n",
       "      <td>203.95</td>\n",
       "      <td>1002.01</td>\n",
       "      <td>-296.223</td>\n",
       "    </tr>\n",
       "    <tr>\n",
       "      <th>45100.2</th>\n",
       "      <td>-1021.286230</td>\n",
       "      <td>-34.817623</td>\n",
       "      <td>25.824</td>\n",
       "      <td>2.013</td>\n",
       "      <td>-0.179486</td>\n",
       "      <td>-0.462637</td>\n",
       "      <td>9.348927</td>\n",
       "      <td>1.783</td>\n",
       "      <td>8.96</td>\n",
       "      <td>-0.22</td>\n",
       "      <td>203.91</td>\n",
       "      <td>1002.01</td>\n",
       "      <td>-295.079</td>\n",
       "    </tr>\n",
       "    <tr>\n",
       "      <th>45100.3</th>\n",
       "      <td>-1023.965085</td>\n",
       "      <td>-29.347438</td>\n",
       "      <td>25.820</td>\n",
       "      <td>2.010</td>\n",
       "      <td>-0.208515</td>\n",
       "      <td>-0.496153</td>\n",
       "      <td>9.333830</td>\n",
       "      <td>1.796</td>\n",
       "      <td>8.85</td>\n",
       "      <td>-0.39</td>\n",
       "      <td>203.90</td>\n",
       "      <td>1002.01</td>\n",
       "      <td>-293.939</td>\n",
       "    </tr>\n",
       "    <tr>\n",
       "      <th>45100.4</th>\n",
       "      <td>-1030.701663</td>\n",
       "      <td>-25.421394</td>\n",
       "      <td>25.815</td>\n",
       "      <td>2.007</td>\n",
       "      <td>-0.252133</td>\n",
       "      <td>-0.507891</td>\n",
       "      <td>9.261835</td>\n",
       "      <td>1.788</td>\n",
       "      <td>8.73</td>\n",
       "      <td>-0.55</td>\n",
       "      <td>203.91</td>\n",
       "      <td>1002.01</td>\n",
       "      <td>-292.821</td>\n",
       "    </tr>\n",
       "  </tbody>\n",
       "</table>\n",
       "</div>"
      ],
      "text/plain": [
       "          TL_comp_mag3_cl  TL_comp_mag5_cl  V_BAT1  V_BAT2  INS_ACC_X  \\\n",
       "Time [s]                                                                \n",
       "45100.0      -1026.777805       -44.982774  25.827   2.015  -0.109544   \n",
       "45100.1      -1023.030351       -40.600326  25.826   2.014  -0.157305   \n",
       "45100.2      -1021.286230       -34.817623  25.824   2.013  -0.179486   \n",
       "45100.3      -1023.965085       -29.347438  25.820   2.010  -0.208515   \n",
       "45100.4      -1030.701663       -25.421394  25.815   2.007  -0.252133   \n",
       "\n",
       "          INS_ACC_Y  INS_ACC_Z  CUR_IHTR  PITCH  ROLL  AZIMUTH     LINE  \\\n",
       "Time [s]                                                                  \n",
       "45100.0   -0.389939   9.353474     1.734   9.19  0.19   204.01  1002.01   \n",
       "45100.1   -0.441169   9.317263     1.759   9.08 -0.03   203.95  1002.01   \n",
       "45100.2   -0.462637   9.348927     1.783   8.96 -0.22   203.91  1002.01   \n",
       "45100.3   -0.496153   9.333830     1.796   8.85 -0.39   203.90  1002.01   \n",
       "45100.4   -0.507891   9.261835     1.788   8.73 -0.55   203.91  1002.01   \n",
       "\n",
       "          IGRFMAG1  \n",
       "Time [s]            \n",
       "45100.0   -297.343  \n",
       "45100.1   -296.223  \n",
       "45100.2   -295.079  \n",
       "45100.3   -293.939  \n",
       "45100.4   -292.821  "
      ]
     },
     "execution_count": 6,
     "metadata": {},
     "output_type": "execute_result"
    }
   ],
   "source": [
    "df2.head()"
   ]
  },
  {
   "cell_type": "markdown",
   "id": "e9581600-b402-40f2-bb4a-e49d174874c9",
   "metadata": {},
   "source": [
    "# 3 - Normalization"
   ]
  },
  {
   "cell_type": "code",
   "execution_count": 7,
   "id": "058ab94d-49fb-4faa-9cb1-b8b6f988b27f",
   "metadata": {},
   "outputs": [
    {
     "data": {
      "text/html": [
       "<div>\n",
       "<style scoped>\n",
       "    .dataframe tbody tr th:only-of-type {\n",
       "        vertical-align: middle;\n",
       "    }\n",
       "\n",
       "    .dataframe tbody tr th {\n",
       "        vertical-align: top;\n",
       "    }\n",
       "\n",
       "    .dataframe thead th {\n",
       "        text-align: right;\n",
       "    }\n",
       "</style>\n",
       "<table border=\"1\" class=\"dataframe\">\n",
       "  <thead>\n",
       "    <tr style=\"text-align: right;\">\n",
       "      <th></th>\n",
       "      <th>TL_comp_mag3_cl</th>\n",
       "      <th>TL_comp_mag5_cl</th>\n",
       "      <th>V_BAT1</th>\n",
       "      <th>V_BAT2</th>\n",
       "      <th>INS_ACC_X</th>\n",
       "      <th>INS_ACC_Y</th>\n",
       "      <th>INS_ACC_Z</th>\n",
       "      <th>CUR_IHTR</th>\n",
       "      <th>PITCH</th>\n",
       "      <th>ROLL</th>\n",
       "      <th>AZIMUTH</th>\n",
       "      <th>LINE</th>\n",
       "      <th>IGRFMAG1</th>\n",
       "    </tr>\n",
       "  </thead>\n",
       "  <tbody>\n",
       "    <tr>\n",
       "      <th>count</th>\n",
       "      <td>207578.000000</td>\n",
       "      <td>207578.000000</td>\n",
       "      <td>207578.000000</td>\n",
       "      <td>207578.000000</td>\n",
       "      <td>207578.000000</td>\n",
       "      <td>207578.000000</td>\n",
       "      <td>207578.000000</td>\n",
       "      <td>207578.000000</td>\n",
       "      <td>207578.000000</td>\n",
       "      <td>207578.000000</td>\n",
       "      <td>207578.000000</td>\n",
       "      <td>207578.000000</td>\n",
       "      <td>207578.000000</td>\n",
       "    </tr>\n",
       "    <tr>\n",
       "      <th>mean</th>\n",
       "      <td>0.120479</td>\n",
       "      <td>-0.499555</td>\n",
       "      <td>-0.643363</td>\n",
       "      <td>-0.078342</td>\n",
       "      <td>-0.124208</td>\n",
       "      <td>-0.031765</td>\n",
       "      <td>0.058171</td>\n",
       "      <td>-0.026525</td>\n",
       "      <td>0.202881</td>\n",
       "      <td>-0.090270</td>\n",
       "      <td>0.105508</td>\n",
       "      <td>1152.355312</td>\n",
       "      <td>15.822918</td>\n",
       "    </tr>\n",
       "    <tr>\n",
       "      <th>std</th>\n",
       "      <td>0.060556</td>\n",
       "      <td>0.148419</td>\n",
       "      <td>0.223182</td>\n",
       "      <td>0.484986</td>\n",
       "      <td>0.168563</td>\n",
       "      <td>0.163822</td>\n",
       "      <td>0.109107</td>\n",
       "      <td>0.352792</td>\n",
       "      <td>0.232093</td>\n",
       "      <td>0.257489</td>\n",
       "      <td>0.537493</td>\n",
       "      <td>603.633030</td>\n",
       "      <td>263.641503</td>\n",
       "    </tr>\n",
       "    <tr>\n",
       "      <th>min</th>\n",
       "      <td>-1.000000</td>\n",
       "      <td>-1.000000</td>\n",
       "      <td>-1.000000</td>\n",
       "      <td>-1.000000</td>\n",
       "      <td>-1.000000</td>\n",
       "      <td>-1.000000</td>\n",
       "      <td>-1.000000</td>\n",
       "      <td>-1.000000</td>\n",
       "      <td>-1.000000</td>\n",
       "      <td>-1.000000</td>\n",
       "      <td>-1.000000</td>\n",
       "      <td>158.000000</td>\n",
       "      <td>-868.652000</td>\n",
       "    </tr>\n",
       "    <tr>\n",
       "      <th>25%</th>\n",
       "      <td>0.092208</td>\n",
       "      <td>-0.566069</td>\n",
       "      <td>-0.749049</td>\n",
       "      <td>-0.471795</td>\n",
       "      <td>-0.174118</td>\n",
       "      <td>-0.076751</td>\n",
       "      <td>0.013592</td>\n",
       "      <td>-0.260143</td>\n",
       "      <td>0.078834</td>\n",
       "      <td>-0.167997</td>\n",
       "      <td>-0.246764</td>\n",
       "      <td>1002.030000</td>\n",
       "      <td>-106.787250</td>\n",
       "    </tr>\n",
       "    <tr>\n",
       "      <th>50%</th>\n",
       "      <td>0.119767</td>\n",
       "      <td>-0.498298</td>\n",
       "      <td>-0.673004</td>\n",
       "      <td>-0.298462</td>\n",
       "      <td>-0.122392</td>\n",
       "      <td>-0.031005</td>\n",
       "      <td>0.058330</td>\n",
       "      <td>-0.072517</td>\n",
       "      <td>0.188985</td>\n",
       "      <td>-0.101912</td>\n",
       "      <td>0.016722</td>\n",
       "      <td>1002.150000</td>\n",
       "      <td>24.219500</td>\n",
       "    </tr>\n",
       "    <tr>\n",
       "      <th>75%</th>\n",
       "      <td>0.149140</td>\n",
       "      <td>-0.444462</td>\n",
       "      <td>-0.596958</td>\n",
       "      <td>0.360000</td>\n",
       "      <td>-0.071264</td>\n",
       "      <td>0.014450</td>\n",
       "      <td>0.103938</td>\n",
       "      <td>0.166514</td>\n",
       "      <td>0.307775</td>\n",
       "      <td>-0.032857</td>\n",
       "      <td>0.608167</td>\n",
       "      <td>1002.200000</td>\n",
       "      <td>120.868500</td>\n",
       "    </tr>\n",
       "    <tr>\n",
       "      <th>max</th>\n",
       "      <td>1.000000</td>\n",
       "      <td>1.000000</td>\n",
       "      <td>1.000000</td>\n",
       "      <td>1.000000</td>\n",
       "      <td>1.000000</td>\n",
       "      <td>1.000000</td>\n",
       "      <td>1.000000</td>\n",
       "      <td>1.000000</td>\n",
       "      <td>1.000000</td>\n",
       "      <td>1.000000</td>\n",
       "      <td>1.000000</td>\n",
       "      <td>3086.000000</td>\n",
       "      <td>2699.331000</td>\n",
       "    </tr>\n",
       "  </tbody>\n",
       "</table>\n",
       "</div>"
      ],
      "text/plain": [
       "       TL_comp_mag3_cl  TL_comp_mag5_cl         V_BAT1         V_BAT2  \\\n",
       "count    207578.000000    207578.000000  207578.000000  207578.000000   \n",
       "mean          0.120479        -0.499555      -0.643363      -0.078342   \n",
       "std           0.060556         0.148419       0.223182       0.484986   \n",
       "min          -1.000000        -1.000000      -1.000000      -1.000000   \n",
       "25%           0.092208        -0.566069      -0.749049      -0.471795   \n",
       "50%           0.119767        -0.498298      -0.673004      -0.298462   \n",
       "75%           0.149140        -0.444462      -0.596958       0.360000   \n",
       "max           1.000000         1.000000       1.000000       1.000000   \n",
       "\n",
       "           INS_ACC_X      INS_ACC_Y      INS_ACC_Z       CUR_IHTR  \\\n",
       "count  207578.000000  207578.000000  207578.000000  207578.000000   \n",
       "mean       -0.124208      -0.031765       0.058171      -0.026525   \n",
       "std         0.168563       0.163822       0.109107       0.352792   \n",
       "min        -1.000000      -1.000000      -1.000000      -1.000000   \n",
       "25%        -0.174118      -0.076751       0.013592      -0.260143   \n",
       "50%        -0.122392      -0.031005       0.058330      -0.072517   \n",
       "75%        -0.071264       0.014450       0.103938       0.166514   \n",
       "max         1.000000       1.000000       1.000000       1.000000   \n",
       "\n",
       "               PITCH           ROLL        AZIMUTH           LINE  \\\n",
       "count  207578.000000  207578.000000  207578.000000  207578.000000   \n",
       "mean        0.202881      -0.090270       0.105508    1152.355312   \n",
       "std         0.232093       0.257489       0.537493     603.633030   \n",
       "min        -1.000000      -1.000000      -1.000000     158.000000   \n",
       "25%         0.078834      -0.167997      -0.246764    1002.030000   \n",
       "50%         0.188985      -0.101912       0.016722    1002.150000   \n",
       "75%         0.307775      -0.032857       0.608167    1002.200000   \n",
       "max         1.000000       1.000000       1.000000    3086.000000   \n",
       "\n",
       "            IGRFMAG1  \n",
       "count  207578.000000  \n",
       "mean       15.822918  \n",
       "std       263.641503  \n",
       "min      -868.652000  \n",
       "25%      -106.787250  \n",
       "50%        24.219500  \n",
       "75%       120.868500  \n",
       "max      2699.331000  "
      ]
     },
     "execution_count": 7,
     "metadata": {},
     "output_type": "execute_result"
    }
   ],
   "source": [
    "df2.describe()\n",
    "\n",
    "scaling_range = [-1,1]\n",
    "MinMaxScaler_2 = MinMaxScaler(scaling_range)\n",
    "MinMaxScaler_3 = MinMaxScaler(scaling_range)\n",
    "MinMaxScaler_4 = MinMaxScaler(scaling_range)\n",
    "\n",
    "\n",
    "df2_scaled = pd.DataFrame()\n",
    "df3_scaled = pd.DataFrame()\n",
    "df4_scaled = pd.DataFrame()\n",
    "\n",
    "\n",
    "df2_scaled[df2.drop(columns=['LINE','IGRFMAG1']).columns] = MinMaxScaler_2.fit_transform(df2.drop(columns=['LINE','IGRFMAG1']))\n",
    "df3_scaled[df3.drop(columns=['LINE','IGRFMAG1']).columns] = MinMaxScaler_3.fit_transform(df3.drop(columns=['LINE','IGRFMAG1']))\n",
    "df4_scaled[df4.drop(columns=['LINE','IGRFMAG1']).columns] = MinMaxScaler_4.fit_transform(df4.drop(columns=['LINE','IGRFMAG1']))\n",
    "\n",
    "df2_scaled.index = df2.index\n",
    "df3_scaled.index = df3.index\n",
    "df4_scaled.index = df4.index\n",
    "\n",
    "df2_scaled[['LINE','IGRFMAG1']] = df2[['LINE','IGRFMAG1']]\n",
    "df3_scaled[['LINE','IGRFMAG1']] = df3[['LINE','IGRFMAG1']]\n",
    "df4_scaled[['LINE','IGRFMAG1']] = df4[['LINE','IGRFMAG1']]\n",
    "\n",
    "df2_scaled.describe()"
   ]
  },
  {
   "cell_type": "markdown",
   "id": "2fff7a42-6019-4a11-a66d-2979804acfdc",
   "metadata": {},
   "source": [
    "# 4 - Input Sequence"
   ]
  },
  {
   "cell_type": "code",
   "execution_count": 8,
   "id": "d717da54-f152-4959-bf73-9a2ad9b38c07",
   "metadata": {},
   "outputs": [],
   "source": [
    "def trim_data(data,seq_length):\n",
    "    # Remove excessive data that cannot be in a full sequence\n",
    "    if (len(data)%seq_length) != 0:\n",
    "        data = data[:-(len(data)%seq_length)]\n",
    "    else:\n",
    "        pass\n",
    "        \n",
    "    return data"
   ]
  },
  {
   "cell_type": "code",
   "execution_count": 9,
   "id": "96ef6ed4-bbe8-45dc-96a5-596d982e47cf",
   "metadata": {},
   "outputs": [],
   "source": [
    "class MagNavDataset(Dataset):\n",
    "    # split can be 'Train', 'Val', 'Test'\n",
    "    def __init__(self, df, seq_length, split):\n",
    "        \n",
    "        self.seq_length = seq_length\n",
    "        \n",
    "        # Get list of features\n",
    "        self.features   = df.drop(columns=['LINE','IGRFMAG1']).columns.to_list()\n",
    "        \n",
    "        if split == 'train':\n",
    "            \n",
    "            sections = np.delete(np.concatenate([df2_scaled.LINE.unique(),df3_scaled.LINE.unique()]),20)\n",
    "            mask_train = pd.Series(dtype=bool)\n",
    "            for line in sections:\n",
    "                mask  = (df.LINE == line)\n",
    "                mask_train = mask|mask_train\n",
    "            \n",
    "            X_train    = df.loc[mask_train,self.features]\n",
    "            y_train    = df.loc[mask_train,'IGRFMAG1']\n",
    "            \n",
    "            self.X = trim_data(torch.tensor(X_train.to_numpy(),dtype=torch.float32),seq_length)\n",
    "            self.y = trim_data(torch.tensor(np.reshape(y_train.to_numpy(),[-1,1]),dtype=torch.float32),seq_length)\n",
    "            \n",
    "        elif split == 'val':\n",
    "            \n",
    "            mask_val   = (df.LINE == 1002.14)\n",
    "            \n",
    "            X_val      = df.loc[mask_val,self.features]\n",
    "            y_val      = df.loc[mask_val,'IGRFMAG1']\n",
    "            \n",
    "            self.X = trim_data(torch.tensor(X_val.to_numpy(),dtype=torch.float32),seq_length)\n",
    "            self.y = trim_data(torch.tensor(np.reshape(y_val.to_numpy(),[-1,1]),dtype=torch.float32),seq_length)\n",
    "            \n",
    "        elif split == 'test':\n",
    "            \n",
    "            mask_test = pd.Series(dtype=bool)\n",
    "            for line in df4_scaled.LINE.unique():\n",
    "                mask  = (df.LINE == line)\n",
    "                mask_test = mask|mask_test\n",
    "            \n",
    "            X_test     = df.loc[mask_test,self.features]\n",
    "            y_test     = df.loc[mask_test,'IGRFMAG1']\n",
    "            \n",
    "            self.X = trim_data(torch.tensor(X_test.to_numpy(),dtype=torch.float32),seq_length)\n",
    "            self.y = trim_data(torch.tensor(np.reshape(y_test.to_numpy(),[-1,1]),dtype=torch.float32),seq_length)\n",
    "        \n",
    "    def __getitem__(self, index):\n",
    "        X = self.X[index:(index+self.seq_length),:]\n",
    "        y = self.y[index+self.seq_length-1]\n",
    "        return X, y\n",
    "    \n",
    "    def __len__(self):\n",
    "        return len(self.X)-self.seq_length"
   ]
  },
  {
   "cell_type": "code",
   "execution_count": 10,
   "id": "4221277b-96b7-4e55-bec9-92e3dcd20bd4",
   "metadata": {},
   "outputs": [],
   "source": [
    "df_concat = pd.concat([df2_scaled,df3_scaled,df4_scaled],ignore_index=True,axis=0)\n",
    "\n",
    "seq_length = 5\n",
    "\n",
    "train = MagNavDataset(df_concat,seq_length=seq_length,split='train')\n",
    "val   = MagNavDataset(df_concat,seq_length=seq_length,split='val')\n",
    "test  = MagNavDataset(df_concat,seq_length=seq_length,split='test')"
   ]
  },
  {
   "cell_type": "code",
   "execution_count": 11,
   "id": "fabdec10-9fd9-4c58-80fb-589100264047",
   "metadata": {},
   "outputs": [],
   "source": [
    "BATCH_SIZE = 32\n",
    "\n",
    "train_loader  = DataLoader(train,\n",
    "                           batch_size=BATCH_SIZE,\n",
    "                           shuffle=True,\n",
    "                           num_workers=0,\n",
    "                           pin_memory=False)\n",
    "\n",
    "val_loader    = DataLoader(val,\n",
    "                           batch_size=BATCH_SIZE,\n",
    "                           shuffle=False,\n",
    "                           num_workers=0,\n",
    "                           pin_memory=False)"
   ]
  },
  {
   "cell_type": "markdown",
   "id": "9f186dcc-b83c-4dd3-8228-160ed77648af",
   "metadata": {},
   "source": [
    "# 5 - Model"
   ]
  },
  {
   "cell_type": "code",
   "execution_count": 12,
   "id": "79d1eb0c-7616-4043-a6c9-71f35401baa8",
   "metadata": {},
   "outputs": [],
   "source": [
    "def count_parameters(model): # a rajouter dans magnav.py\n",
    "    \n",
    "    total_params = 0\n",
    "    table = np.array([[\"Modules\",\"Parameters\"]])\n",
    "\n",
    "    for name, parameter in model.named_parameters():\n",
    "        if not parameter.requires_grad: continue\n",
    "        params = parameter.numel()\n",
    "        table = np.concatenate((table,[[name,params]]),axis=0)\n",
    "        total_params += params\n",
    "    table = np.concatenate((table,[[\"\",\"\"],[\"Total Trainable Params\",total_params]]),axis=0)\n",
    "    print(tabulate(table,headers='firstrow',tablefmt=\"pipe\",stralign='right'))"
   ]
  },
  {
   "cell_type": "code",
   "execution_count": 13,
   "id": "6eb05def-b95a-436f-8ca8-9edd20f0d629",
   "metadata": {},
   "outputs": [
    {
     "name": "stdout",
     "output_type": "stream",
     "text": [
      "|                Modules |   Parameters |\n",
      "|-----------------------:|-------------:|\n",
      "|  architecture.0.weight |          480 |\n",
      "|    architecture.0.bias |           32 |\n",
      "|  architecture.2.weight |         6144 |\n",
      "|    architecture.2.bias |           64 |\n",
      "|  architecture.6.weight |        24576 |\n",
      "|    architecture.6.bias |          128 |\n",
      "|  architecture.8.weight |         8192 |\n",
      "|    architecture.8.bias |           64 |\n",
      "| architecture.10.weight |           64 |\n",
      "|   architecture.10.bias |            1 |\n",
      "|                        |              |\n",
      "| Total Trainable Params |        39745 |\n"
     ]
    }
   ],
   "source": [
    "class CNN(torch.nn.Module):\n",
    "    \n",
    "    def __init__(self,seq_length):\n",
    "        super(CNN,self).__init__()\n",
    "        \n",
    "        self.architecture = torch.nn.Sequential(\n",
    "            \n",
    "            torch.nn.Conv1d(in_channels  = seq_length,\n",
    "                            out_channels = 32,\n",
    "                            kernel_size  = 3,\n",
    "                            stride       = 1,\n",
    "                            padding      = 0,\n",
    "                            padding_mode = 'zeros'),\n",
    "            torch.nn.ReLU(),\n",
    "#             torch.nn.MaxPool1d(kernel_size = 2,\n",
    "#                                stride      = 2),\n",
    "            torch.nn.Conv1d(in_channels  = 32,\n",
    "                            out_channels = 64,\n",
    "                            kernel_size  = 3,\n",
    "                            stride       = 1,\n",
    "                            padding      = 0,\n",
    "                            padding_mode = 'zeros'),\n",
    "            torch.nn.ReLU(),\n",
    "            torch.nn.MaxPool1d(kernel_size = 2,\n",
    "                              stride       = 2),\n",
    "            \n",
    "            torch.nn.Flatten(),\n",
    "            torch.nn.Linear(192,128),\n",
    "            torch.nn.ReLU(),\n",
    "            torch.nn.Linear(128,64),\n",
    "            torch.nn.ReLU(),\n",
    "            torch.nn.Linear(64,1)\n",
    "        )\n",
    "    \n",
    "    def forward(self, x):\n",
    "        logits = self.architecture(x)\n",
    "        return logits\n",
    "\n",
    "CNN_test = CNN(seq_length).to(device)\n",
    "CNN_test.name = 'CNN_test'\n",
    "count_parameters(CNN_test)"
   ]
  },
  {
   "cell_type": "code",
   "execution_count": 14,
   "id": "3c785dd3-15e4-47f6-b2b2-996a8309373c",
   "metadata": {},
   "outputs": [],
   "source": [
    "class RMSELoss(torch.nn.Module):\n",
    "    \n",
    "    def __init__(self):\n",
    "        super(RMSELoss,self).__init__()\n",
    "        \n",
    "    def forward(self,yhat,y):\n",
    "        criterion = torch.nn.MSELoss()\n",
    "        loss = torch.sqrt(criterion(yhat,y)+1e-6)\n",
    "        return loss \n",
    "\n",
    "criterion = RMSELoss()"
   ]
  },
  {
   "cell_type": "code",
   "execution_count": 15,
   "id": "77ea0fdd-3596-4b4a-b6a1-96068a43f7a2",
   "metadata": {},
   "outputs": [],
   "source": [
    "def make_training(model,EPOCHS):\n",
    "\n",
    "    optimizer = torch.optim.Adam(model.parameters(),lr=1e-4) \n",
    "    \n",
    "    epoch_bar = tqdm_notebook(total=EPOCHS,unit=\"epoch\",desc='Training')\n",
    "    batch_bar = tqdm_notebook(total=len(train)//BATCH_SIZE,unit=\"batch\",desc='Training',leave=True)\n",
    "\n",
    "    train_loss_history = []\n",
    "    val_loss_history = []\n",
    "\n",
    "    for epoch in range(EPOCHS):\n",
    "\n",
    "        #---TRAIN---#\n",
    "\n",
    "        train_running_loss = 0.\n",
    "\n",
    "        # Make sure gradient tracking is on, and do a pass over the data\n",
    "        model.train()\n",
    "        \n",
    "        batch_bar.reset()\n",
    "        # Enumerate allow to track batch index and intra-epoch reporting \n",
    "        for batch_index, (inputs, labels) in enumerate(train_loader):\n",
    "\n",
    "            inputs, labels = inputs.to(device), labels.to(device)\n",
    "\n",
    "            # Make prediction for this batch\n",
    "            predictions = model(inputs)\n",
    "\n",
    "            # Compute the loss\n",
    "            loss = criterion(predictions, labels)\n",
    "\n",
    "            # Zero gradients for every batch\n",
    "            optimizer.zero_grad()\n",
    "\n",
    "            # Calculate gradients\n",
    "            loss.backward()\n",
    "\n",
    "            # Adjust learning weights\n",
    "            optimizer.step()\n",
    "\n",
    "            # Gather data and report\n",
    "            train_running_loss += loss.item()\n",
    "            \n",
    "            batch_bar.set_postfix(train_loss=train_running_loss/(batch_index+1),lr=optimizer.param_groups[0]['lr'])\n",
    "            batch_bar.update()\n",
    "\n",
    "        train_loss = train_running_loss / batch_index\n",
    "        train_loss_history.append(train_loss)\n",
    "\n",
    "        #---VALIDATION---#\n",
    "\n",
    "        val_running_loss = 0.\n",
    "        \n",
    "        model.eval()\n",
    "        \n",
    "        with torch.no_grad():\n",
    "            \n",
    "            for batch_index, (inputs, labels) in enumerate(val_loader):\n",
    "\n",
    "                inputs, labels = inputs.to(device), labels.to(device)\n",
    "\n",
    "                # Make prediction\n",
    "                predictions = model(inputs)\n",
    "\n",
    "                # Compute the loss\n",
    "                loss = criterion(predictions, labels)\n",
    "\n",
    "                # Gather data and report\n",
    "                val_running_loss += loss.item()\n",
    "\n",
    "            val_loss = val_running_loss / batch_index\n",
    "            val_loss_history.append(val_loss)\n",
    "        \n",
    "        epoch_bar.set_postfix(train_loss=train_loss,val_loss=val_loss,lr=optimizer.param_groups[0]['lr'])\n",
    "        epoch_bar.update()\n",
    "\n",
    "    return train_loss_history, val_loss_history"
   ]
  },
  {
   "cell_type": "code",
   "execution_count": 16,
   "id": "2105c3d0-5474-4542-98ee-1f5a0bbb9d31",
   "metadata": {},
   "outputs": [
    {
     "data": {
      "application/vnd.jupyter.widget-view+json": {
       "model_id": "449f556a9df34b16bdf2be20d2612a7d",
       "version_major": 2,
       "version_minor": 0
      },
      "text/plain": [
       "Training:   0%|          | 0/500 [00:00<?, ?epoch/s]"
      ]
     },
     "metadata": {},
     "output_type": "display_data"
    },
    {
     "data": {
      "application/vnd.jupyter.widget-view+json": {
       "model_id": "3b5b72c6b565493b99ee9cfddf55b4a9",
       "version_major": 2,
       "version_minor": 0
      },
      "text/plain": [
       "Training:   0%|          | 0/10719 [00:00<?, ?batch/s]"
      ]
     },
     "metadata": {},
     "output_type": "display_data"
    },
    {
     "name": "stderr",
     "output_type": "stream",
     "text": [
      "/home/nlaoue/projet/venv/lib/python3.8/site-packages/torch/nn/functional.py:652: UserWarning: Named tensors and all their associated APIs are an experimental feature and subject to change. Please do not use them for anything important until they are released as stable. (Triggered internally at  /pytorch/c10/core/TensorImpl.h:1156.)\n",
      "  return torch.max_pool1d(input, kernel_size, stride, padding, dilation, ceil_mode)\n"
     ]
    }
   ],
   "source": [
    "train_loss_history, val_loss_history = make_training(CNN_test,500)"
   ]
  },
  {
   "cell_type": "code",
   "execution_count": 16,
   "id": "8d783c21-0cb7-4cc8-afd7-67ac02db2120",
   "metadata": {},
   "outputs": [],
   "source": [
    "def make_evaluation(model,train_loss_history,val_loss_history):\n",
    "    with torch.no_grad():\n",
    "\n",
    "#         model.eval()\n",
    "#         pred_val = model(val.X)\n",
    "#         true_val = val.y\n",
    "\n",
    "#         pred_test = model(test.X) \n",
    "#         true_test = test.y\n",
    "        \n",
    "        fig, (ax1,ax2,ax3) = plt.subplots(1,3,figsize=[30,8])\n",
    "        \n",
    "#         ax1.plot(pred_val,label='Prediction')\n",
    "#         ax1.plot(true_val,label='Truth')\n",
    "#         ax1.legend(loc='upper right')\n",
    "        ax1.set_title('Validation set')\n",
    "        ax1.grid()\n",
    "\n",
    "#         rmse = magnav.rmse(pred_val,true_val)\n",
    "#         ax1.text(-2.391,0.968,f'RMSE={rmse:.2f}nT',fontsize=12,bbox=dict(facecolor = 'C0',alpha=0.6),transform=plt.gca().transAxes)\n",
    "        \n",
    "#         ax2.plot(pred_test,label='Prediction')\n",
    "#         ax2.plot(true_test,label='Truth')\n",
    "#         ax2.legend(loc='upper right')\n",
    "#         ax2.set_title('Test set')\n",
    "#         ax2.grid()\n",
    "\n",
    "#         rmse = magnav.rmse(pred_test,true_test)\n",
    "#         ax2.text(-1.193,0.968,f'RMSE={rmse:.2f}nT',fontsize=12,bbox=dict(facecolor = 'C0',alpha=0.6),transform=plt.gca().transAxes)\n",
    "\n",
    "        ax3.plot(train_loss_history,label='Train loss')\n",
    "        ax3.plot(val_loss_history,label='Validation loss')\n",
    "        ax3.set_title('Loss')\n",
    "        ax3.legend()\n",
    "        ax3.grid()\n",
    "        \n",
    "#         plt.savefig(f'runs/MLP/{model.name}.jpg')\n",
    "        plt.show()"
   ]
  },
  {
   "cell_type": "code",
   "execution_count": 17,
   "id": "97d6c973-5322-47dc-a7cd-a03f522876c0",
   "metadata": {},
   "outputs": [
    {
     "ename": "NameError",
     "evalue": "name 'train_loss_history' is not defined",
     "output_type": "error",
     "traceback": [
      "\u001b[0;31m---------------------------------------------------------------------------\u001b[0m",
      "\u001b[0;31mNameError\u001b[0m                                 Traceback (most recent call last)",
      "\u001b[0;32m/tmp/ipykernel_3860/1687968076.py\u001b[0m in \u001b[0;36m<module>\u001b[0;34m\u001b[0m\n\u001b[0;32m----> 1\u001b[0;31m \u001b[0mmake_evaluation\u001b[0m\u001b[0;34m(\u001b[0m\u001b[0mCNN_test\u001b[0m\u001b[0;34m,\u001b[0m\u001b[0mtrain_loss_history\u001b[0m\u001b[0;34m,\u001b[0m\u001b[0mval_loss_history\u001b[0m\u001b[0;34m)\u001b[0m\u001b[0;34m\u001b[0m\u001b[0;34m\u001b[0m\u001b[0m\n\u001b[0m",
      "\u001b[0;31mNameError\u001b[0m: name 'train_loss_history' is not defined"
     ]
    }
   ],
   "source": [
    "make_evaluation(CNN_test,train_loss_history,val_loss_history)"
   ]
  },
  {
   "cell_type": "code",
   "execution_count": 18,
   "id": "26b8a817-7f3b-4473-ba3c-c334df93dab3",
   "metadata": {},
   "outputs": [],
   "source": [
    "torch.save(CNN_test.state_dict(),'/home/nlaoue/projet/MagNav/notebooks/CNN_test.pt')"
   ]
  },
  {
   "cell_type": "code",
   "execution_count": 19,
   "id": "c08108a5-6eb8-4827-bc3c-49d20b18a829",
   "metadata": {},
   "outputs": [
    {
     "data": {
      "text/plain": [
       "<All keys matched successfully>"
      ]
     },
     "execution_count": 19,
     "metadata": {},
     "output_type": "execute_result"
    }
   ],
   "source": [
    "model_test_CNN = CNN(5)\n",
    "model_test_CNN.load_state_dict(torch.load('/home/nlaoue/projet/MagNav/notebooks/CNN_test.pt'))"
   ]
  },
  {
   "cell_type": "code",
   "execution_count": 88,
   "id": "c9343bd8-7405-4831-b3d5-2b9ef68d34f9",
   "metadata": {},
   "outputs": [],
   "source": [
    "preds = []\n",
    "for batch_index, (inputs, labels) in enumerate(val_loader):\n",
    "    model_test_CNN.eval()\n",
    "    with torch.no_grad():\n",
    "        preds.append(model_test_CNN(inputs).detach().numpy())\n",
    "preds = np.concatenate(preds)"
   ]
  },
  {
   "cell_type": "code",
   "execution_count": 89,
   "id": "117cad3f-69fc-4b34-b5ac-0339bfee146f",
   "metadata": {},
   "outputs": [
    {
     "data": {
      "text/plain": [
       "[<matplotlib.lines.Line2D at 0x7f4e08d925e0>]"
      ]
     },
     "execution_count": 89,
     "metadata": {},
     "output_type": "execute_result"
    },
    {
     "data": {
      "image/png": "[encoded data removed]",
      "text/plain": [
       "<Figure size 432x288 with 1 Axes>"
      ]
     },
     "metadata": {
      "needs_background": "light"
     },
     "output_type": "display_data"
    }
   ],
   "source": [
    "plt.plot(preds)"
   ]
  },
  {
   "cell_type": "code",
   "execution_count": 90,
   "id": "6135ee6a-56c9-4631-9559-c1658c959eae",
   "metadata": {},
   "outputs": [
    {
     "data": {
      "text/plain": [
       "[<matplotlib.lines.Line2D at 0x7f4e082b8b20>]"
      ]
     },
     "execution_count": 90,
     "metadata": {},
     "output_type": "execute_result"
    },
    {
     "data": {
      "image/png": "[encoded data removed]",
      "text/plain": [
       "<Figure size 432x288 with 1 Axes>"
      ]
     },
     "metadata": {
      "needs_background": "light"
     },
     "output_type": "display_data"
    }
   ],
   "source": [
    "plt.plot(val.y)"
   ]
  },
  {
   "cell_type": "code",
   "execution_count": null,
   "id": "c6ce769d-1cdd-4fec-96d5-20441ec54a8c",
   "metadata": {},
   "outputs": [],
   "source": []
  }
 ],
 "metadata": {
  "kernelspec": {
   "display_name": "Python 3 (ipykernel)",
   "language": "python",
   "name": "python3"
  },
  "language_info": {
   "codemirror_mode": {
    "name": "ipython",
    "version": 3
   },
   "file_extension": ".py",
   "mimetype": "text/x-python",
   "name": "python",
   "nbconvert_exporter": "python",
   "pygments_lexer": "ipython3",
   "version": "3.8.10"
  }
 },
 "nbformat": 4,
 "nbformat_minor": 5
}
