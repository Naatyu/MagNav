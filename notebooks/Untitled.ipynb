{
 "cells": [
  {
   "cell_type": "code",
   "execution_count": 1,
   "id": "0e1afc1d-b4ec-4cf7-bda4-2d074ff7f356",
   "metadata": {},
   "outputs": [],
   "source": [
    "import ppigrf\n",
    "import pandas as pd\n",
    "import datetime"
   ]
  },
  {
   "cell_type": "code",
   "execution_count": 10,
   "id": "ce4b2d92-5502-40f0-9bbe-46231f3b09dd",
   "metadata": {},
   "outputs": [],
   "source": [
    "# IGRF cor\n",
    "df = pd.read_hdf('data/interim/Flt_data.h5', key=f'Flt1003')\n",
    "COR_df = df\n",
    "lat  = COR_df['LAT']\n",
    "lon  = COR_df['LONG']\n",
    "h    = COR_df['BARO']*1e-3 # Kilometers above WGS84 ellipsoid\n",
    "date = datetime.datetime(2020, 6, 29) # Date on which the flights were made\n",
    "Be, Bn, Bu = ppigrf.igrf(lon,lat,h,date)"
   ]
  },
  {
   "cell_type": "code",
   "execution_count": null,
   "id": "a8e1fce8-1535-425b-9359-5dff43fc1169",
   "metadata": {},
   "outputs": [],
   "source": []
  }
 ],
 "metadata": {
  "kernelspec": {
   "display_name": "Python 3 (ipykernel)",
   "language": "python",
   "name": "python3"
  },
  "language_info": {
   "codemirror_mode": {
    "name": "ipython",
    "version": 3
   },
   "file_extension": ".py",
   "mimetype": "text/x-python",
   "name": "python",
   "nbconvert_exporter": "python",
   "pygments_lexer": "ipython3",
   "version": "3.8.10"
  }
 },
 "nbformat": 4,
 "nbformat_minor": 5
}
