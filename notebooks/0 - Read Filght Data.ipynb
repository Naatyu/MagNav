{
 "cells": [
  {
   "cell_type": "markdown",
   "id": "3823a000",
   "metadata": {},
   "source": [
    "# 1 - Read Filght Data"
   ]
  },
  {
   "cell_type": "markdown",
   "id": "2e4a94e7",
   "metadata": {},
   "source": [
    "The data of the 5 flights are stored in HDF5 files :\n",
    "* Flt1002-train.h5\n",
    "* Flt1003-train.h5\n",
    "* Flt1004-train.h5\n",
    "* Flt1005-train.h5\n",
    "\n",
    "The generic name of a flight is therefore `f'Flt100{flight_number}'` with flight_number = [2,3,4,5]"
   ]
  },
  {
   "cell_type": "code",
   "execution_count": 1,
   "id": "4f0ac559",
   "metadata": {},
   "outputs": [],
   "source": [
    "import pandas as pd\n",
    "import h5py\n",
    "\n",
    "def read_filght_data(flight_number, verbose=False):\n",
    "    file_name = f'../data/raw/Flt100{flight_number}-train.h5'\n",
    "    # read HDF5 file\n",
    "    flight_data = h5py.File(file_name, 'r')    \n",
    "    df = pd.DataFrame()\n",
    "    for key in flight_data.keys():\n",
    "        data = flight_data[key]\n",
    "        if data.shape != ():\n",
    "            df[key] = data[:]\n",
    "            if df[key].isnull().any()&verbose:\n",
    "                print(f'{key} contains NaN(s)')\n",
    "        elif verbose:\n",
    "            print(f'{key} = {data[()]}')\n",
    "            \n",
    "    # rename the column according to 'Appendix B Datafields'\n",
    "    datafields = pd.read_csv('../data/raw/datafields.csv',\n",
    "                         header=None,\n",
    "                         index_col=0).to_dict()[1]\n",
    "    df = df.rename(columns=datafields,\n",
    "                   errors=\"raise\")\n",
    "    \n",
    "    # index by TIME (sort)\n",
    "    df = df.sort_values(by=['TIME'])\n",
    "    df.index = df['TIME']\n",
    "    df.index.name = 'Time [s]'    \n",
    "    return df\n"
   ]
  },
  {
   "cell_type": "code",
   "execution_count": 2,
   "id": "5c5b11d3",
   "metadata": {},
   "outputs": [
    {
     "name": "stdout",
     "output_type": "stream",
     "text": [
      "N = 160030\n",
      "drape contains NaN(s)\n",
      "dt = 0.09611163227016886\n",
      "ogs_alt contains NaN(s)\n",
      "ogs_mag contains NaN(s)\n"
     ]
    }
   ],
   "source": [
    "flight_number = 3\n",
    "df = read_filght_data(flight_number, verbose=True)"
   ]
  },
  {
   "cell_type": "markdown",
   "id": "c43c87a4",
   "metadata": {},
   "source": [
    "\"NOTE: The dt field in each HDF5 file is incorrect. The correct value is 0.1.\""
   ]
  },
  {
   "cell_type": "code",
   "execution_count": 3,
   "id": "a535fce1",
   "metadata": {},
   "outputs": [
    {
     "data": {
      "text/html": [
       "<div>\n",
       "<style scoped>\n",
       "    .dataframe tbody tr th:only-of-type {\n",
       "        vertical-align: middle;\n",
       "    }\n",
       "\n",
       "    .dataframe tbody tr th {\n",
       "        vertical-align: top;\n",
       "    }\n",
       "\n",
       "    .dataframe thead th {\n",
       "        text-align: right;\n",
       "    }\n",
       "</style>\n",
       "<table border=\"1\" class=\"dataframe\">\n",
       "  <thead>\n",
       "    <tr style=\"text-align: right;\">\n",
       "      <th></th>\n",
       "      <th>FLUXB_X</th>\n",
       "      <th>FLUXC_X</th>\n",
       "    </tr>\n",
       "  </thead>\n",
       "  <tbody>\n",
       "    <tr>\n",
       "      <th>count</th>\n",
       "      <td>160030.000000</td>\n",
       "      <td>160030.000000</td>\n",
       "    </tr>\n",
       "    <tr>\n",
       "      <th>mean</th>\n",
       "      <td>34805.294581</td>\n",
       "      <td>-52089.150094</td>\n",
       "    </tr>\n",
       "    <tr>\n",
       "      <th>std</th>\n",
       "      <td>10137.198973</td>\n",
       "      <td>1958.944527</td>\n",
       "    </tr>\n",
       "    <tr>\n",
       "      <th>min</th>\n",
       "      <td>-15.877000</td>\n",
       "      <td>-56392.728000</td>\n",
       "    </tr>\n",
       "    <tr>\n",
       "      <th>25%</th>\n",
       "      <td>25884.512500</td>\n",
       "      <td>-53427.494250</td>\n",
       "    </tr>\n",
       "    <tr>\n",
       "      <th>50%</th>\n",
       "      <td>35410.303000</td>\n",
       "      <td>-52414.030500</td>\n",
       "    </tr>\n",
       "    <tr>\n",
       "      <th>75%</th>\n",
       "      <td>44255.286000</td>\n",
       "      <td>-51101.914000</td>\n",
       "    </tr>\n",
       "    <tr>\n",
       "      <th>max</th>\n",
       "      <td>54512.841000</td>\n",
       "      <td>-37037.329000</td>\n",
       "    </tr>\n",
       "  </tbody>\n",
       "</table>\n",
       "</div>"
      ],
      "text/plain": [
       "             FLUXB_X        FLUXC_X\n",
       "count  160030.000000  160030.000000\n",
       "mean    34805.294581  -52089.150094\n",
       "std     10137.198973    1958.944527\n",
       "min       -15.877000  -56392.728000\n",
       "25%     25884.512500  -53427.494250\n",
       "50%     35410.303000  -52414.030500\n",
       "75%     44255.286000  -51101.914000\n",
       "max     54512.841000  -37037.329000"
      ]
     },
     "execution_count": 3,
     "metadata": {},
     "output_type": "execute_result"
    }
   ],
   "source": [
    "df[['FLUXB_X','FLUXC_X']].describe()"
   ]
  },
  {
   "cell_type": "markdown",
   "id": "54ce6cda",
   "metadata": {},
   "source": [
    "Testing for good understanding of geographic conventions :"
   ]
  },
  {
   "cell_type": "code",
   "execution_count": 4,
   "id": "7c6f319a",
   "metadata": {},
   "outputs": [
    {
     "data": {
      "text/plain": [
       "True"
      ]
     },
     "execution_count": 4,
     "metadata": {},
     "output_type": "execute_result"
    }
   ],
   "source": [
    "from pyproj import Transformer\n",
    "import numpy as np\n",
    "\n",
    "WGS_to_UTC = Transformer.from_crs(crs_from=4326, # EPSG:4326 World Geodetic System 1984, https://epsg.io/4326\n",
    "                                  crs_to=32618)  # EPSG:32618 WGS 84/UTM zone 18N, https://epsg.io/32618\n",
    "\n",
    "# Transfom (LAT, LONG) -> (X_UTM, Y_UTM)\n",
    "UTM_X_pyproj, UTM_Y_pyproj = WGS_to_UTC.transform(df.LAT.values,\n",
    "                                                  df.LONG.values)\n",
    "\n",
    "# Check if the converted coordinates and the dataset coordinates are equal (+/- 1.4cm).\n",
    "all(np.sqrt((df.UTM_X - UTM_X_pyproj)**2 + (df.UTM_Y - UTM_Y_pyproj)**2) < 0.014)"
   ]
  },
  {
   "cell_type": "markdown",
   "id": "bd4c5b64",
   "metadata": {},
   "source": [
    "## Export data"
   ]
  },
  {
   "cell_type": "markdown",
   "id": "fd9a4486",
   "metadata": {},
   "source": [
    "For the following, we will use the HDF5 file **Flt_data.h5**. And we also export to csv for convenience.  "
   ]
  },
  {
   "cell_type": "code",
   "execution_count": 5,
   "id": "d90cae3f",
   "metadata": {},
   "outputs": [],
   "source": [
    "for flight_number in range(2,6):\n",
    "    df = read_filght_data(flight_number)\n",
    "    # export to HDF5\n",
    "    df.to_hdf('../data/interim/Flt_data.h5',\n",
    "              key=f'Flt100{flight_number}')\n",
    "    # export to csv\n",
    "    df.to_csv(f'../data/interim/Flt_data_csv/Flt100{flight_number}.csv')"
   ]
  },
  {
   "cell_type": "markdown",
   "id": "5209ddac",
   "metadata": {},
   "source": [
    " Let's check if if the import works properly :"
   ]
  },
  {
   "cell_type": "code",
   "execution_count": 6,
   "id": "9500768f",
   "metadata": {},
   "outputs": [
    {
     "data": {
      "text/plain": [
       "True"
      ]
     },
     "execution_count": 6,
     "metadata": {},
     "output_type": "execute_result"
    }
   ],
   "source": [
    "df2 = pd.read_hdf('../data/interim/Flt_data.h5',\n",
    "                  key=f'Flt100{flight_number}')\n",
    "all(df2 == df)"
   ]
  },
  {
   "cell_type": "code",
   "execution_count": null,
   "id": "27c7fa48",
   "metadata": {},
   "outputs": [],
   "source": []
  }
 ],
 "metadata": {
  "kernelspec": {
   "display_name": "Python 3 (ipykernel)",
   "language": "python",
   "name": "python3"
  },
  "language_info": {
   "codemirror_mode": {
    "name": "ipython",
    "version": 3
   },
   "file_extension": ".py",
   "mimetype": "text/x-python",
   "name": "python",
   "nbconvert_exporter": "python",
   "pygments_lexer": "ipython3",
   "version": "3.8.10"
  }
 },
 "nbformat": 4,
 "nbformat_minor": 5
}
