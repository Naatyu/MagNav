{
 "cells": [
  {
   "cell_type": "code",
   "execution_count": 1,
   "id": "2c452fbd-7a2d-456f-964c-f4bdaebdfacb",
   "metadata": {},
   "outputs": [],
   "source": [
    "import torch\n",
    "import ipywidgets as widgets\n",
    "import pandas as pd\n",
    "import matplotlib.pyplot as plt\n",
    "from scipy import signal\n",
    "import numpy as np\n",
    "from tqdm.notebook import tqdm_notebook\n",
    "from sklearn.model_selection import train_test_split\n",
    "from sklearn.preprocessing import StandardScaler\n",
    "from datetime import datetime\n",
    "from torch.utils.tensorboard import SummaryWriter\n",
    "import random\n",
    "\n",
    "import magnav\n",
    "\n",
    "from torch.utils.data import Dataset, DataLoader"
   ]
  },
  {
   "cell_type": "code",
   "execution_count": 2,
   "id": "bd1343dc-d4b2-4dce-a20b-c3c95e87c0a0",
   "metadata": {},
   "outputs": [],
   "source": [
    "device = magnav.get_device()"
   ]
  },
  {
   "cell_type": "code",
   "execution_count": 3,
   "id": "17dd033f-b523-4459-8c7c-725a99724793",
   "metadata": {},
   "outputs": [],
   "source": [
    "def create_timeframe(X,y):\n",
    "    \n",
    "    y = y.drop(index=[y.index[0]])\n",
    "    \n",
    "    idx = X.drop(index=[X.index[0],X.index[1],X.index[-1],X.index[-2]]).index\n",
    "    \n",
    "    X = pd.concat([df.drop(index=[df.index[-1],df.index[-2],df.index[-3],df.index[-4]]).set_index(idx),\n",
    "                   df.drop(index=[df.index[0],df.index[-1],df.index[-2],df.index[-3]]).set_index(idx),\n",
    "                   df.drop(index=[df.index[0],df.index[1],df.index[-1],df.index[-2]]),\n",
    "                   df.drop(index=[df.index[0],df.index[1],df.index[2],df.index[-1]]).set_index(idx),\n",
    "                   df.drop(index=[df.index[0],df.index[1],df.index[2],df.index[3]]).set_index(idx)\n",
    "               ],axis=1)\n",
    "    \n",
    "    return X,y"
   ]
  },
  {
   "cell_type": "code",
   "execution_count": 5,
   "id": "30233362-ed2a-4e51-aa32-e7dd709f02b2",
   "metadata": {},
   "outputs": [],
   "source": [
    "# add transformations\n",
    "\n",
    "class ChallDataset(Dataset):\n",
    "    # train : if true, return train data. If false, return validation data\n",
    "    def __init__(self,train=True):\n",
    "        df = pd.read_hdf('../data/interim/Sol_dataset.h5', key=f'Flt1003')\n",
    "        \n",
    "        X_100302 = df[df['LINE']==1003.02].drop(columns=['LINE',])"
   ]
  },
  {
   "cell_type": "code",
   "execution_count": 6,
   "id": "ebc4f3fa-9ad7-41bf-b376-739d453e60ff",
   "metadata": {},
   "outputs": [],
   "source": [
    "X,y = create_Xy(df.drop(columns='LINE'))"
   ]
  },
  {
   "cell_type": "code",
   "execution_count": 7,
   "id": "37400dc0-943e-49a7-a124-b3980677e64f",
   "metadata": {},
   "outputs": [
    {
     "name": "stdout",
     "output_type": "stream",
     "text": [
      "160026\n",
      "(tensor([ 5.2645e+04,  3.5635e+04,  5.6030e+04, -2.6191e+04, -2.4432e+04,\n",
      "         3.1635e+03, -9.4792e+02,  5.2181e+04, -1.8693e+03, -1.2193e+02,\n",
      "         2.6032e+01,  5.2647e+04,  3.5581e+04,  5.6023e+04, -2.6226e+04,\n",
      "        -2.4470e+04,  3.1031e+03, -9.5066e+02,  5.2171e+04, -1.8679e+03,\n",
      "        -1.2082e+02,  2.6085e+01,  5.2648e+04,  3.5519e+04,  5.6016e+04,\n",
      "        -2.6259e+04, -2.4506e+04,  3.0327e+03, -9.4386e+02,  5.2169e+04,\n",
      "        -1.8673e+03, -1.2163e+02,  2.6304e+01,  5.2648e+04,  3.5451e+04,\n",
      "         5.6009e+04, -2.6291e+04, -2.4541e+04,  2.9548e+03, -9.3135e+02,\n",
      "         5.2174e+04, -1.8673e+03, -1.2389e+02,  2.6282e+01,  5.2646e+04,\n",
      "         3.5382e+04,  5.6002e+04, -2.6324e+04, -2.4576e+04,  2.8733e+03,\n",
      "        -9.1887e+02,  5.2179e+04, -1.8680e+03, -1.2689e+02,  2.6158e+01]), tensor([-195.8120]))\n"
     ]
    }
   ],
   "source": [
    "dataset_test = MyDataset(X,y)\n",
    "print(len(dataset_test))\n",
    "print(dataset_test[100])"
   ]
  },
  {
   "cell_type": "code",
   "execution_count": 8,
   "id": "19f4a0d5-3f29-4143-a599-64b9d6e5a083",
   "metadata": {},
   "outputs": [],
   "source": [
    "train_loader  = torch.utils.data.DataLoader(dataset=dataset_test,batch_size=64,shuffle=False,num_workers=4,pin_memory=False)"
   ]
  },
  {
   "cell_type": "code",
   "execution_count": 9,
   "id": "4a59f35b-9241-4705-8f62-60641dced39e",
   "metadata": {},
   "outputs": [
    {
     "data": {
      "application/vnd.jupyter.widget-view+json": {
       "model_id": "ee045c2337394c94a31ef430d81491fb",
       "version_major": 2,
       "version_minor": 0
      },
      "text/plain": [
       "Training:   0%|          | 0/500 [00:00<?, ?epoch/s]"
      ]
     },
     "metadata": {},
     "output_type": "display_data"
    },
    {
     "ename": "KeyboardInterrupt",
     "evalue": "",
     "output_type": "error",
     "traceback": [
      "\u001b[0;31m---------------------------------------------------------------------------\u001b[0m",
      "\u001b[0;31mKeyboardInterrupt\u001b[0m                         Traceback (most recent call last)",
      "\u001b[0;32m/tmp/ipykernel_8566/798095314.py\u001b[0m in \u001b[0;36m<module>\u001b[0;34m\u001b[0m\n\u001b[1;32m     69\u001b[0m \u001b[0;34m\u001b[0m\u001b[0m\n\u001b[1;32m     70\u001b[0m         \u001b[0;31m# Adjust learning weights\u001b[0m\u001b[0;34m\u001b[0m\u001b[0;34m\u001b[0m\u001b[0;34m\u001b[0m\u001b[0m\n\u001b[0;32m---> 71\u001b[0;31m         \u001b[0moptimizer\u001b[0m\u001b[0;34m.\u001b[0m\u001b[0mstep\u001b[0m\u001b[0;34m(\u001b[0m\u001b[0;34m)\u001b[0m\u001b[0;34m\u001b[0m\u001b[0;34m\u001b[0m\u001b[0m\n\u001b[0m\u001b[1;32m     72\u001b[0m \u001b[0;34m\u001b[0m\u001b[0m\n\u001b[1;32m     73\u001b[0m         \u001b[0;31m# Gather data and report\u001b[0m\u001b[0;34m\u001b[0m\u001b[0;34m\u001b[0m\u001b[0;34m\u001b[0m\u001b[0m\n",
      "\u001b[0;32m~/projet/venv/lib/python3.8/site-packages/torch/optim/optimizer.py\u001b[0m in \u001b[0;36mwrapper\u001b[0;34m(*args, **kwargs)\u001b[0m\n\u001b[1;32m     86\u001b[0m                 \u001b[0mprofile_name\u001b[0m \u001b[0;34m=\u001b[0m \u001b[0;34m\"Optimizer.step#{}.step\"\u001b[0m\u001b[0;34m.\u001b[0m\u001b[0mformat\u001b[0m\u001b[0;34m(\u001b[0m\u001b[0mobj\u001b[0m\u001b[0;34m.\u001b[0m\u001b[0m__class__\u001b[0m\u001b[0;34m.\u001b[0m\u001b[0m__name__\u001b[0m\u001b[0;34m)\u001b[0m\u001b[0;34m\u001b[0m\u001b[0;34m\u001b[0m\u001b[0m\n\u001b[1;32m     87\u001b[0m                 \u001b[0;32mwith\u001b[0m \u001b[0mtorch\u001b[0m\u001b[0;34m.\u001b[0m\u001b[0mautograd\u001b[0m\u001b[0;34m.\u001b[0m\u001b[0mprofiler\u001b[0m\u001b[0;34m.\u001b[0m\u001b[0mrecord_function\u001b[0m\u001b[0;34m(\u001b[0m\u001b[0mprofile_name\u001b[0m\u001b[0;34m)\u001b[0m\u001b[0;34m:\u001b[0m\u001b[0;34m\u001b[0m\u001b[0;34m\u001b[0m\u001b[0m\n\u001b[0;32m---> 88\u001b[0;31m                     \u001b[0;32mreturn\u001b[0m \u001b[0mfunc\u001b[0m\u001b[0;34m(\u001b[0m\u001b[0;34m*\u001b[0m\u001b[0margs\u001b[0m\u001b[0;34m,\u001b[0m \u001b[0;34m**\u001b[0m\u001b[0mkwargs\u001b[0m\u001b[0;34m)\u001b[0m\u001b[0;34m\u001b[0m\u001b[0;34m\u001b[0m\u001b[0m\n\u001b[0m\u001b[1;32m     89\u001b[0m             \u001b[0;32mreturn\u001b[0m \u001b[0mwrapper\u001b[0m\u001b[0;34m\u001b[0m\u001b[0;34m\u001b[0m\u001b[0m\n\u001b[1;32m     90\u001b[0m \u001b[0;34m\u001b[0m\u001b[0m\n",
      "\u001b[0;32m~/projet/venv/lib/python3.8/site-packages/torch/autograd/grad_mode.py\u001b[0m in \u001b[0;36mdecorate_context\u001b[0;34m(*args, **kwargs)\u001b[0m\n\u001b[1;32m     26\u001b[0m         \u001b[0;32mdef\u001b[0m \u001b[0mdecorate_context\u001b[0m\u001b[0;34m(\u001b[0m\u001b[0;34m*\u001b[0m\u001b[0margs\u001b[0m\u001b[0;34m,\u001b[0m \u001b[0;34m**\u001b[0m\u001b[0mkwargs\u001b[0m\u001b[0;34m)\u001b[0m\u001b[0;34m:\u001b[0m\u001b[0;34m\u001b[0m\u001b[0;34m\u001b[0m\u001b[0m\n\u001b[1;32m     27\u001b[0m             \u001b[0;32mwith\u001b[0m \u001b[0mself\u001b[0m\u001b[0;34m.\u001b[0m\u001b[0m__class__\u001b[0m\u001b[0;34m(\u001b[0m\u001b[0;34m)\u001b[0m\u001b[0;34m:\u001b[0m\u001b[0;34m\u001b[0m\u001b[0;34m\u001b[0m\u001b[0m\n\u001b[0;32m---> 28\u001b[0;31m                 \u001b[0;32mreturn\u001b[0m \u001b[0mfunc\u001b[0m\u001b[0;34m(\u001b[0m\u001b[0;34m*\u001b[0m\u001b[0margs\u001b[0m\u001b[0;34m,\u001b[0m \u001b[0;34m**\u001b[0m\u001b[0mkwargs\u001b[0m\u001b[0;34m)\u001b[0m\u001b[0;34m\u001b[0m\u001b[0;34m\u001b[0m\u001b[0m\n\u001b[0m\u001b[1;32m     29\u001b[0m         \u001b[0;32mreturn\u001b[0m \u001b[0mcast\u001b[0m\u001b[0;34m(\u001b[0m\u001b[0mF\u001b[0m\u001b[0;34m,\u001b[0m \u001b[0mdecorate_context\u001b[0m\u001b[0;34m)\u001b[0m\u001b[0;34m\u001b[0m\u001b[0;34m\u001b[0m\u001b[0m\n\u001b[1;32m     30\u001b[0m \u001b[0;34m\u001b[0m\u001b[0m\n",
      "\u001b[0;32m~/projet/venv/lib/python3.8/site-packages/torch/optim/adam.py\u001b[0m in \u001b[0;36mstep\u001b[0;34m(self, closure)\u001b[0m\n\u001b[1;32m    105\u001b[0m                     \u001b[0mstate_steps\u001b[0m\u001b[0;34m.\u001b[0m\u001b[0mappend\u001b[0m\u001b[0;34m(\u001b[0m\u001b[0mstate\u001b[0m\u001b[0;34m[\u001b[0m\u001b[0;34m'step'\u001b[0m\u001b[0;34m]\u001b[0m\u001b[0;34m)\u001b[0m\u001b[0;34m\u001b[0m\u001b[0;34m\u001b[0m\u001b[0m\n\u001b[1;32m    106\u001b[0m \u001b[0;34m\u001b[0m\u001b[0m\n\u001b[0;32m--> 107\u001b[0;31m             F.adam(params_with_grad,\n\u001b[0m\u001b[1;32m    108\u001b[0m                    \u001b[0mgrads\u001b[0m\u001b[0;34m,\u001b[0m\u001b[0;34m\u001b[0m\u001b[0;34m\u001b[0m\u001b[0m\n\u001b[1;32m    109\u001b[0m                    \u001b[0mexp_avgs\u001b[0m\u001b[0;34m,\u001b[0m\u001b[0;34m\u001b[0m\u001b[0;34m\u001b[0m\u001b[0m\n",
      "\u001b[0;32m~/projet/venv/lib/python3.8/site-packages/torch/optim/_functional.py\u001b[0m in \u001b[0;36madam\u001b[0;34m(params, grads, exp_avgs, exp_avg_sqs, max_exp_avg_sqs, state_steps, amsgrad, beta1, beta2, lr, weight_decay, eps)\u001b[0m\n\u001b[1;32m     92\u001b[0m             \u001b[0mdenom\u001b[0m \u001b[0;34m=\u001b[0m \u001b[0;34m(\u001b[0m\u001b[0mmax_exp_avg_sqs\u001b[0m\u001b[0;34m[\u001b[0m\u001b[0mi\u001b[0m\u001b[0;34m]\u001b[0m\u001b[0;34m.\u001b[0m\u001b[0msqrt\u001b[0m\u001b[0;34m(\u001b[0m\u001b[0;34m)\u001b[0m \u001b[0;34m/\u001b[0m \u001b[0mmath\u001b[0m\u001b[0;34m.\u001b[0m\u001b[0msqrt\u001b[0m\u001b[0;34m(\u001b[0m\u001b[0mbias_correction2\u001b[0m\u001b[0;34m)\u001b[0m\u001b[0;34m)\u001b[0m\u001b[0;34m.\u001b[0m\u001b[0madd_\u001b[0m\u001b[0;34m(\u001b[0m\u001b[0meps\u001b[0m\u001b[0;34m)\u001b[0m\u001b[0;34m\u001b[0m\u001b[0;34m\u001b[0m\u001b[0m\n\u001b[1;32m     93\u001b[0m         \u001b[0;32melse\u001b[0m\u001b[0;34m:\u001b[0m\u001b[0;34m\u001b[0m\u001b[0;34m\u001b[0m\u001b[0m\n\u001b[0;32m---> 94\u001b[0;31m             \u001b[0mdenom\u001b[0m \u001b[0;34m=\u001b[0m \u001b[0;34m(\u001b[0m\u001b[0mexp_avg_sq\u001b[0m\u001b[0;34m.\u001b[0m\u001b[0msqrt\u001b[0m\u001b[0;34m(\u001b[0m\u001b[0;34m)\u001b[0m \u001b[0;34m/\u001b[0m \u001b[0mmath\u001b[0m\u001b[0;34m.\u001b[0m\u001b[0msqrt\u001b[0m\u001b[0;34m(\u001b[0m\u001b[0mbias_correction2\u001b[0m\u001b[0;34m)\u001b[0m\u001b[0;34m)\u001b[0m\u001b[0;34m.\u001b[0m\u001b[0madd_\u001b[0m\u001b[0;34m(\u001b[0m\u001b[0meps\u001b[0m\u001b[0;34m)\u001b[0m\u001b[0;34m\u001b[0m\u001b[0;34m\u001b[0m\u001b[0m\n\u001b[0m\u001b[1;32m     95\u001b[0m \u001b[0;34m\u001b[0m\u001b[0m\n\u001b[1;32m     96\u001b[0m         \u001b[0mstep_size\u001b[0m \u001b[0;34m=\u001b[0m \u001b[0mlr\u001b[0m \u001b[0;34m/\u001b[0m \u001b[0mbias_correction1\u001b[0m\u001b[0;34m\u001b[0m\u001b[0;34m\u001b[0m\u001b[0m\n",
      "\u001b[0;31mKeyboardInterrupt\u001b[0m: "
     ]
    }
   ],
   "source": [
    "\n",
    "\n",
    "def init_weights(m):\n",
    "    if isinstance(m, torch.nn.Linear):\n",
    "        torch.nn.init.xavier_uniform_(m.weight)\n",
    "        m.bias.data.fill_(0.01)\n",
    "        \n",
    "class Chall_MLP(torch.nn.Module):\n",
    "    \n",
    "    def __init__(self):\n",
    "        super(Chall_MLP, self).__init__()\n",
    "        self.architecture = torch.nn.Sequential(\n",
    "            torch.nn.Linear(55,50),\n",
    "            torch.nn.Tanh(),\n",
    "            torch.nn.Linear(50,30),\n",
    "            torch.nn.Tanh(),\n",
    "            torch.nn.Linear(30,10),\n",
    "            torch.nn.Tanh(),\n",
    "            torch.nn.Linear(10,1),\n",
    "        )\n",
    "        self.architecture.apply(init_weights)\n",
    "        \n",
    "        \n",
    "    def forward(self, x):\n",
    "        logits = self.architecture(x)\n",
    "        return logits\n",
    "\n",
    "model = Chall_MLP().to(device)\n",
    "\n",
    "class RMSELoss(torch.nn.Module):\n",
    "    \n",
    "    def __init__(self):\n",
    "        super(RMSELoss,self).__init__()\n",
    "        \n",
    "    def forward(self,yhat,y):\n",
    "        criterion = torch.nn.MSELoss()\n",
    "        loss = torch.sqrt(criterion(yhat,y)+1e-6)\n",
    "        return loss \n",
    "    \n",
    "criterion = RMSELoss()\n",
    "optimizer = torch.optim.Adam(model.parameters(),lr=1e-3) \n",
    "scheduler = torch.optim.lr_scheduler.ReduceLROnPlateau(optimizer, 'min',factor=0.9,patience=5,min_lr=1e-5)\n",
    "\n",
    "timestamp = datetime.now().strftime('%Y%m%d_%H%M%S')\n",
    "writer = SummaryWriter(f'runs/Chall_MLP_{timestamp}')\n",
    "\n",
    "EPOCHS = 500\n",
    "\n",
    "pbar = tqdm_notebook(total=EPOCHS,unit=\"epoch\",desc='Training')\n",
    "\n",
    "for epoch in range(EPOCHS):\n",
    "\n",
    "    train_running_loss = 0.\n",
    "\n",
    "    # Make sure gradient tracking is on, and do a pass over the data\n",
    "    model.train()\n",
    "\n",
    "    # Enumerate allow to track batch index and intra-epoch reporting \n",
    "    for i, (inputs, labels) in enumerate(train_loader):\n",
    "\n",
    "        inputs, labels = inputs.to(device), labels.to(device)\n",
    "        # Zero gradients for every batch\n",
    "        optimizer.zero_grad()\n",
    "\n",
    "        # Make prediction for this batch\n",
    "        predictions = model(inputs)\n",
    "\n",
    "        # Compute the loss and its gradients\n",
    "        loss = criterion(predictions, labels)\n",
    "        loss.backward()\n",
    "\n",
    "        # Adjust learning weights\n",
    "        optimizer.step()\n",
    "\n",
    "        # Gather data and report\n",
    "        train_running_loss += loss.detach().item() * inputs.size(0)\n",
    "        \n",
    "\n",
    "    avg_loss = train_running_loss/ len(train_loader.dataset)\n",
    "    writer.add_scalar('training_loss',avg_loss,epoch)\n",
    "    \n",
    "#     # Desactivate layers such as dropout or batch-normalization\n",
    "#     model.eval()\n",
    "\n",
    "#     val_running_loss = 0.0\n",
    "    \n",
    "    \n",
    "#     with torch.set_grad_enabled(False):\n",
    "#         for i, (vinputs, vlabels) in enumerate(valconcat_loader):\n",
    "\n",
    "#             voutputs = model(vinputs)\n",
    "#             vloss = criterion(voutputs, vlabels)\n",
    "#             val_running_loss += vloss.detach().item()* vinputs.size(0)\n",
    "\n",
    "#     avg_vloss = val_running_loss/len(valconcat_loader.dataset)\n",
    "    \n",
    "#     scheduler.step(avg_vloss)\n",
    "    \n",
    "#     writer.add_scalar('validation_loss',avg_vloss,epoch)\n",
    "    \n",
    "    pbar.set_postfix(train_loss=avg_loss,lr=optimizer.param_groups[0]['lr'])\n",
    "    pbar.update()"
   ]
  },
  {
   "cell_type": "code",
   "execution_count": null,
   "id": "72c1fa4e-3726-45f6-9484-44e608f62126",
   "metadata": {},
   "outputs": [],
   "source": []
  }
 ],
 "metadata": {
  "kernelspec": {
   "display_name": "Python 3 (ipykernel)",
   "language": "python",
   "name": "python3"
  },
  "language_info": {
   "codemirror_mode": {
    "name": "ipython",
    "version": 3
   },
   "file_extension": ".py",
   "mimetype": "text/x-python",
   "name": "python",
   "nbconvert_exporter": "python",
   "pygments_lexer": "ipython3",
   "version": "3.8.10"
  }
 },
 "nbformat": 4,
 "nbformat_minor": 5
}
