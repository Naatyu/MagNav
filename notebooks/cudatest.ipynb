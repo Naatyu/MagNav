{
 "cells": [
  {
   "cell_type": "code",
   "execution_count": 1,
   "id": "2c452fbd-7a2d-456f-964c-f4bdaebdfacb",
   "metadata": {},
   "outputs": [],
   "source": [
    "import torch\n",
    "import ipywidgets as widgets\n",
    "import pandas as pd\n",
    "import matplotlib.pyplot as plt\n",
    "from scipy import signal\n",
    "import numpy as np\n",
    "from tqdm.notebook import tqdm_notebook\n",
    "from sklearn.model_selection import train_test_split\n",
    "from sklearn.preprocessing import StandardScaler\n",
    "from datetime import datetime\n",
    "from torch.utils.tensorboard import SummaryWriter\n",
    "import random\n",
    "\n",
    "import magnav\n",
    "\n",
    "from torch.utils.data import Dataset, DataLoader"
   ]
  },
  {
   "cell_type": "code",
   "execution_count": 2,
   "id": "bd1343dc-d4b2-4dce-a20b-c3c95e87c0a0",
   "metadata": {},
   "outputs": [
    {
     "name": "stdout",
     "output_type": "stream",
     "text": [
      "Currently using cuda\n"
     ]
    }
   ],
   "source": [
    "device = magnav.get_device()\n",
    "#device = 'cpu'"
   ]
  },
  {
   "cell_type": "code",
   "execution_count": 3,
   "id": "56e7580d-964a-4cab-ae5d-a301b14e3a32",
   "metadata": {},
   "outputs": [],
   "source": [
    "def create_timeframe(X,y):\n",
    "    \n",
    "    y = y.drop(index=[y.index[0],y.index[1],y.index[-2],y.index[-1]])\n",
    "\n",
    "    idx = X.drop(index=[X.index[0],X.index[1],X.index[-1],X.index[-2]]).index\n",
    "    \n",
    "    X = pd.concat([X.drop(index=[X.index[-1],X.index[-2],X.index[-3],X.index[-4]]).set_index(idx),\n",
    "                   X.drop(index=[X.index[0],X.index[-1],X.index[-2],X.index[-3]]).set_index(idx),\n",
    "                   X.drop(index=[X.index[0],X.index[1],X.index[-1],X.index[-2]]),\n",
    "                   X.drop(index=[X.index[0],X.index[1],X.index[2],X.index[-1]]).set_index(idx),\n",
    "                   X.drop(index=[X.index[0],X.index[1],X.index[2],X.index[3]]).set_index(idx)\n",
    "               ],axis=1)\n",
    "    \n",
    "    return X,y"
   ]
  },
  {
   "cell_type": "code",
   "execution_count": 4,
   "id": "533f8190-60a6-4172-8726-7413fdab4229",
   "metadata": {},
   "outputs": [],
   "source": [
    "class ChallDatatset(Dataset):\n",
    "    # train : if true, return train data. If false, return validation data\n",
    "    def __init__(self,train=True):\n",
    "        df = pd.read_hdf('../data/interim/Sol_dataset.h5', key=f'Flt1003')\n",
    "        \n",
    "        X_100302 = df[df['LINE']==1003.02].drop(columns=['LINE','IGRFMAG1'])\n",
    "        X_100308 = df[df['LINE']==1003.08].drop(columns=['LINE','IGRFMAG1'])\n",
    "        \n",
    "        y_100302 = df[df['LINE']==1003.02].loc[:,['IGRFMAG1']]\n",
    "        y_100308 = df[df['LINE']==1003.08].loc[:,['IGRFMAG1']]\n",
    "        \n",
    "        # Create 5s time frame\n",
    "        X_100302, y_100302 = create_timeframe(X_100302,y_100302)\n",
    "        X_100308, y_100308 = create_timeframe(X_100308,y_100308)\n",
    "        \n",
    "        X_100302_train, X_100302_val, y_100302_train, y_100302_val = train_test_split(X_100302,y_100302,test_size=1/5,shuffle=False)\n",
    "        X_100308_train, X_100308_val, y_100308_train, y_100308_val = train_test_split(X_100308,y_100308,test_size=1/5,shuffle=False)\n",
    "        \n",
    "        X_train = pd.concat([X_100302_train,X_100308_train],axis=0)\n",
    "        y_train = pd.concat([y_100302_train,y_100308_train],axis=0)\n",
    "        X_val   = pd.concat([X_100302_val,X_100308_val],axis=0)\n",
    "        y_val   = pd.concat([y_100302_val,y_100308_val],axis=0)\n",
    "        \n",
    "        self.X_train = torch.tensor(X_train.to_numpy(),dtype=torch.float32)\n",
    "        self.y_train = torch.tensor(y_train.to_numpy(),dtype=torch.float32)\n",
    "        self.X_val   = torch.tensor(X_val.to_numpy(),dtype=torch.float32)\n",
    "        self.y_val   = torch.tensor(y_val.to_numpy(),dtype=torch.float32)\n",
    "        \n",
    "        self.train = train\n",
    "        \n",
    "    def __len__(self):\n",
    "        if self.train == True:\n",
    "            return len(self.X_train)\n",
    "        elif self.train == False:\n",
    "            return len(self.X_val)\n",
    "        \n",
    "    def __getitem__(self,idx):\n",
    "        if self.train == True:\n",
    "            return self.X_train[idx], self.y_train[idx]\n",
    "        elif self.train == False:\n",
    "            return self.X_val[idx], self.y_val[idx]"
   ]
  },
  {
   "cell_type": "code",
   "execution_count": 5,
   "id": "37400dc0-943e-49a7-a124-b3980677e64f",
   "metadata": {},
   "outputs": [
    {
     "name": "stdout",
     "output_type": "stream",
     "text": [
      "65010\n",
      "16254\n"
     ]
    }
   ],
   "source": [
    "train = ChallDatatset(train=True)\n",
    "val = ChallDatatset(train=False)\n",
    "print(len(train))\n",
    "print(len(val))"
   ]
  },
  {
   "cell_type": "code",
   "execution_count": 6,
   "id": "19f4a0d5-3f29-4143-a599-64b9d6e5a083",
   "metadata": {},
   "outputs": [],
   "source": [
    "train_loader  = DataLoader(train,\n",
    "                           batch_size=64,\n",
    "                           shuffle=False,\n",
    "                           num_workers=8,\n",
    "                           pin_memory=False)\n",
    "\n",
    "val_loader    = DataLoader(val,\n",
    "                           batch_size=64,\n",
    "                           shuffle=False,\n",
    "                           num_workers=2,\n",
    "                           pin_memory=True)"
   ]
  },
  {
   "cell_type": "code",
   "execution_count": 7,
   "id": "4a59f35b-9241-4705-8f62-60641dced39e",
   "metadata": {},
   "outputs": [
    {
     "data": {
      "application/vnd.jupyter.widget-view+json": {
       "model_id": "08db812c5ab943d3b855e1aa504507d0",
       "version_major": 2,
       "version_minor": 0
      },
      "text/plain": [
       "Training:   0%|          | 0/500 [00:00<?, ?epoch/s]"
      ]
     },
     "metadata": {},
     "output_type": "display_data"
    },
    {
     "ename": "KeyboardInterrupt",
     "evalue": "",
     "output_type": "error",
     "traceback": [
      "\u001b[0;31m---------------------------------------------------------------------------\u001b[0m",
      "\u001b[0;31mKeyboardInterrupt\u001b[0m                         Traceback (most recent call last)",
      "Input \u001b[0;32mIn [7]\u001b[0m, in \u001b[0;36m<cell line: 49>\u001b[0;34m()\u001b[0m\n\u001b[1;32m     64\u001b[0m predictions \u001b[38;5;241m=\u001b[39m model(inputs)\n\u001b[1;32m     66\u001b[0m \u001b[38;5;66;03m# Compute the loss and its gradients\u001b[39;00m\n\u001b[0;32m---> 67\u001b[0m loss \u001b[38;5;241m=\u001b[39m \u001b[43mcriterion\u001b[49m\u001b[43m(\u001b[49m\u001b[43mpredictions\u001b[49m\u001b[43m,\u001b[49m\u001b[43m \u001b[49m\u001b[43mlabels\u001b[49m\u001b[43m)\u001b[49m\n\u001b[1;32m     68\u001b[0m loss\u001b[38;5;241m.\u001b[39mbackward()\n\u001b[1;32m     70\u001b[0m \u001b[38;5;66;03m# Adjust learning weights\u001b[39;00m\n",
      "File \u001b[0;32m~/projet_DGA/venv/lib/python3.8/site-packages/torch/nn/modules/module.py:1110\u001b[0m, in \u001b[0;36mModule._call_impl\u001b[0;34m(self, *input, **kwargs)\u001b[0m\n\u001b[1;32m   1106\u001b[0m \u001b[38;5;66;03m# If we don't have any hooks, we want to skip the rest of the logic in\u001b[39;00m\n\u001b[1;32m   1107\u001b[0m \u001b[38;5;66;03m# this function, and just call forward.\u001b[39;00m\n\u001b[1;32m   1108\u001b[0m \u001b[38;5;28;01mif\u001b[39;00m \u001b[38;5;129;01mnot\u001b[39;00m (\u001b[38;5;28mself\u001b[39m\u001b[38;5;241m.\u001b[39m_backward_hooks \u001b[38;5;129;01mor\u001b[39;00m \u001b[38;5;28mself\u001b[39m\u001b[38;5;241m.\u001b[39m_forward_hooks \u001b[38;5;129;01mor\u001b[39;00m \u001b[38;5;28mself\u001b[39m\u001b[38;5;241m.\u001b[39m_forward_pre_hooks \u001b[38;5;129;01mor\u001b[39;00m _global_backward_hooks\n\u001b[1;32m   1109\u001b[0m         \u001b[38;5;129;01mor\u001b[39;00m _global_forward_hooks \u001b[38;5;129;01mor\u001b[39;00m _global_forward_pre_hooks):\n\u001b[0;32m-> 1110\u001b[0m     \u001b[38;5;28;01mreturn\u001b[39;00m \u001b[43mforward_call\u001b[49m\u001b[43m(\u001b[49m\u001b[38;5;241;43m*\u001b[39;49m\u001b[38;5;28;43minput\u001b[39;49m\u001b[43m,\u001b[49m\u001b[43m \u001b[49m\u001b[38;5;241;43m*\u001b[39;49m\u001b[38;5;241;43m*\u001b[39;49m\u001b[43mkwargs\u001b[49m\u001b[43m)\u001b[49m\n\u001b[1;32m   1111\u001b[0m \u001b[38;5;66;03m# Do not call functions when jit is used\u001b[39;00m\n\u001b[1;32m   1112\u001b[0m full_backward_hooks, non_full_backward_hooks \u001b[38;5;241m=\u001b[39m [], []\n",
      "Input \u001b[0;32mIn [7]\u001b[0m, in \u001b[0;36mRMSELoss.forward\u001b[0;34m(self, yhat, y)\u001b[0m\n\u001b[1;32m     33\u001b[0m \u001b[38;5;28;01mdef\u001b[39;00m \u001b[38;5;21mforward\u001b[39m(\u001b[38;5;28mself\u001b[39m,yhat,y):\n\u001b[1;32m     34\u001b[0m     criterion \u001b[38;5;241m=\u001b[39m torch\u001b[38;5;241m.\u001b[39mnn\u001b[38;5;241m.\u001b[39mMSELoss()\n\u001b[0;32m---> 35\u001b[0m     loss \u001b[38;5;241m=\u001b[39m \u001b[43mtorch\u001b[49m\u001b[38;5;241;43m.\u001b[39;49m\u001b[43msqrt\u001b[49m\u001b[43m(\u001b[49m\u001b[43mcriterion\u001b[49m\u001b[43m(\u001b[49m\u001b[43myhat\u001b[49m\u001b[43m,\u001b[49m\u001b[43my\u001b[49m\u001b[43m)\u001b[49m\u001b[38;5;241;43m+\u001b[39;49m\u001b[38;5;241;43m1e-6\u001b[39;49m\u001b[43m)\u001b[49m\n\u001b[1;32m     36\u001b[0m     \u001b[38;5;28;01mreturn\u001b[39;00m loss\n",
      "\u001b[0;31mKeyboardInterrupt\u001b[0m: "
     ]
    }
   ],
   "source": [
    "def init_weights(m):\n",
    "    if isinstance(m, torch.nn.Linear):\n",
    "        torch.nn.init.xavier_uniform_(m.weight)\n",
    "        m.bias.data.fill_(0.01)\n",
    "        \n",
    "class Chall_MLP(torch.nn.Module):\n",
    "    \n",
    "    def __init__(self):\n",
    "        super(Chall_MLP, self).__init__()\n",
    "        self.architecture = torch.nn.Sequential(\n",
    "            torch.nn.Linear(55,50),\n",
    "            torch.nn.Tanh(),\n",
    "            torch.nn.Linear(50,30),\n",
    "            torch.nn.Tanh(),\n",
    "            torch.nn.Linear(30,10),\n",
    "            torch.nn.Tanh(),\n",
    "            torch.nn.Linear(10,1),\n",
    "        )\n",
    "        self.architecture.apply(init_weights)\n",
    "        \n",
    "        \n",
    "    def forward(self, x):\n",
    "        logits = self.architecture(x)\n",
    "        return logits\n",
    "\n",
    "model = Chall_MLP().to(device)\n",
    "\n",
    "class RMSELoss(torch.nn.Module):\n",
    "    \n",
    "    def __init__(self):\n",
    "        super(RMSELoss,self).__init__()\n",
    "        \n",
    "    def forward(self,yhat,y):\n",
    "        criterion = torch.nn.MSELoss()\n",
    "        loss = torch.sqrt(criterion(yhat,y)+1e-6)\n",
    "        return loss \n",
    "    \n",
    "criterion = RMSELoss()\n",
    "optimizer = torch.optim.Adam(model.parameters(),lr=1e-3) \n",
    "scheduler = torch.optim.lr_scheduler.ReduceLROnPlateau(optimizer, 'min',factor=0.9,patience=5,min_lr=1e-5)\n",
    "\n",
    "timestamp = datetime.now().strftime('%Y%m%d_%H%M%S')\n",
    "writer = SummaryWriter(f'runs/Chall_MLP_{timestamp}')\n",
    "\n",
    "EPOCHS = 500\n",
    "\n",
    "pbar = tqdm_notebook(total=EPOCHS,unit=\"epoch\",desc='Training')\n",
    "\n",
    "for epoch in range(EPOCHS):\n",
    "\n",
    "    train_running_loss = 0.\n",
    "\n",
    "    # Make sure gradient tracking is on, and do a pass over the data\n",
    "    model.train()\n",
    "\n",
    "    # Enumerate allow to track batch index and intra-epoch reporting \n",
    "    for i, (inputs, labels) in enumerate(train_loader):\n",
    "\n",
    "        inputs, labels = inputs.to(device), labels.to(device)\n",
    "        # Zero gradients for every batch\n",
    "        optimizer.zero_grad()\n",
    "\n",
    "        # Make prediction for this batch\n",
    "        predictions = model(inputs)\n",
    "\n",
    "        # Compute the loss and its gradients\n",
    "        loss = criterion(predictions, labels)\n",
    "        loss.backward()\n",
    "\n",
    "        # Adjust learning weights\n",
    "        optimizer.step()\n",
    "\n",
    "        # Gather data and report\n",
    "        train_running_loss += loss.detach().item() * inputs.size(0)\n",
    "        \n",
    "\n",
    "    avg_loss = train_running_loss/ len(train_loader.dataset)\n",
    "    writer.add_scalar('training_loss',avg_loss,epoch)\n",
    "    \n",
    "#     # Desactivate layers such as dropout or batch-normalization\n",
    "#     model.eval()\n",
    "\n",
    "#     val_running_loss = 0.0\n",
    "    \n",
    "    \n",
    "#     with torch.set_grad_enabled(False):\n",
    "#         for i, (vinputs, vlabels) in enumerate(valconcat_loader):\n",
    "\n",
    "#             voutputs = model(vinputs)\n",
    "#             vloss = criterion(voutputs, vlabels)\n",
    "#             val_running_loss += vloss.detach().item()* vinputs.size(0)\n",
    "\n",
    "#     avg_vloss = val_running_loss/len(valconcat_loader.dataset)\n",
    "    \n",
    "#     scheduler.step(avg_vloss)\n",
    "    \n",
    "#     writer.add_scalar('validation_loss',avg_vloss,epoch)\n",
    "    \n",
    "    pbar.set_postfix(train_loss=avg_loss,lr=optimizer.param_groups[0]['lr'])\n",
    "    pbar.update()"
   ]
  },
  {
   "cell_type": "code",
   "execution_count": null,
   "id": "cf6be36c-f09c-492b-a7ae-cd54b06d36dc",
   "metadata": {},
   "outputs": [],
   "source": []
  }
 ],
 "metadata": {
  "kernelspec": {
   "display_name": "Python 3 (ipykernel)",
   "language": "python",
   "name": "python3"
  },
  "language_info": {
   "codemirror_mode": {
    "name": "ipython",
    "version": 3
   },
   "file_extension": ".py",
   "mimetype": "text/x-python",
   "name": "python",
   "nbconvert_exporter": "python",
   "pygments_lexer": "ipython3",
   "version": "3.8.13"
  }
 },
 "nbformat": 4,
 "nbformat_minor": 5
}
